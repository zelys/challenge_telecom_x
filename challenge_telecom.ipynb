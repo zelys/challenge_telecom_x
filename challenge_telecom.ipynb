{
  "nbformat": 4,
  "nbformat_minor": 0,
  "metadata": {
    "colab": {
      "provenance": []
    },
    "kernelspec": {
      "name": "python3",
      "display_name": "Python 3"
    },
    "language_info": {
      "name": "python"
    }
  },
  "cells": [
    {
      "cell_type": "markdown",
      "source": [
        "# **📌 Extracción(E - Extract)**"
      ],
      "metadata": {
        "id": "uxdDkaR2FhLp"
      }
    },
    {
      "cell_type": "markdown",
      "source": [
        "## **Importando datos de Telecom X**"
      ],
      "metadata": {
        "id": "yFsFZA3WSv3G"
      }
    },
    {
      "cell_type": "code",
      "source": [
        "import pandas as pd\n",
        "import json"
      ],
      "metadata": {
        "id": "NsWAvemTTBmO"
      },
      "execution_count": 172,
      "outputs": []
    },
    {
      "cell_type": "code",
      "source": [
        "datos = 'https://drive.google.com/uc?id=1BDg6zUVXK6n-056GLQFfecA6rIM_BzGm'"
      ],
      "metadata": {
        "id": "D2-olmeht4dA"
      },
      "execution_count": 173,
      "outputs": []
    },
    {
      "cell_type": "code",
      "source": [
        "df = pd.read_json(datos)"
      ],
      "metadata": {
        "id": "PADFnsAfTUk7"
      },
      "execution_count": 174,
      "outputs": []
    },
    {
      "cell_type": "markdown",
      "source": [
        "# **🔧 Transformación (T - Transform)**"
      ],
      "metadata": {
        "id": "bvj6xRJWE9xz"
      }
    },
    {
      "cell_type": "markdown",
      "source": [
        "## **Conocer el conjunto de datos**"
      ],
      "metadata": {
        "id": "efG3c0unVtLK"
      }
    },
    {
      "cell_type": "code",
      "source": [
        "df.head(5)"
      ],
      "metadata": {
        "colab": {
          "base_uri": "https://localhost:8080/",
          "height": 206
        },
        "id": "YiQucrwKwCcV",
        "outputId": "d3c15c26-6e5f-433a-8d5f-ada068d89115"
      },
      "execution_count": 175,
      "outputs": [
        {
          "output_type": "execute_result",
          "data": {
            "text/plain": [
              "   customerID Churn                                           customer  \\\n",
              "0  0002-ORFBO    No  {'gender': 'Female', 'SeniorCitizen': 0, 'Part...   \n",
              "1  0003-MKNFE    No  {'gender': 'Male', 'SeniorCitizen': 0, 'Partne...   \n",
              "2  0004-TLHLJ   Yes  {'gender': 'Male', 'SeniorCitizen': 0, 'Partne...   \n",
              "3  0011-IGKFF   Yes  {'gender': 'Male', 'SeniorCitizen': 1, 'Partne...   \n",
              "4  0013-EXCHZ   Yes  {'gender': 'Female', 'SeniorCitizen': 1, 'Part...   \n",
              "\n",
              "                                             phone  \\\n",
              "0   {'PhoneService': 'Yes', 'MultipleLines': 'No'}   \n",
              "1  {'PhoneService': 'Yes', 'MultipleLines': 'Yes'}   \n",
              "2   {'PhoneService': 'Yes', 'MultipleLines': 'No'}   \n",
              "3   {'PhoneService': 'Yes', 'MultipleLines': 'No'}   \n",
              "4   {'PhoneService': 'Yes', 'MultipleLines': 'No'}   \n",
              "\n",
              "                                            internet  \\\n",
              "0  {'InternetService': 'DSL', 'OnlineSecurity': '...   \n",
              "1  {'InternetService': 'DSL', 'OnlineSecurity': '...   \n",
              "2  {'InternetService': 'Fiber optic', 'OnlineSecu...   \n",
              "3  {'InternetService': 'Fiber optic', 'OnlineSecu...   \n",
              "4  {'InternetService': 'Fiber optic', 'OnlineSecu...   \n",
              "\n",
              "                                             account  \n",
              "0  {'Contract': 'One year', 'PaperlessBilling': '...  \n",
              "1  {'Contract': 'Month-to-month', 'PaperlessBilli...  \n",
              "2  {'Contract': 'Month-to-month', 'PaperlessBilli...  \n",
              "3  {'Contract': 'Month-to-month', 'PaperlessBilli...  \n",
              "4  {'Contract': 'Month-to-month', 'PaperlessBilli...  "
            ],
            "text/html": [
              "\n",
              "  <div id=\"df-ab143c71-c9ea-4043-895c-7baddcc8217c\" class=\"colab-df-container\">\n",
              "    <div>\n",
              "<style scoped>\n",
              "    .dataframe tbody tr th:only-of-type {\n",
              "        vertical-align: middle;\n",
              "    }\n",
              "\n",
              "    .dataframe tbody tr th {\n",
              "        vertical-align: top;\n",
              "    }\n",
              "\n",
              "    .dataframe thead th {\n",
              "        text-align: right;\n",
              "    }\n",
              "</style>\n",
              "<table border=\"1\" class=\"dataframe\">\n",
              "  <thead>\n",
              "    <tr style=\"text-align: right;\">\n",
              "      <th></th>\n",
              "      <th>customerID</th>\n",
              "      <th>Churn</th>\n",
              "      <th>customer</th>\n",
              "      <th>phone</th>\n",
              "      <th>internet</th>\n",
              "      <th>account</th>\n",
              "    </tr>\n",
              "  </thead>\n",
              "  <tbody>\n",
              "    <tr>\n",
              "      <th>0</th>\n",
              "      <td>0002-ORFBO</td>\n",
              "      <td>No</td>\n",
              "      <td>{'gender': 'Female', 'SeniorCitizen': 0, 'Part...</td>\n",
              "      <td>{'PhoneService': 'Yes', 'MultipleLines': 'No'}</td>\n",
              "      <td>{'InternetService': 'DSL', 'OnlineSecurity': '...</td>\n",
              "      <td>{'Contract': 'One year', 'PaperlessBilling': '...</td>\n",
              "    </tr>\n",
              "    <tr>\n",
              "      <th>1</th>\n",
              "      <td>0003-MKNFE</td>\n",
              "      <td>No</td>\n",
              "      <td>{'gender': 'Male', 'SeniorCitizen': 0, 'Partne...</td>\n",
              "      <td>{'PhoneService': 'Yes', 'MultipleLines': 'Yes'}</td>\n",
              "      <td>{'InternetService': 'DSL', 'OnlineSecurity': '...</td>\n",
              "      <td>{'Contract': 'Month-to-month', 'PaperlessBilli...</td>\n",
              "    </tr>\n",
              "    <tr>\n",
              "      <th>2</th>\n",
              "      <td>0004-TLHLJ</td>\n",
              "      <td>Yes</td>\n",
              "      <td>{'gender': 'Male', 'SeniorCitizen': 0, 'Partne...</td>\n",
              "      <td>{'PhoneService': 'Yes', 'MultipleLines': 'No'}</td>\n",
              "      <td>{'InternetService': 'Fiber optic', 'OnlineSecu...</td>\n",
              "      <td>{'Contract': 'Month-to-month', 'PaperlessBilli...</td>\n",
              "    </tr>\n",
              "    <tr>\n",
              "      <th>3</th>\n",
              "      <td>0011-IGKFF</td>\n",
              "      <td>Yes</td>\n",
              "      <td>{'gender': 'Male', 'SeniorCitizen': 1, 'Partne...</td>\n",
              "      <td>{'PhoneService': 'Yes', 'MultipleLines': 'No'}</td>\n",
              "      <td>{'InternetService': 'Fiber optic', 'OnlineSecu...</td>\n",
              "      <td>{'Contract': 'Month-to-month', 'PaperlessBilli...</td>\n",
              "    </tr>\n",
              "    <tr>\n",
              "      <th>4</th>\n",
              "      <td>0013-EXCHZ</td>\n",
              "      <td>Yes</td>\n",
              "      <td>{'gender': 'Female', 'SeniorCitizen': 1, 'Part...</td>\n",
              "      <td>{'PhoneService': 'Yes', 'MultipleLines': 'No'}</td>\n",
              "      <td>{'InternetService': 'Fiber optic', 'OnlineSecu...</td>\n",
              "      <td>{'Contract': 'Month-to-month', 'PaperlessBilli...</td>\n",
              "    </tr>\n",
              "  </tbody>\n",
              "</table>\n",
              "</div>\n",
              "    <div class=\"colab-df-buttons\">\n",
              "\n",
              "  <div class=\"colab-df-container\">\n",
              "    <button class=\"colab-df-convert\" onclick=\"convertToInteractive('df-ab143c71-c9ea-4043-895c-7baddcc8217c')\"\n",
              "            title=\"Convert this dataframe to an interactive table.\"\n",
              "            style=\"display:none;\">\n",
              "\n",
              "  <svg xmlns=\"http://www.w3.org/2000/svg\" height=\"24px\" viewBox=\"0 -960 960 960\">\n",
              "    <path d=\"M120-120v-720h720v720H120Zm60-500h600v-160H180v160Zm220 220h160v-160H400v160Zm0 220h160v-160H400v160ZM180-400h160v-160H180v160Zm440 0h160v-160H620v160ZM180-180h160v-160H180v160Zm440 0h160v-160H620v160Z\"/>\n",
              "  </svg>\n",
              "    </button>\n",
              "\n",
              "  <style>\n",
              "    .colab-df-container {\n",
              "      display:flex;\n",
              "      gap: 12px;\n",
              "    }\n",
              "\n",
              "    .colab-df-convert {\n",
              "      background-color: #E8F0FE;\n",
              "      border: none;\n",
              "      border-radius: 50%;\n",
              "      cursor: pointer;\n",
              "      display: none;\n",
              "      fill: #1967D2;\n",
              "      height: 32px;\n",
              "      padding: 0 0 0 0;\n",
              "      width: 32px;\n",
              "    }\n",
              "\n",
              "    .colab-df-convert:hover {\n",
              "      background-color: #E2EBFA;\n",
              "      box-shadow: 0px 1px 2px rgba(60, 64, 67, 0.3), 0px 1px 3px 1px rgba(60, 64, 67, 0.15);\n",
              "      fill: #174EA6;\n",
              "    }\n",
              "\n",
              "    .colab-df-buttons div {\n",
              "      margin-bottom: 4px;\n",
              "    }\n",
              "\n",
              "    [theme=dark] .colab-df-convert {\n",
              "      background-color: #3B4455;\n",
              "      fill: #D2E3FC;\n",
              "    }\n",
              "\n",
              "    [theme=dark] .colab-df-convert:hover {\n",
              "      background-color: #434B5C;\n",
              "      box-shadow: 0px 1px 3px 1px rgba(0, 0, 0, 0.15);\n",
              "      filter: drop-shadow(0px 1px 2px rgba(0, 0, 0, 0.3));\n",
              "      fill: #FFFFFF;\n",
              "    }\n",
              "  </style>\n",
              "\n",
              "    <script>\n",
              "      const buttonEl =\n",
              "        document.querySelector('#df-ab143c71-c9ea-4043-895c-7baddcc8217c button.colab-df-convert');\n",
              "      buttonEl.style.display =\n",
              "        google.colab.kernel.accessAllowed ? 'block' : 'none';\n",
              "\n",
              "      async function convertToInteractive(key) {\n",
              "        const element = document.querySelector('#df-ab143c71-c9ea-4043-895c-7baddcc8217c');\n",
              "        const dataTable =\n",
              "          await google.colab.kernel.invokeFunction('convertToInteractive',\n",
              "                                                    [key], {});\n",
              "        if (!dataTable) return;\n",
              "\n",
              "        const docLinkHtml = 'Like what you see? Visit the ' +\n",
              "          '<a target=\"_blank\" href=https://colab.research.google.com/notebooks/data_table.ipynb>data table notebook</a>'\n",
              "          + ' to learn more about interactive tables.';\n",
              "        element.innerHTML = '';\n",
              "        dataTable['output_type'] = 'display_data';\n",
              "        await google.colab.output.renderOutput(dataTable, element);\n",
              "        const docLink = document.createElement('div');\n",
              "        docLink.innerHTML = docLinkHtml;\n",
              "        element.appendChild(docLink);\n",
              "      }\n",
              "    </script>\n",
              "  </div>\n",
              "\n",
              "\n",
              "    <div id=\"df-8bc1c810-9bfd-4af2-b214-ea636f8e6ff2\">\n",
              "      <button class=\"colab-df-quickchart\" onclick=\"quickchart('df-8bc1c810-9bfd-4af2-b214-ea636f8e6ff2')\"\n",
              "                title=\"Suggest charts\"\n",
              "                style=\"display:none;\">\n",
              "\n",
              "<svg xmlns=\"http://www.w3.org/2000/svg\" height=\"24px\"viewBox=\"0 0 24 24\"\n",
              "     width=\"24px\">\n",
              "    <g>\n",
              "        <path d=\"M19 3H5c-1.1 0-2 .9-2 2v14c0 1.1.9 2 2 2h14c1.1 0 2-.9 2-2V5c0-1.1-.9-2-2-2zM9 17H7v-7h2v7zm4 0h-2V7h2v10zm4 0h-2v-4h2v4z\"/>\n",
              "    </g>\n",
              "</svg>\n",
              "      </button>\n",
              "\n",
              "<style>\n",
              "  .colab-df-quickchart {\n",
              "      --bg-color: #E8F0FE;\n",
              "      --fill-color: #1967D2;\n",
              "      --hover-bg-color: #E2EBFA;\n",
              "      --hover-fill-color: #174EA6;\n",
              "      --disabled-fill-color: #AAA;\n",
              "      --disabled-bg-color: #DDD;\n",
              "  }\n",
              "\n",
              "  [theme=dark] .colab-df-quickchart {\n",
              "      --bg-color: #3B4455;\n",
              "      --fill-color: #D2E3FC;\n",
              "      --hover-bg-color: #434B5C;\n",
              "      --hover-fill-color: #FFFFFF;\n",
              "      --disabled-bg-color: #3B4455;\n",
              "      --disabled-fill-color: #666;\n",
              "  }\n",
              "\n",
              "  .colab-df-quickchart {\n",
              "    background-color: var(--bg-color);\n",
              "    border: none;\n",
              "    border-radius: 50%;\n",
              "    cursor: pointer;\n",
              "    display: none;\n",
              "    fill: var(--fill-color);\n",
              "    height: 32px;\n",
              "    padding: 0;\n",
              "    width: 32px;\n",
              "  }\n",
              "\n",
              "  .colab-df-quickchart:hover {\n",
              "    background-color: var(--hover-bg-color);\n",
              "    box-shadow: 0 1px 2px rgba(60, 64, 67, 0.3), 0 1px 3px 1px rgba(60, 64, 67, 0.15);\n",
              "    fill: var(--button-hover-fill-color);\n",
              "  }\n",
              "\n",
              "  .colab-df-quickchart-complete:disabled,\n",
              "  .colab-df-quickchart-complete:disabled:hover {\n",
              "    background-color: var(--disabled-bg-color);\n",
              "    fill: var(--disabled-fill-color);\n",
              "    box-shadow: none;\n",
              "  }\n",
              "\n",
              "  .colab-df-spinner {\n",
              "    border: 2px solid var(--fill-color);\n",
              "    border-color: transparent;\n",
              "    border-bottom-color: var(--fill-color);\n",
              "    animation:\n",
              "      spin 1s steps(1) infinite;\n",
              "  }\n",
              "\n",
              "  @keyframes spin {\n",
              "    0% {\n",
              "      border-color: transparent;\n",
              "      border-bottom-color: var(--fill-color);\n",
              "      border-left-color: var(--fill-color);\n",
              "    }\n",
              "    20% {\n",
              "      border-color: transparent;\n",
              "      border-left-color: var(--fill-color);\n",
              "      border-top-color: var(--fill-color);\n",
              "    }\n",
              "    30% {\n",
              "      border-color: transparent;\n",
              "      border-left-color: var(--fill-color);\n",
              "      border-top-color: var(--fill-color);\n",
              "      border-right-color: var(--fill-color);\n",
              "    }\n",
              "    40% {\n",
              "      border-color: transparent;\n",
              "      border-right-color: var(--fill-color);\n",
              "      border-top-color: var(--fill-color);\n",
              "    }\n",
              "    60% {\n",
              "      border-color: transparent;\n",
              "      border-right-color: var(--fill-color);\n",
              "    }\n",
              "    80% {\n",
              "      border-color: transparent;\n",
              "      border-right-color: var(--fill-color);\n",
              "      border-bottom-color: var(--fill-color);\n",
              "    }\n",
              "    90% {\n",
              "      border-color: transparent;\n",
              "      border-bottom-color: var(--fill-color);\n",
              "    }\n",
              "  }\n",
              "</style>\n",
              "\n",
              "      <script>\n",
              "        async function quickchart(key) {\n",
              "          const quickchartButtonEl =\n",
              "            document.querySelector('#' + key + ' button');\n",
              "          quickchartButtonEl.disabled = true;  // To prevent multiple clicks.\n",
              "          quickchartButtonEl.classList.add('colab-df-spinner');\n",
              "          try {\n",
              "            const charts = await google.colab.kernel.invokeFunction(\n",
              "                'suggestCharts', [key], {});\n",
              "          } catch (error) {\n",
              "            console.error('Error during call to suggestCharts:', error);\n",
              "          }\n",
              "          quickchartButtonEl.classList.remove('colab-df-spinner');\n",
              "          quickchartButtonEl.classList.add('colab-df-quickchart-complete');\n",
              "        }\n",
              "        (() => {\n",
              "          let quickchartButtonEl =\n",
              "            document.querySelector('#df-8bc1c810-9bfd-4af2-b214-ea636f8e6ff2 button');\n",
              "          quickchartButtonEl.style.display =\n",
              "            google.colab.kernel.accessAllowed ? 'block' : 'none';\n",
              "        })();\n",
              "      </script>\n",
              "    </div>\n",
              "\n",
              "    </div>\n",
              "  </div>\n"
            ],
            "application/vnd.google.colaboratory.intrinsic+json": {
              "type": "dataframe",
              "variable_name": "df",
              "summary": "{\n  \"name\": \"df\",\n  \"rows\": 7267,\n  \"fields\": [\n    {\n      \"column\": \"customerID\",\n      \"properties\": {\n        \"dtype\": \"string\",\n        \"num_unique_values\": 7267,\n        \"samples\": [\n          \"2038-OEQZH\",\n          \"6322-HRPFA\",\n          \"3969-JQABI\"\n        ],\n        \"semantic_type\": \"\",\n        \"description\": \"\"\n      }\n    },\n    {\n      \"column\": \"Churn\",\n      \"properties\": {\n        \"dtype\": \"category\",\n        \"num_unique_values\": 3,\n        \"samples\": [\n          \"No\",\n          \"Yes\",\n          \"\"\n        ],\n        \"semantic_type\": \"\",\n        \"description\": \"\"\n      }\n    },\n    {\n      \"column\": \"customer\",\n      \"properties\": {\n        \"dtype\": \"object\",\n        \"semantic_type\": \"\",\n        \"description\": \"\"\n      }\n    },\n    {\n      \"column\": \"phone\",\n      \"properties\": {\n        \"dtype\": \"object\",\n        \"semantic_type\": \"\",\n        \"description\": \"\"\n      }\n    },\n    {\n      \"column\": \"internet\",\n      \"properties\": {\n        \"dtype\": \"object\",\n        \"semantic_type\": \"\",\n        \"description\": \"\"\n      }\n    },\n    {\n      \"column\": \"account\",\n      \"properties\": {\n        \"dtype\": \"object\",\n        \"semantic_type\": \"\",\n        \"description\": \"\"\n      }\n    }\n  ]\n}"
            }
          },
          "metadata": {},
          "execution_count": 175
        }
      ]
    },
    {
      "cell_type": "markdown",
      "source": [
        "## **Normalizar columnas tipo diccionario**"
      ],
      "metadata": {
        "id": "fcD1Zoc6u7xO"
      }
    },
    {
      "cell_type": "code",
      "source": [
        "# Lista de columnas a normalizar\n",
        "cols_to_normalize = ['customer', 'phone', 'internet', 'account']"
      ],
      "metadata": {
        "id": "1trYOt57nPt8"
      },
      "execution_count": 176,
      "outputs": []
    },
    {
      "cell_type": "code",
      "source": [
        "# Crear una copia del dataframe original\n",
        "df_norm = df.copy()\n",
        "\n",
        "# Normalizar y expandir cada columna JSON en columnas individuales\n",
        "for col in cols_to_normalize:\n",
        "    df_norm = pd.concat([df_norm, pd.json_normalize(df_norm[col])], axis=1)\n",
        "    df_norm.drop(columns=[col], inplace=True)"
      ],
      "metadata": {
        "id": "xl0jupNouSMg"
      },
      "execution_count": 177,
      "outputs": []
    },
    {
      "cell_type": "code",
      "source": [
        "df_norm.head(5)"
      ],
      "metadata": {
        "colab": {
          "base_uri": "https://localhost:8080/",
          "height": 342
        },
        "id": "lG4s5FfNxTlS",
        "outputId": "c9bafaca-c984-418b-ecf5-c7150f073e10"
      },
      "execution_count": 178,
      "outputs": [
        {
          "output_type": "execute_result",
          "data": {
            "text/plain": [
              "   customerID Churn  gender  SeniorCitizen Partner Dependents  tenure  \\\n",
              "0  0002-ORFBO    No  Female              0     Yes        Yes       9   \n",
              "1  0003-MKNFE    No    Male              0      No         No       9   \n",
              "2  0004-TLHLJ   Yes    Male              0      No         No       4   \n",
              "3  0011-IGKFF   Yes    Male              1     Yes         No      13   \n",
              "4  0013-EXCHZ   Yes  Female              1     Yes         No       3   \n",
              "\n",
              "  PhoneService MultipleLines InternetService  ... OnlineBackup  \\\n",
              "0          Yes            No             DSL  ...          Yes   \n",
              "1          Yes           Yes             DSL  ...           No   \n",
              "2          Yes            No     Fiber optic  ...           No   \n",
              "3          Yes            No     Fiber optic  ...          Yes   \n",
              "4          Yes            No     Fiber optic  ...           No   \n",
              "\n",
              "  DeviceProtection TechSupport StreamingTV StreamingMovies        Contract  \\\n",
              "0               No         Yes         Yes              No        One year   \n",
              "1               No          No          No             Yes  Month-to-month   \n",
              "2              Yes          No          No              No  Month-to-month   \n",
              "3              Yes          No         Yes             Yes  Month-to-month   \n",
              "4               No         Yes         Yes              No  Month-to-month   \n",
              "\n",
              "  PaperlessBilling     PaymentMethod Charges.Monthly  Charges.Total  \n",
              "0              Yes      Mailed check            65.6          593.3  \n",
              "1               No      Mailed check            59.9          542.4  \n",
              "2              Yes  Electronic check            73.9         280.85  \n",
              "3              Yes  Electronic check            98.0        1237.85  \n",
              "4              Yes      Mailed check            83.9          267.4  \n",
              "\n",
              "[5 rows x 21 columns]"
            ],
            "text/html": [
              "\n",
              "  <div id=\"df-9a323f6e-e321-4d6e-b181-e8177240f8db\" class=\"colab-df-container\">\n",
              "    <div>\n",
              "<style scoped>\n",
              "    .dataframe tbody tr th:only-of-type {\n",
              "        vertical-align: middle;\n",
              "    }\n",
              "\n",
              "    .dataframe tbody tr th {\n",
              "        vertical-align: top;\n",
              "    }\n",
              "\n",
              "    .dataframe thead th {\n",
              "        text-align: right;\n",
              "    }\n",
              "</style>\n",
              "<table border=\"1\" class=\"dataframe\">\n",
              "  <thead>\n",
              "    <tr style=\"text-align: right;\">\n",
              "      <th></th>\n",
              "      <th>customerID</th>\n",
              "      <th>Churn</th>\n",
              "      <th>gender</th>\n",
              "      <th>SeniorCitizen</th>\n",
              "      <th>Partner</th>\n",
              "      <th>Dependents</th>\n",
              "      <th>tenure</th>\n",
              "      <th>PhoneService</th>\n",
              "      <th>MultipleLines</th>\n",
              "      <th>InternetService</th>\n",
              "      <th>...</th>\n",
              "      <th>OnlineBackup</th>\n",
              "      <th>DeviceProtection</th>\n",
              "      <th>TechSupport</th>\n",
              "      <th>StreamingTV</th>\n",
              "      <th>StreamingMovies</th>\n",
              "      <th>Contract</th>\n",
              "      <th>PaperlessBilling</th>\n",
              "      <th>PaymentMethod</th>\n",
              "      <th>Charges.Monthly</th>\n",
              "      <th>Charges.Total</th>\n",
              "    </tr>\n",
              "  </thead>\n",
              "  <tbody>\n",
              "    <tr>\n",
              "      <th>0</th>\n",
              "      <td>0002-ORFBO</td>\n",
              "      <td>No</td>\n",
              "      <td>Female</td>\n",
              "      <td>0</td>\n",
              "      <td>Yes</td>\n",
              "      <td>Yes</td>\n",
              "      <td>9</td>\n",
              "      <td>Yes</td>\n",
              "      <td>No</td>\n",
              "      <td>DSL</td>\n",
              "      <td>...</td>\n",
              "      <td>Yes</td>\n",
              "      <td>No</td>\n",
              "      <td>Yes</td>\n",
              "      <td>Yes</td>\n",
              "      <td>No</td>\n",
              "      <td>One year</td>\n",
              "      <td>Yes</td>\n",
              "      <td>Mailed check</td>\n",
              "      <td>65.6</td>\n",
              "      <td>593.3</td>\n",
              "    </tr>\n",
              "    <tr>\n",
              "      <th>1</th>\n",
              "      <td>0003-MKNFE</td>\n",
              "      <td>No</td>\n",
              "      <td>Male</td>\n",
              "      <td>0</td>\n",
              "      <td>No</td>\n",
              "      <td>No</td>\n",
              "      <td>9</td>\n",
              "      <td>Yes</td>\n",
              "      <td>Yes</td>\n",
              "      <td>DSL</td>\n",
              "      <td>...</td>\n",
              "      <td>No</td>\n",
              "      <td>No</td>\n",
              "      <td>No</td>\n",
              "      <td>No</td>\n",
              "      <td>Yes</td>\n",
              "      <td>Month-to-month</td>\n",
              "      <td>No</td>\n",
              "      <td>Mailed check</td>\n",
              "      <td>59.9</td>\n",
              "      <td>542.4</td>\n",
              "    </tr>\n",
              "    <tr>\n",
              "      <th>2</th>\n",
              "      <td>0004-TLHLJ</td>\n",
              "      <td>Yes</td>\n",
              "      <td>Male</td>\n",
              "      <td>0</td>\n",
              "      <td>No</td>\n",
              "      <td>No</td>\n",
              "      <td>4</td>\n",
              "      <td>Yes</td>\n",
              "      <td>No</td>\n",
              "      <td>Fiber optic</td>\n",
              "      <td>...</td>\n",
              "      <td>No</td>\n",
              "      <td>Yes</td>\n",
              "      <td>No</td>\n",
              "      <td>No</td>\n",
              "      <td>No</td>\n",
              "      <td>Month-to-month</td>\n",
              "      <td>Yes</td>\n",
              "      <td>Electronic check</td>\n",
              "      <td>73.9</td>\n",
              "      <td>280.85</td>\n",
              "    </tr>\n",
              "    <tr>\n",
              "      <th>3</th>\n",
              "      <td>0011-IGKFF</td>\n",
              "      <td>Yes</td>\n",
              "      <td>Male</td>\n",
              "      <td>1</td>\n",
              "      <td>Yes</td>\n",
              "      <td>No</td>\n",
              "      <td>13</td>\n",
              "      <td>Yes</td>\n",
              "      <td>No</td>\n",
              "      <td>Fiber optic</td>\n",
              "      <td>...</td>\n",
              "      <td>Yes</td>\n",
              "      <td>Yes</td>\n",
              "      <td>No</td>\n",
              "      <td>Yes</td>\n",
              "      <td>Yes</td>\n",
              "      <td>Month-to-month</td>\n",
              "      <td>Yes</td>\n",
              "      <td>Electronic check</td>\n",
              "      <td>98.0</td>\n",
              "      <td>1237.85</td>\n",
              "    </tr>\n",
              "    <tr>\n",
              "      <th>4</th>\n",
              "      <td>0013-EXCHZ</td>\n",
              "      <td>Yes</td>\n",
              "      <td>Female</td>\n",
              "      <td>1</td>\n",
              "      <td>Yes</td>\n",
              "      <td>No</td>\n",
              "      <td>3</td>\n",
              "      <td>Yes</td>\n",
              "      <td>No</td>\n",
              "      <td>Fiber optic</td>\n",
              "      <td>...</td>\n",
              "      <td>No</td>\n",
              "      <td>No</td>\n",
              "      <td>Yes</td>\n",
              "      <td>Yes</td>\n",
              "      <td>No</td>\n",
              "      <td>Month-to-month</td>\n",
              "      <td>Yes</td>\n",
              "      <td>Mailed check</td>\n",
              "      <td>83.9</td>\n",
              "      <td>267.4</td>\n",
              "    </tr>\n",
              "  </tbody>\n",
              "</table>\n",
              "<p>5 rows × 21 columns</p>\n",
              "</div>\n",
              "    <div class=\"colab-df-buttons\">\n",
              "\n",
              "  <div class=\"colab-df-container\">\n",
              "    <button class=\"colab-df-convert\" onclick=\"convertToInteractive('df-9a323f6e-e321-4d6e-b181-e8177240f8db')\"\n",
              "            title=\"Convert this dataframe to an interactive table.\"\n",
              "            style=\"display:none;\">\n",
              "\n",
              "  <svg xmlns=\"http://www.w3.org/2000/svg\" height=\"24px\" viewBox=\"0 -960 960 960\">\n",
              "    <path d=\"M120-120v-720h720v720H120Zm60-500h600v-160H180v160Zm220 220h160v-160H400v160Zm0 220h160v-160H400v160ZM180-400h160v-160H180v160Zm440 0h160v-160H620v160ZM180-180h160v-160H180v160Zm440 0h160v-160H620v160Z\"/>\n",
              "  </svg>\n",
              "    </button>\n",
              "\n",
              "  <style>\n",
              "    .colab-df-container {\n",
              "      display:flex;\n",
              "      gap: 12px;\n",
              "    }\n",
              "\n",
              "    .colab-df-convert {\n",
              "      background-color: #E8F0FE;\n",
              "      border: none;\n",
              "      border-radius: 50%;\n",
              "      cursor: pointer;\n",
              "      display: none;\n",
              "      fill: #1967D2;\n",
              "      height: 32px;\n",
              "      padding: 0 0 0 0;\n",
              "      width: 32px;\n",
              "    }\n",
              "\n",
              "    .colab-df-convert:hover {\n",
              "      background-color: #E2EBFA;\n",
              "      box-shadow: 0px 1px 2px rgba(60, 64, 67, 0.3), 0px 1px 3px 1px rgba(60, 64, 67, 0.15);\n",
              "      fill: #174EA6;\n",
              "    }\n",
              "\n",
              "    .colab-df-buttons div {\n",
              "      margin-bottom: 4px;\n",
              "    }\n",
              "\n",
              "    [theme=dark] .colab-df-convert {\n",
              "      background-color: #3B4455;\n",
              "      fill: #D2E3FC;\n",
              "    }\n",
              "\n",
              "    [theme=dark] .colab-df-convert:hover {\n",
              "      background-color: #434B5C;\n",
              "      box-shadow: 0px 1px 3px 1px rgba(0, 0, 0, 0.15);\n",
              "      filter: drop-shadow(0px 1px 2px rgba(0, 0, 0, 0.3));\n",
              "      fill: #FFFFFF;\n",
              "    }\n",
              "  </style>\n",
              "\n",
              "    <script>\n",
              "      const buttonEl =\n",
              "        document.querySelector('#df-9a323f6e-e321-4d6e-b181-e8177240f8db button.colab-df-convert');\n",
              "      buttonEl.style.display =\n",
              "        google.colab.kernel.accessAllowed ? 'block' : 'none';\n",
              "\n",
              "      async function convertToInteractive(key) {\n",
              "        const element = document.querySelector('#df-9a323f6e-e321-4d6e-b181-e8177240f8db');\n",
              "        const dataTable =\n",
              "          await google.colab.kernel.invokeFunction('convertToInteractive',\n",
              "                                                    [key], {});\n",
              "        if (!dataTable) return;\n",
              "\n",
              "        const docLinkHtml = 'Like what you see? Visit the ' +\n",
              "          '<a target=\"_blank\" href=https://colab.research.google.com/notebooks/data_table.ipynb>data table notebook</a>'\n",
              "          + ' to learn more about interactive tables.';\n",
              "        element.innerHTML = '';\n",
              "        dataTable['output_type'] = 'display_data';\n",
              "        await google.colab.output.renderOutput(dataTable, element);\n",
              "        const docLink = document.createElement('div');\n",
              "        docLink.innerHTML = docLinkHtml;\n",
              "        element.appendChild(docLink);\n",
              "      }\n",
              "    </script>\n",
              "  </div>\n",
              "\n",
              "\n",
              "    <div id=\"df-cdbea5fc-43ea-491c-a903-46f977ab9b1c\">\n",
              "      <button class=\"colab-df-quickchart\" onclick=\"quickchart('df-cdbea5fc-43ea-491c-a903-46f977ab9b1c')\"\n",
              "                title=\"Suggest charts\"\n",
              "                style=\"display:none;\">\n",
              "\n",
              "<svg xmlns=\"http://www.w3.org/2000/svg\" height=\"24px\"viewBox=\"0 0 24 24\"\n",
              "     width=\"24px\">\n",
              "    <g>\n",
              "        <path d=\"M19 3H5c-1.1 0-2 .9-2 2v14c0 1.1.9 2 2 2h14c1.1 0 2-.9 2-2V5c0-1.1-.9-2-2-2zM9 17H7v-7h2v7zm4 0h-2V7h2v10zm4 0h-2v-4h2v4z\"/>\n",
              "    </g>\n",
              "</svg>\n",
              "      </button>\n",
              "\n",
              "<style>\n",
              "  .colab-df-quickchart {\n",
              "      --bg-color: #E8F0FE;\n",
              "      --fill-color: #1967D2;\n",
              "      --hover-bg-color: #E2EBFA;\n",
              "      --hover-fill-color: #174EA6;\n",
              "      --disabled-fill-color: #AAA;\n",
              "      --disabled-bg-color: #DDD;\n",
              "  }\n",
              "\n",
              "  [theme=dark] .colab-df-quickchart {\n",
              "      --bg-color: #3B4455;\n",
              "      --fill-color: #D2E3FC;\n",
              "      --hover-bg-color: #434B5C;\n",
              "      --hover-fill-color: #FFFFFF;\n",
              "      --disabled-bg-color: #3B4455;\n",
              "      --disabled-fill-color: #666;\n",
              "  }\n",
              "\n",
              "  .colab-df-quickchart {\n",
              "    background-color: var(--bg-color);\n",
              "    border: none;\n",
              "    border-radius: 50%;\n",
              "    cursor: pointer;\n",
              "    display: none;\n",
              "    fill: var(--fill-color);\n",
              "    height: 32px;\n",
              "    padding: 0;\n",
              "    width: 32px;\n",
              "  }\n",
              "\n",
              "  .colab-df-quickchart:hover {\n",
              "    background-color: var(--hover-bg-color);\n",
              "    box-shadow: 0 1px 2px rgba(60, 64, 67, 0.3), 0 1px 3px 1px rgba(60, 64, 67, 0.15);\n",
              "    fill: var(--button-hover-fill-color);\n",
              "  }\n",
              "\n",
              "  .colab-df-quickchart-complete:disabled,\n",
              "  .colab-df-quickchart-complete:disabled:hover {\n",
              "    background-color: var(--disabled-bg-color);\n",
              "    fill: var(--disabled-fill-color);\n",
              "    box-shadow: none;\n",
              "  }\n",
              "\n",
              "  .colab-df-spinner {\n",
              "    border: 2px solid var(--fill-color);\n",
              "    border-color: transparent;\n",
              "    border-bottom-color: var(--fill-color);\n",
              "    animation:\n",
              "      spin 1s steps(1) infinite;\n",
              "  }\n",
              "\n",
              "  @keyframes spin {\n",
              "    0% {\n",
              "      border-color: transparent;\n",
              "      border-bottom-color: var(--fill-color);\n",
              "      border-left-color: var(--fill-color);\n",
              "    }\n",
              "    20% {\n",
              "      border-color: transparent;\n",
              "      border-left-color: var(--fill-color);\n",
              "      border-top-color: var(--fill-color);\n",
              "    }\n",
              "    30% {\n",
              "      border-color: transparent;\n",
              "      border-left-color: var(--fill-color);\n",
              "      border-top-color: var(--fill-color);\n",
              "      border-right-color: var(--fill-color);\n",
              "    }\n",
              "    40% {\n",
              "      border-color: transparent;\n",
              "      border-right-color: var(--fill-color);\n",
              "      border-top-color: var(--fill-color);\n",
              "    }\n",
              "    60% {\n",
              "      border-color: transparent;\n",
              "      border-right-color: var(--fill-color);\n",
              "    }\n",
              "    80% {\n",
              "      border-color: transparent;\n",
              "      border-right-color: var(--fill-color);\n",
              "      border-bottom-color: var(--fill-color);\n",
              "    }\n",
              "    90% {\n",
              "      border-color: transparent;\n",
              "      border-bottom-color: var(--fill-color);\n",
              "    }\n",
              "  }\n",
              "</style>\n",
              "\n",
              "      <script>\n",
              "        async function quickchart(key) {\n",
              "          const quickchartButtonEl =\n",
              "            document.querySelector('#' + key + ' button');\n",
              "          quickchartButtonEl.disabled = true;  // To prevent multiple clicks.\n",
              "          quickchartButtonEl.classList.add('colab-df-spinner');\n",
              "          try {\n",
              "            const charts = await google.colab.kernel.invokeFunction(\n",
              "                'suggestCharts', [key], {});\n",
              "          } catch (error) {\n",
              "            console.error('Error during call to suggestCharts:', error);\n",
              "          }\n",
              "          quickchartButtonEl.classList.remove('colab-df-spinner');\n",
              "          quickchartButtonEl.classList.add('colab-df-quickchart-complete');\n",
              "        }\n",
              "        (() => {\n",
              "          let quickchartButtonEl =\n",
              "            document.querySelector('#df-cdbea5fc-43ea-491c-a903-46f977ab9b1c button');\n",
              "          quickchartButtonEl.style.display =\n",
              "            google.colab.kernel.accessAllowed ? 'block' : 'none';\n",
              "        })();\n",
              "      </script>\n",
              "    </div>\n",
              "\n",
              "    </div>\n",
              "  </div>\n"
            ],
            "application/vnd.google.colaboratory.intrinsic+json": {
              "type": "dataframe",
              "variable_name": "df_norm"
            }
          },
          "metadata": {},
          "execution_count": 178
        }
      ]
    },
    {
      "cell_type": "markdown",
      "source": [
        "## **Comprobación de incoherencias en los datos**"
      ],
      "metadata": {
        "id": "RQpq7N9GV5rI"
      }
    },
    {
      "cell_type": "markdown",
      "source": [
        "En este paso, verifica si hay problemas en los datos que puedan afectar el análisis. Presta atención a valores ausentes, duplicados, errores de formato e inconsistencias en las categorías. Este proceso es esencial para asegurarte de que los datos estén listos para las siguientes etapas."
      ],
      "metadata": {
        "id": "_xOE_o_6WNKe"
      }
    },
    {
      "cell_type": "code",
      "source": [
        "# Verificar los tipos de datos de 'df_norm'\n",
        "df_norm.info()"
      ],
      "metadata": {
        "colab": {
          "base_uri": "https://localhost:8080/"
        },
        "id": "PGmgXWkr7aJ8",
        "outputId": "f7c11052-9103-4b66-f6e0-7ab8dfc354f4"
      },
      "execution_count": 179,
      "outputs": [
        {
          "output_type": "stream",
          "name": "stdout",
          "text": [
            "<class 'pandas.core.frame.DataFrame'>\n",
            "RangeIndex: 7267 entries, 0 to 7266\n",
            "Data columns (total 21 columns):\n",
            " #   Column            Non-Null Count  Dtype  \n",
            "---  ------            --------------  -----  \n",
            " 0   customerID        7267 non-null   object \n",
            " 1   Churn             7267 non-null   object \n",
            " 2   gender            7267 non-null   object \n",
            " 3   SeniorCitizen     7267 non-null   int64  \n",
            " 4   Partner           7267 non-null   object \n",
            " 5   Dependents        7267 non-null   object \n",
            " 6   tenure            7267 non-null   int64  \n",
            " 7   PhoneService      7267 non-null   object \n",
            " 8   MultipleLines     7267 non-null   object \n",
            " 9   InternetService   7267 non-null   object \n",
            " 10  OnlineSecurity    7267 non-null   object \n",
            " 11  OnlineBackup      7267 non-null   object \n",
            " 12  DeviceProtection  7267 non-null   object \n",
            " 13  TechSupport       7267 non-null   object \n",
            " 14  StreamingTV       7267 non-null   object \n",
            " 15  StreamingMovies   7267 non-null   object \n",
            " 16  Contract          7267 non-null   object \n",
            " 17  PaperlessBilling  7267 non-null   object \n",
            " 18  PaymentMethod     7267 non-null   object \n",
            " 19  Charges.Monthly   7267 non-null   float64\n",
            " 20  Charges.Total     7267 non-null   object \n",
            "dtypes: float64(1), int64(2), object(18)\n",
            "memory usage: 1.2+ MB\n"
          ]
        }
      ]
    },
    {
      "cell_type": "code",
      "source": [
        "# Verificar que no existan ID's duplicados\n",
        "df_norm['customerID'].duplicated().sum()"
      ],
      "metadata": {
        "colab": {
          "base_uri": "https://localhost:8080/"
        },
        "id": "S9jGZF69wS-4",
        "outputId": "df4be45f-65c0-41b0-e818-e19ef0592142"
      },
      "execution_count": 180,
      "outputs": [
        {
          "output_type": "execute_result",
          "data": {
            "text/plain": [
              "np.int64(0)"
            ]
          },
          "metadata": {},
          "execution_count": 180
        }
      ]
    },
    {
      "cell_type": "code",
      "source": [
        "# verificamos si todos los datos de la columna 'SeniorCitizen' son números\n",
        "pd.to_numeric(df_norm['SeniorCitizen'], errors='coerce').isna().sum()"
      ],
      "metadata": {
        "colab": {
          "base_uri": "https://localhost:8080/"
        },
        "id": "hZxbzSDR3If2",
        "outputId": "900ba788-fa8d-48be-e1b9-5a247b282f6f"
      },
      "execution_count": 181,
      "outputs": [
        {
          "output_type": "execute_result",
          "data": {
            "text/plain": [
              "np.int64(0)"
            ]
          },
          "metadata": {},
          "execution_count": 181
        }
      ]
    },
    {
      "cell_type": "code",
      "source": [
        "# verificar si todos los datos de la columna 'Charges.Total' son números\n",
        "pd.to_numeric(df_norm['Charges.Total'], errors='coerce').isna().sum()"
      ],
      "metadata": {
        "colab": {
          "base_uri": "https://localhost:8080/"
        },
        "id": "EftuYSTkyNEV",
        "outputId": "b0663903-c3c6-4b2b-e63d-69e07c8035bf"
      },
      "execution_count": 182,
      "outputs": [
        {
          "output_type": "execute_result",
          "data": {
            "text/plain": [
              "np.int64(11)"
            ]
          },
          "metadata": {},
          "execution_count": 182
        }
      ]
    },
    {
      "cell_type": "code",
      "source": [
        "# mostar los datos que no son números\n",
        "df_norm[pd.to_numeric(df_norm['Charges.Total'], errors='coerce').isna()]"
      ],
      "metadata": {
        "colab": {
          "base_uri": "https://localhost:8080/",
          "height": 635
        },
        "id": "R62PQh88ywVu",
        "outputId": "783cabbd-f2fa-47c8-93ee-6cc5da59b271"
      },
      "execution_count": 183,
      "outputs": [
        {
          "output_type": "execute_result",
          "data": {
            "text/plain": [
              "      customerID Churn  gender  SeniorCitizen Partner Dependents  tenure  \\\n",
              "975   1371-DWPAZ    No  Female              0     Yes        Yes       0   \n",
              "1775  2520-SGTTA    No  Female              0     Yes        Yes       0   \n",
              "1955  2775-SEFEE    No    Male              0      No        Yes       0   \n",
              "2075  2923-ARZLG    No    Male              0     Yes        Yes       0   \n",
              "2232  3115-CZMZD    No    Male              0      No        Yes       0   \n",
              "2308  3213-VVOLG    No    Male              0     Yes        Yes       0   \n",
              "2930  4075-WKNIU    No  Female              0     Yes        Yes       0   \n",
              "3134  4367-NUYAO    No    Male              0     Yes        Yes       0   \n",
              "3203  4472-LVYGI    No  Female              0     Yes        Yes       0   \n",
              "4169  5709-LVOEQ    No  Female              0     Yes        Yes       0   \n",
              "5599  7644-OMVMY    No    Male              0     Yes        Yes       0   \n",
              "\n",
              "     PhoneService     MultipleLines InternetService  ...         OnlineBackup  \\\n",
              "975            No  No phone service             DSL  ...                  Yes   \n",
              "1775          Yes                No              No  ...  No internet service   \n",
              "1955          Yes               Yes             DSL  ...                  Yes   \n",
              "2075          Yes                No              No  ...  No internet service   \n",
              "2232          Yes                No              No  ...  No internet service   \n",
              "2308          Yes               Yes              No  ...  No internet service   \n",
              "2930          Yes               Yes             DSL  ...                  Yes   \n",
              "3134          Yes               Yes              No  ...  No internet service   \n",
              "3203           No  No phone service             DSL  ...                   No   \n",
              "4169          Yes                No             DSL  ...                  Yes   \n",
              "5599          Yes                No              No  ...  No internet service   \n",
              "\n",
              "         DeviceProtection          TechSupport          StreamingTV  \\\n",
              "975                   Yes                  Yes                  Yes   \n",
              "1775  No internet service  No internet service  No internet service   \n",
              "1955                   No                  Yes                   No   \n",
              "2075  No internet service  No internet service  No internet service   \n",
              "2232  No internet service  No internet service  No internet service   \n",
              "2308  No internet service  No internet service  No internet service   \n",
              "2930                  Yes                  Yes                  Yes   \n",
              "3134  No internet service  No internet service  No internet service   \n",
              "3203                  Yes                  Yes                  Yes   \n",
              "4169                  Yes                   No                  Yes   \n",
              "5599  No internet service  No internet service  No internet service   \n",
              "\n",
              "          StreamingMovies  Contract PaperlessBilling  \\\n",
              "975                    No  Two year               No   \n",
              "1775  No internet service  Two year               No   \n",
              "1955                   No  Two year              Yes   \n",
              "2075  No internet service  One year              Yes   \n",
              "2232  No internet service  Two year               No   \n",
              "2308  No internet service  Two year               No   \n",
              "2930                   No  Two year               No   \n",
              "3134  No internet service  Two year               No   \n",
              "3203                   No  Two year              Yes   \n",
              "4169                  Yes  Two year               No   \n",
              "5599  No internet service  Two year               No   \n",
              "\n",
              "                  PaymentMethod Charges.Monthly  Charges.Total  \n",
              "975     Credit card (automatic)           56.05                 \n",
              "1775               Mailed check           20.00                 \n",
              "1955  Bank transfer (automatic)           61.90                 \n",
              "2075               Mailed check           19.70                 \n",
              "2232               Mailed check           20.25                 \n",
              "2308               Mailed check           25.35                 \n",
              "2930               Mailed check           73.35                 \n",
              "3134               Mailed check           25.75                 \n",
              "3203  Bank transfer (automatic)           52.55                 \n",
              "4169               Mailed check           80.85                 \n",
              "5599               Mailed check           19.85                 \n",
              "\n",
              "[11 rows x 21 columns]"
            ],
            "text/html": [
              "\n",
              "  <div id=\"df-7ce031a4-97d4-45f9-88ca-69bc267815b8\" class=\"colab-df-container\">\n",
              "    <div>\n",
              "<style scoped>\n",
              "    .dataframe tbody tr th:only-of-type {\n",
              "        vertical-align: middle;\n",
              "    }\n",
              "\n",
              "    .dataframe tbody tr th {\n",
              "        vertical-align: top;\n",
              "    }\n",
              "\n",
              "    .dataframe thead th {\n",
              "        text-align: right;\n",
              "    }\n",
              "</style>\n",
              "<table border=\"1\" class=\"dataframe\">\n",
              "  <thead>\n",
              "    <tr style=\"text-align: right;\">\n",
              "      <th></th>\n",
              "      <th>customerID</th>\n",
              "      <th>Churn</th>\n",
              "      <th>gender</th>\n",
              "      <th>SeniorCitizen</th>\n",
              "      <th>Partner</th>\n",
              "      <th>Dependents</th>\n",
              "      <th>tenure</th>\n",
              "      <th>PhoneService</th>\n",
              "      <th>MultipleLines</th>\n",
              "      <th>InternetService</th>\n",
              "      <th>...</th>\n",
              "      <th>OnlineBackup</th>\n",
              "      <th>DeviceProtection</th>\n",
              "      <th>TechSupport</th>\n",
              "      <th>StreamingTV</th>\n",
              "      <th>StreamingMovies</th>\n",
              "      <th>Contract</th>\n",
              "      <th>PaperlessBilling</th>\n",
              "      <th>PaymentMethod</th>\n",
              "      <th>Charges.Monthly</th>\n",
              "      <th>Charges.Total</th>\n",
              "    </tr>\n",
              "  </thead>\n",
              "  <tbody>\n",
              "    <tr>\n",
              "      <th>975</th>\n",
              "      <td>1371-DWPAZ</td>\n",
              "      <td>No</td>\n",
              "      <td>Female</td>\n",
              "      <td>0</td>\n",
              "      <td>Yes</td>\n",
              "      <td>Yes</td>\n",
              "      <td>0</td>\n",
              "      <td>No</td>\n",
              "      <td>No phone service</td>\n",
              "      <td>DSL</td>\n",
              "      <td>...</td>\n",
              "      <td>Yes</td>\n",
              "      <td>Yes</td>\n",
              "      <td>Yes</td>\n",
              "      <td>Yes</td>\n",
              "      <td>No</td>\n",
              "      <td>Two year</td>\n",
              "      <td>No</td>\n",
              "      <td>Credit card (automatic)</td>\n",
              "      <td>56.05</td>\n",
              "      <td></td>\n",
              "    </tr>\n",
              "    <tr>\n",
              "      <th>1775</th>\n",
              "      <td>2520-SGTTA</td>\n",
              "      <td>No</td>\n",
              "      <td>Female</td>\n",
              "      <td>0</td>\n",
              "      <td>Yes</td>\n",
              "      <td>Yes</td>\n",
              "      <td>0</td>\n",
              "      <td>Yes</td>\n",
              "      <td>No</td>\n",
              "      <td>No</td>\n",
              "      <td>...</td>\n",
              "      <td>No internet service</td>\n",
              "      <td>No internet service</td>\n",
              "      <td>No internet service</td>\n",
              "      <td>No internet service</td>\n",
              "      <td>No internet service</td>\n",
              "      <td>Two year</td>\n",
              "      <td>No</td>\n",
              "      <td>Mailed check</td>\n",
              "      <td>20.00</td>\n",
              "      <td></td>\n",
              "    </tr>\n",
              "    <tr>\n",
              "      <th>1955</th>\n",
              "      <td>2775-SEFEE</td>\n",
              "      <td>No</td>\n",
              "      <td>Male</td>\n",
              "      <td>0</td>\n",
              "      <td>No</td>\n",
              "      <td>Yes</td>\n",
              "      <td>0</td>\n",
              "      <td>Yes</td>\n",
              "      <td>Yes</td>\n",
              "      <td>DSL</td>\n",
              "      <td>...</td>\n",
              "      <td>Yes</td>\n",
              "      <td>No</td>\n",
              "      <td>Yes</td>\n",
              "      <td>No</td>\n",
              "      <td>No</td>\n",
              "      <td>Two year</td>\n",
              "      <td>Yes</td>\n",
              "      <td>Bank transfer (automatic)</td>\n",
              "      <td>61.90</td>\n",
              "      <td></td>\n",
              "    </tr>\n",
              "    <tr>\n",
              "      <th>2075</th>\n",
              "      <td>2923-ARZLG</td>\n",
              "      <td>No</td>\n",
              "      <td>Male</td>\n",
              "      <td>0</td>\n",
              "      <td>Yes</td>\n",
              "      <td>Yes</td>\n",
              "      <td>0</td>\n",
              "      <td>Yes</td>\n",
              "      <td>No</td>\n",
              "      <td>No</td>\n",
              "      <td>...</td>\n",
              "      <td>No internet service</td>\n",
              "      <td>No internet service</td>\n",
              "      <td>No internet service</td>\n",
              "      <td>No internet service</td>\n",
              "      <td>No internet service</td>\n",
              "      <td>One year</td>\n",
              "      <td>Yes</td>\n",
              "      <td>Mailed check</td>\n",
              "      <td>19.70</td>\n",
              "      <td></td>\n",
              "    </tr>\n",
              "    <tr>\n",
              "      <th>2232</th>\n",
              "      <td>3115-CZMZD</td>\n",
              "      <td>No</td>\n",
              "      <td>Male</td>\n",
              "      <td>0</td>\n",
              "      <td>No</td>\n",
              "      <td>Yes</td>\n",
              "      <td>0</td>\n",
              "      <td>Yes</td>\n",
              "      <td>No</td>\n",
              "      <td>No</td>\n",
              "      <td>...</td>\n",
              "      <td>No internet service</td>\n",
              "      <td>No internet service</td>\n",
              "      <td>No internet service</td>\n",
              "      <td>No internet service</td>\n",
              "      <td>No internet service</td>\n",
              "      <td>Two year</td>\n",
              "      <td>No</td>\n",
              "      <td>Mailed check</td>\n",
              "      <td>20.25</td>\n",
              "      <td></td>\n",
              "    </tr>\n",
              "    <tr>\n",
              "      <th>2308</th>\n",
              "      <td>3213-VVOLG</td>\n",
              "      <td>No</td>\n",
              "      <td>Male</td>\n",
              "      <td>0</td>\n",
              "      <td>Yes</td>\n",
              "      <td>Yes</td>\n",
              "      <td>0</td>\n",
              "      <td>Yes</td>\n",
              "      <td>Yes</td>\n",
              "      <td>No</td>\n",
              "      <td>...</td>\n",
              "      <td>No internet service</td>\n",
              "      <td>No internet service</td>\n",
              "      <td>No internet service</td>\n",
              "      <td>No internet service</td>\n",
              "      <td>No internet service</td>\n",
              "      <td>Two year</td>\n",
              "      <td>No</td>\n",
              "      <td>Mailed check</td>\n",
              "      <td>25.35</td>\n",
              "      <td></td>\n",
              "    </tr>\n",
              "    <tr>\n",
              "      <th>2930</th>\n",
              "      <td>4075-WKNIU</td>\n",
              "      <td>No</td>\n",
              "      <td>Female</td>\n",
              "      <td>0</td>\n",
              "      <td>Yes</td>\n",
              "      <td>Yes</td>\n",
              "      <td>0</td>\n",
              "      <td>Yes</td>\n",
              "      <td>Yes</td>\n",
              "      <td>DSL</td>\n",
              "      <td>...</td>\n",
              "      <td>Yes</td>\n",
              "      <td>Yes</td>\n",
              "      <td>Yes</td>\n",
              "      <td>Yes</td>\n",
              "      <td>No</td>\n",
              "      <td>Two year</td>\n",
              "      <td>No</td>\n",
              "      <td>Mailed check</td>\n",
              "      <td>73.35</td>\n",
              "      <td></td>\n",
              "    </tr>\n",
              "    <tr>\n",
              "      <th>3134</th>\n",
              "      <td>4367-NUYAO</td>\n",
              "      <td>No</td>\n",
              "      <td>Male</td>\n",
              "      <td>0</td>\n",
              "      <td>Yes</td>\n",
              "      <td>Yes</td>\n",
              "      <td>0</td>\n",
              "      <td>Yes</td>\n",
              "      <td>Yes</td>\n",
              "      <td>No</td>\n",
              "      <td>...</td>\n",
              "      <td>No internet service</td>\n",
              "      <td>No internet service</td>\n",
              "      <td>No internet service</td>\n",
              "      <td>No internet service</td>\n",
              "      <td>No internet service</td>\n",
              "      <td>Two year</td>\n",
              "      <td>No</td>\n",
              "      <td>Mailed check</td>\n",
              "      <td>25.75</td>\n",
              "      <td></td>\n",
              "    </tr>\n",
              "    <tr>\n",
              "      <th>3203</th>\n",
              "      <td>4472-LVYGI</td>\n",
              "      <td>No</td>\n",
              "      <td>Female</td>\n",
              "      <td>0</td>\n",
              "      <td>Yes</td>\n",
              "      <td>Yes</td>\n",
              "      <td>0</td>\n",
              "      <td>No</td>\n",
              "      <td>No phone service</td>\n",
              "      <td>DSL</td>\n",
              "      <td>...</td>\n",
              "      <td>No</td>\n",
              "      <td>Yes</td>\n",
              "      <td>Yes</td>\n",
              "      <td>Yes</td>\n",
              "      <td>No</td>\n",
              "      <td>Two year</td>\n",
              "      <td>Yes</td>\n",
              "      <td>Bank transfer (automatic)</td>\n",
              "      <td>52.55</td>\n",
              "      <td></td>\n",
              "    </tr>\n",
              "    <tr>\n",
              "      <th>4169</th>\n",
              "      <td>5709-LVOEQ</td>\n",
              "      <td>No</td>\n",
              "      <td>Female</td>\n",
              "      <td>0</td>\n",
              "      <td>Yes</td>\n",
              "      <td>Yes</td>\n",
              "      <td>0</td>\n",
              "      <td>Yes</td>\n",
              "      <td>No</td>\n",
              "      <td>DSL</td>\n",
              "      <td>...</td>\n",
              "      <td>Yes</td>\n",
              "      <td>Yes</td>\n",
              "      <td>No</td>\n",
              "      <td>Yes</td>\n",
              "      <td>Yes</td>\n",
              "      <td>Two year</td>\n",
              "      <td>No</td>\n",
              "      <td>Mailed check</td>\n",
              "      <td>80.85</td>\n",
              "      <td></td>\n",
              "    </tr>\n",
              "    <tr>\n",
              "      <th>5599</th>\n",
              "      <td>7644-OMVMY</td>\n",
              "      <td>No</td>\n",
              "      <td>Male</td>\n",
              "      <td>0</td>\n",
              "      <td>Yes</td>\n",
              "      <td>Yes</td>\n",
              "      <td>0</td>\n",
              "      <td>Yes</td>\n",
              "      <td>No</td>\n",
              "      <td>No</td>\n",
              "      <td>...</td>\n",
              "      <td>No internet service</td>\n",
              "      <td>No internet service</td>\n",
              "      <td>No internet service</td>\n",
              "      <td>No internet service</td>\n",
              "      <td>No internet service</td>\n",
              "      <td>Two year</td>\n",
              "      <td>No</td>\n",
              "      <td>Mailed check</td>\n",
              "      <td>19.85</td>\n",
              "      <td></td>\n",
              "    </tr>\n",
              "  </tbody>\n",
              "</table>\n",
              "<p>11 rows × 21 columns</p>\n",
              "</div>\n",
              "    <div class=\"colab-df-buttons\">\n",
              "\n",
              "  <div class=\"colab-df-container\">\n",
              "    <button class=\"colab-df-convert\" onclick=\"convertToInteractive('df-7ce031a4-97d4-45f9-88ca-69bc267815b8')\"\n",
              "            title=\"Convert this dataframe to an interactive table.\"\n",
              "            style=\"display:none;\">\n",
              "\n",
              "  <svg xmlns=\"http://www.w3.org/2000/svg\" height=\"24px\" viewBox=\"0 -960 960 960\">\n",
              "    <path d=\"M120-120v-720h720v720H120Zm60-500h600v-160H180v160Zm220 220h160v-160H400v160Zm0 220h160v-160H400v160ZM180-400h160v-160H180v160Zm440 0h160v-160H620v160ZM180-180h160v-160H180v160Zm440 0h160v-160H620v160Z\"/>\n",
              "  </svg>\n",
              "    </button>\n",
              "\n",
              "  <style>\n",
              "    .colab-df-container {\n",
              "      display:flex;\n",
              "      gap: 12px;\n",
              "    }\n",
              "\n",
              "    .colab-df-convert {\n",
              "      background-color: #E8F0FE;\n",
              "      border: none;\n",
              "      border-radius: 50%;\n",
              "      cursor: pointer;\n",
              "      display: none;\n",
              "      fill: #1967D2;\n",
              "      height: 32px;\n",
              "      padding: 0 0 0 0;\n",
              "      width: 32px;\n",
              "    }\n",
              "\n",
              "    .colab-df-convert:hover {\n",
              "      background-color: #E2EBFA;\n",
              "      box-shadow: 0px 1px 2px rgba(60, 64, 67, 0.3), 0px 1px 3px 1px rgba(60, 64, 67, 0.15);\n",
              "      fill: #174EA6;\n",
              "    }\n",
              "\n",
              "    .colab-df-buttons div {\n",
              "      margin-bottom: 4px;\n",
              "    }\n",
              "\n",
              "    [theme=dark] .colab-df-convert {\n",
              "      background-color: #3B4455;\n",
              "      fill: #D2E3FC;\n",
              "    }\n",
              "\n",
              "    [theme=dark] .colab-df-convert:hover {\n",
              "      background-color: #434B5C;\n",
              "      box-shadow: 0px 1px 3px 1px rgba(0, 0, 0, 0.15);\n",
              "      filter: drop-shadow(0px 1px 2px rgba(0, 0, 0, 0.3));\n",
              "      fill: #FFFFFF;\n",
              "    }\n",
              "  </style>\n",
              "\n",
              "    <script>\n",
              "      const buttonEl =\n",
              "        document.querySelector('#df-7ce031a4-97d4-45f9-88ca-69bc267815b8 button.colab-df-convert');\n",
              "      buttonEl.style.display =\n",
              "        google.colab.kernel.accessAllowed ? 'block' : 'none';\n",
              "\n",
              "      async function convertToInteractive(key) {\n",
              "        const element = document.querySelector('#df-7ce031a4-97d4-45f9-88ca-69bc267815b8');\n",
              "        const dataTable =\n",
              "          await google.colab.kernel.invokeFunction('convertToInteractive',\n",
              "                                                    [key], {});\n",
              "        if (!dataTable) return;\n",
              "\n",
              "        const docLinkHtml = 'Like what you see? Visit the ' +\n",
              "          '<a target=\"_blank\" href=https://colab.research.google.com/notebooks/data_table.ipynb>data table notebook</a>'\n",
              "          + ' to learn more about interactive tables.';\n",
              "        element.innerHTML = '';\n",
              "        dataTable['output_type'] = 'display_data';\n",
              "        await google.colab.output.renderOutput(dataTable, element);\n",
              "        const docLink = document.createElement('div');\n",
              "        docLink.innerHTML = docLinkHtml;\n",
              "        element.appendChild(docLink);\n",
              "      }\n",
              "    </script>\n",
              "  </div>\n",
              "\n",
              "\n",
              "    <div id=\"df-bd46fd28-7710-4464-aca2-3339419448e3\">\n",
              "      <button class=\"colab-df-quickchart\" onclick=\"quickchart('df-bd46fd28-7710-4464-aca2-3339419448e3')\"\n",
              "                title=\"Suggest charts\"\n",
              "                style=\"display:none;\">\n",
              "\n",
              "<svg xmlns=\"http://www.w3.org/2000/svg\" height=\"24px\"viewBox=\"0 0 24 24\"\n",
              "     width=\"24px\">\n",
              "    <g>\n",
              "        <path d=\"M19 3H5c-1.1 0-2 .9-2 2v14c0 1.1.9 2 2 2h14c1.1 0 2-.9 2-2V5c0-1.1-.9-2-2-2zM9 17H7v-7h2v7zm4 0h-2V7h2v10zm4 0h-2v-4h2v4z\"/>\n",
              "    </g>\n",
              "</svg>\n",
              "      </button>\n",
              "\n",
              "<style>\n",
              "  .colab-df-quickchart {\n",
              "      --bg-color: #E8F0FE;\n",
              "      --fill-color: #1967D2;\n",
              "      --hover-bg-color: #E2EBFA;\n",
              "      --hover-fill-color: #174EA6;\n",
              "      --disabled-fill-color: #AAA;\n",
              "      --disabled-bg-color: #DDD;\n",
              "  }\n",
              "\n",
              "  [theme=dark] .colab-df-quickchart {\n",
              "      --bg-color: #3B4455;\n",
              "      --fill-color: #D2E3FC;\n",
              "      --hover-bg-color: #434B5C;\n",
              "      --hover-fill-color: #FFFFFF;\n",
              "      --disabled-bg-color: #3B4455;\n",
              "      --disabled-fill-color: #666;\n",
              "  }\n",
              "\n",
              "  .colab-df-quickchart {\n",
              "    background-color: var(--bg-color);\n",
              "    border: none;\n",
              "    border-radius: 50%;\n",
              "    cursor: pointer;\n",
              "    display: none;\n",
              "    fill: var(--fill-color);\n",
              "    height: 32px;\n",
              "    padding: 0;\n",
              "    width: 32px;\n",
              "  }\n",
              "\n",
              "  .colab-df-quickchart:hover {\n",
              "    background-color: var(--hover-bg-color);\n",
              "    box-shadow: 0 1px 2px rgba(60, 64, 67, 0.3), 0 1px 3px 1px rgba(60, 64, 67, 0.15);\n",
              "    fill: var(--button-hover-fill-color);\n",
              "  }\n",
              "\n",
              "  .colab-df-quickchart-complete:disabled,\n",
              "  .colab-df-quickchart-complete:disabled:hover {\n",
              "    background-color: var(--disabled-bg-color);\n",
              "    fill: var(--disabled-fill-color);\n",
              "    box-shadow: none;\n",
              "  }\n",
              "\n",
              "  .colab-df-spinner {\n",
              "    border: 2px solid var(--fill-color);\n",
              "    border-color: transparent;\n",
              "    border-bottom-color: var(--fill-color);\n",
              "    animation:\n",
              "      spin 1s steps(1) infinite;\n",
              "  }\n",
              "\n",
              "  @keyframes spin {\n",
              "    0% {\n",
              "      border-color: transparent;\n",
              "      border-bottom-color: var(--fill-color);\n",
              "      border-left-color: var(--fill-color);\n",
              "    }\n",
              "    20% {\n",
              "      border-color: transparent;\n",
              "      border-left-color: var(--fill-color);\n",
              "      border-top-color: var(--fill-color);\n",
              "    }\n",
              "    30% {\n",
              "      border-color: transparent;\n",
              "      border-left-color: var(--fill-color);\n",
              "      border-top-color: var(--fill-color);\n",
              "      border-right-color: var(--fill-color);\n",
              "    }\n",
              "    40% {\n",
              "      border-color: transparent;\n",
              "      border-right-color: var(--fill-color);\n",
              "      border-top-color: var(--fill-color);\n",
              "    }\n",
              "    60% {\n",
              "      border-color: transparent;\n",
              "      border-right-color: var(--fill-color);\n",
              "    }\n",
              "    80% {\n",
              "      border-color: transparent;\n",
              "      border-right-color: var(--fill-color);\n",
              "      border-bottom-color: var(--fill-color);\n",
              "    }\n",
              "    90% {\n",
              "      border-color: transparent;\n",
              "      border-bottom-color: var(--fill-color);\n",
              "    }\n",
              "  }\n",
              "</style>\n",
              "\n",
              "      <script>\n",
              "        async function quickchart(key) {\n",
              "          const quickchartButtonEl =\n",
              "            document.querySelector('#' + key + ' button');\n",
              "          quickchartButtonEl.disabled = true;  // To prevent multiple clicks.\n",
              "          quickchartButtonEl.classList.add('colab-df-spinner');\n",
              "          try {\n",
              "            const charts = await google.colab.kernel.invokeFunction(\n",
              "                'suggestCharts', [key], {});\n",
              "          } catch (error) {\n",
              "            console.error('Error during call to suggestCharts:', error);\n",
              "          }\n",
              "          quickchartButtonEl.classList.remove('colab-df-spinner');\n",
              "          quickchartButtonEl.classList.add('colab-df-quickchart-complete');\n",
              "        }\n",
              "        (() => {\n",
              "          let quickchartButtonEl =\n",
              "            document.querySelector('#df-bd46fd28-7710-4464-aca2-3339419448e3 button');\n",
              "          quickchartButtonEl.style.display =\n",
              "            google.colab.kernel.accessAllowed ? 'block' : 'none';\n",
              "        })();\n",
              "      </script>\n",
              "    </div>\n",
              "\n",
              "    </div>\n",
              "  </div>\n"
            ],
            "application/vnd.google.colaboratory.intrinsic+json": {
              "type": "dataframe"
            }
          },
          "metadata": {},
          "execution_count": 183
        }
      ]
    },
    {
      "cell_type": "markdown",
      "source": [
        "## **Manejo de inconsistencias**"
      ],
      "metadata": {
        "id": "S5E2HX2qWP5m"
      }
    },
    {
      "cell_type": "code",
      "source": [
        "# Vamos a converir la columna 'SeniorCitizen' a tipo de dato 'bool'\n",
        "df_norm['SeniorCitizen'] = df_norm['SeniorCitizen'].astype('bool')"
      ],
      "metadata": {
        "id": "0shFkjY-CSrj"
      },
      "execution_count": 184,
      "outputs": []
    },
    {
      "cell_type": "code",
      "source": [
        "# A los campos vacios de 'Charges.Total' agregar un 0\n",
        "df_norm['Charges.Total'] = pd.to_numeric(df_norm['Charges.Total'], errors='coerce').fillna(0)"
      ],
      "metadata": {
        "id": "eNqnAgZ37h-E"
      },
      "execution_count": 185,
      "outputs": []
    },
    {
      "cell_type": "code",
      "source": [
        "pd.to_numeric(df_norm['Charges.Total'], errors='coerce').isna().sum()"
      ],
      "metadata": {
        "colab": {
          "base_uri": "https://localhost:8080/"
        },
        "id": "j0_l_RVr7loO",
        "outputId": "81a14a4b-81a5-4aad-8345-7ae793875285"
      },
      "execution_count": 186,
      "outputs": [
        {
          "output_type": "execute_result",
          "data": {
            "text/plain": [
              "np.int64(0)"
            ]
          },
          "metadata": {},
          "execution_count": 186
        }
      ]
    },
    {
      "cell_type": "code",
      "source": [
        "# Convertir 'Charges.Total' a tipo de dato float64\n",
        "df_norm['Charges.Total'] = df_norm['Charges.Total'].astype('float64')"
      ],
      "metadata": {
        "id": "Lqm9UJlS7o7Z"
      },
      "execution_count": 187,
      "outputs": []
    },
    {
      "cell_type": "markdown",
      "source": [
        "## **Vamos a conservar solo las columnas que**:\n",
        "- Pueden influir en la decisión de cancelar de los clientes.\n",
        "- No son redundantes ni irrelevantes para el modelo de análisis."
      ],
      "metadata": {
        "id": "CGhCcAov8c_m"
      }
    },
    {
      "cell_type": "code",
      "source": [
        "# eliminamos la columna 'customerID'\n",
        "df_norm = df_norm.drop(columns=['customerID'])"
      ],
      "metadata": {
        "id": "s35EZfy18ROi"
      },
      "execution_count": 188,
      "outputs": []
    },
    {
      "cell_type": "code",
      "source": [
        "df_norm.head(5)"
      ],
      "metadata": {
        "colab": {
          "base_uri": "https://localhost:8080/",
          "height": 296
        },
        "id": "U2JPx_8d8-Sh",
        "outputId": "71b0e82f-7637-47cd-978e-f1e430a6d37a"
      },
      "execution_count": 189,
      "outputs": [
        {
          "output_type": "execute_result",
          "data": {
            "text/plain": [
              "  Churn  gender  SeniorCitizen Partner Dependents  tenure PhoneService  \\\n",
              "0    No  Female          False     Yes        Yes       9          Yes   \n",
              "1    No    Male          False      No         No       9          Yes   \n",
              "2   Yes    Male          False      No         No       4          Yes   \n",
              "3   Yes    Male           True     Yes         No      13          Yes   \n",
              "4   Yes  Female           True     Yes         No       3          Yes   \n",
              "\n",
              "  MultipleLines InternetService OnlineSecurity OnlineBackup DeviceProtection  \\\n",
              "0            No             DSL             No          Yes               No   \n",
              "1           Yes             DSL             No           No               No   \n",
              "2            No     Fiber optic             No           No              Yes   \n",
              "3            No     Fiber optic             No          Yes              Yes   \n",
              "4            No     Fiber optic             No           No               No   \n",
              "\n",
              "  TechSupport StreamingTV StreamingMovies        Contract PaperlessBilling  \\\n",
              "0         Yes         Yes              No        One year              Yes   \n",
              "1          No          No             Yes  Month-to-month               No   \n",
              "2          No          No              No  Month-to-month              Yes   \n",
              "3          No         Yes             Yes  Month-to-month              Yes   \n",
              "4         Yes         Yes              No  Month-to-month              Yes   \n",
              "\n",
              "      PaymentMethod  Charges.Monthly  Charges.Total  \n",
              "0      Mailed check             65.6         593.30  \n",
              "1      Mailed check             59.9         542.40  \n",
              "2  Electronic check             73.9         280.85  \n",
              "3  Electronic check             98.0        1237.85  \n",
              "4      Mailed check             83.9         267.40  "
            ],
            "text/html": [
              "\n",
              "  <div id=\"df-59df6580-7063-4a45-a47d-9f7a6f5f8f78\" class=\"colab-df-container\">\n",
              "    <div>\n",
              "<style scoped>\n",
              "    .dataframe tbody tr th:only-of-type {\n",
              "        vertical-align: middle;\n",
              "    }\n",
              "\n",
              "    .dataframe tbody tr th {\n",
              "        vertical-align: top;\n",
              "    }\n",
              "\n",
              "    .dataframe thead th {\n",
              "        text-align: right;\n",
              "    }\n",
              "</style>\n",
              "<table border=\"1\" class=\"dataframe\">\n",
              "  <thead>\n",
              "    <tr style=\"text-align: right;\">\n",
              "      <th></th>\n",
              "      <th>Churn</th>\n",
              "      <th>gender</th>\n",
              "      <th>SeniorCitizen</th>\n",
              "      <th>Partner</th>\n",
              "      <th>Dependents</th>\n",
              "      <th>tenure</th>\n",
              "      <th>PhoneService</th>\n",
              "      <th>MultipleLines</th>\n",
              "      <th>InternetService</th>\n",
              "      <th>OnlineSecurity</th>\n",
              "      <th>OnlineBackup</th>\n",
              "      <th>DeviceProtection</th>\n",
              "      <th>TechSupport</th>\n",
              "      <th>StreamingTV</th>\n",
              "      <th>StreamingMovies</th>\n",
              "      <th>Contract</th>\n",
              "      <th>PaperlessBilling</th>\n",
              "      <th>PaymentMethod</th>\n",
              "      <th>Charges.Monthly</th>\n",
              "      <th>Charges.Total</th>\n",
              "    </tr>\n",
              "  </thead>\n",
              "  <tbody>\n",
              "    <tr>\n",
              "      <th>0</th>\n",
              "      <td>No</td>\n",
              "      <td>Female</td>\n",
              "      <td>False</td>\n",
              "      <td>Yes</td>\n",
              "      <td>Yes</td>\n",
              "      <td>9</td>\n",
              "      <td>Yes</td>\n",
              "      <td>No</td>\n",
              "      <td>DSL</td>\n",
              "      <td>No</td>\n",
              "      <td>Yes</td>\n",
              "      <td>No</td>\n",
              "      <td>Yes</td>\n",
              "      <td>Yes</td>\n",
              "      <td>No</td>\n",
              "      <td>One year</td>\n",
              "      <td>Yes</td>\n",
              "      <td>Mailed check</td>\n",
              "      <td>65.6</td>\n",
              "      <td>593.30</td>\n",
              "    </tr>\n",
              "    <tr>\n",
              "      <th>1</th>\n",
              "      <td>No</td>\n",
              "      <td>Male</td>\n",
              "      <td>False</td>\n",
              "      <td>No</td>\n",
              "      <td>No</td>\n",
              "      <td>9</td>\n",
              "      <td>Yes</td>\n",
              "      <td>Yes</td>\n",
              "      <td>DSL</td>\n",
              "      <td>No</td>\n",
              "      <td>No</td>\n",
              "      <td>No</td>\n",
              "      <td>No</td>\n",
              "      <td>No</td>\n",
              "      <td>Yes</td>\n",
              "      <td>Month-to-month</td>\n",
              "      <td>No</td>\n",
              "      <td>Mailed check</td>\n",
              "      <td>59.9</td>\n",
              "      <td>542.40</td>\n",
              "    </tr>\n",
              "    <tr>\n",
              "      <th>2</th>\n",
              "      <td>Yes</td>\n",
              "      <td>Male</td>\n",
              "      <td>False</td>\n",
              "      <td>No</td>\n",
              "      <td>No</td>\n",
              "      <td>4</td>\n",
              "      <td>Yes</td>\n",
              "      <td>No</td>\n",
              "      <td>Fiber optic</td>\n",
              "      <td>No</td>\n",
              "      <td>No</td>\n",
              "      <td>Yes</td>\n",
              "      <td>No</td>\n",
              "      <td>No</td>\n",
              "      <td>No</td>\n",
              "      <td>Month-to-month</td>\n",
              "      <td>Yes</td>\n",
              "      <td>Electronic check</td>\n",
              "      <td>73.9</td>\n",
              "      <td>280.85</td>\n",
              "    </tr>\n",
              "    <tr>\n",
              "      <th>3</th>\n",
              "      <td>Yes</td>\n",
              "      <td>Male</td>\n",
              "      <td>True</td>\n",
              "      <td>Yes</td>\n",
              "      <td>No</td>\n",
              "      <td>13</td>\n",
              "      <td>Yes</td>\n",
              "      <td>No</td>\n",
              "      <td>Fiber optic</td>\n",
              "      <td>No</td>\n",
              "      <td>Yes</td>\n",
              "      <td>Yes</td>\n",
              "      <td>No</td>\n",
              "      <td>Yes</td>\n",
              "      <td>Yes</td>\n",
              "      <td>Month-to-month</td>\n",
              "      <td>Yes</td>\n",
              "      <td>Electronic check</td>\n",
              "      <td>98.0</td>\n",
              "      <td>1237.85</td>\n",
              "    </tr>\n",
              "    <tr>\n",
              "      <th>4</th>\n",
              "      <td>Yes</td>\n",
              "      <td>Female</td>\n",
              "      <td>True</td>\n",
              "      <td>Yes</td>\n",
              "      <td>No</td>\n",
              "      <td>3</td>\n",
              "      <td>Yes</td>\n",
              "      <td>No</td>\n",
              "      <td>Fiber optic</td>\n",
              "      <td>No</td>\n",
              "      <td>No</td>\n",
              "      <td>No</td>\n",
              "      <td>Yes</td>\n",
              "      <td>Yes</td>\n",
              "      <td>No</td>\n",
              "      <td>Month-to-month</td>\n",
              "      <td>Yes</td>\n",
              "      <td>Mailed check</td>\n",
              "      <td>83.9</td>\n",
              "      <td>267.40</td>\n",
              "    </tr>\n",
              "  </tbody>\n",
              "</table>\n",
              "</div>\n",
              "    <div class=\"colab-df-buttons\">\n",
              "\n",
              "  <div class=\"colab-df-container\">\n",
              "    <button class=\"colab-df-convert\" onclick=\"convertToInteractive('df-59df6580-7063-4a45-a47d-9f7a6f5f8f78')\"\n",
              "            title=\"Convert this dataframe to an interactive table.\"\n",
              "            style=\"display:none;\">\n",
              "\n",
              "  <svg xmlns=\"http://www.w3.org/2000/svg\" height=\"24px\" viewBox=\"0 -960 960 960\">\n",
              "    <path d=\"M120-120v-720h720v720H120Zm60-500h600v-160H180v160Zm220 220h160v-160H400v160Zm0 220h160v-160H400v160ZM180-400h160v-160H180v160Zm440 0h160v-160H620v160ZM180-180h160v-160H180v160Zm440 0h160v-160H620v160Z\"/>\n",
              "  </svg>\n",
              "    </button>\n",
              "\n",
              "  <style>\n",
              "    .colab-df-container {\n",
              "      display:flex;\n",
              "      gap: 12px;\n",
              "    }\n",
              "\n",
              "    .colab-df-convert {\n",
              "      background-color: #E8F0FE;\n",
              "      border: none;\n",
              "      border-radius: 50%;\n",
              "      cursor: pointer;\n",
              "      display: none;\n",
              "      fill: #1967D2;\n",
              "      height: 32px;\n",
              "      padding: 0 0 0 0;\n",
              "      width: 32px;\n",
              "    }\n",
              "\n",
              "    .colab-df-convert:hover {\n",
              "      background-color: #E2EBFA;\n",
              "      box-shadow: 0px 1px 2px rgba(60, 64, 67, 0.3), 0px 1px 3px 1px rgba(60, 64, 67, 0.15);\n",
              "      fill: #174EA6;\n",
              "    }\n",
              "\n",
              "    .colab-df-buttons div {\n",
              "      margin-bottom: 4px;\n",
              "    }\n",
              "\n",
              "    [theme=dark] .colab-df-convert {\n",
              "      background-color: #3B4455;\n",
              "      fill: #D2E3FC;\n",
              "    }\n",
              "\n",
              "    [theme=dark] .colab-df-convert:hover {\n",
              "      background-color: #434B5C;\n",
              "      box-shadow: 0px 1px 3px 1px rgba(0, 0, 0, 0.15);\n",
              "      filter: drop-shadow(0px 1px 2px rgba(0, 0, 0, 0.3));\n",
              "      fill: #FFFFFF;\n",
              "    }\n",
              "  </style>\n",
              "\n",
              "    <script>\n",
              "      const buttonEl =\n",
              "        document.querySelector('#df-59df6580-7063-4a45-a47d-9f7a6f5f8f78 button.colab-df-convert');\n",
              "      buttonEl.style.display =\n",
              "        google.colab.kernel.accessAllowed ? 'block' : 'none';\n",
              "\n",
              "      async function convertToInteractive(key) {\n",
              "        const element = document.querySelector('#df-59df6580-7063-4a45-a47d-9f7a6f5f8f78');\n",
              "        const dataTable =\n",
              "          await google.colab.kernel.invokeFunction('convertToInteractive',\n",
              "                                                    [key], {});\n",
              "        if (!dataTable) return;\n",
              "\n",
              "        const docLinkHtml = 'Like what you see? Visit the ' +\n",
              "          '<a target=\"_blank\" href=https://colab.research.google.com/notebooks/data_table.ipynb>data table notebook</a>'\n",
              "          + ' to learn more about interactive tables.';\n",
              "        element.innerHTML = '';\n",
              "        dataTable['output_type'] = 'display_data';\n",
              "        await google.colab.output.renderOutput(dataTable, element);\n",
              "        const docLink = document.createElement('div');\n",
              "        docLink.innerHTML = docLinkHtml;\n",
              "        element.appendChild(docLink);\n",
              "      }\n",
              "    </script>\n",
              "  </div>\n",
              "\n",
              "\n",
              "    <div id=\"df-f00af87a-2b24-46a9-9106-45d6470f1e56\">\n",
              "      <button class=\"colab-df-quickchart\" onclick=\"quickchart('df-f00af87a-2b24-46a9-9106-45d6470f1e56')\"\n",
              "                title=\"Suggest charts\"\n",
              "                style=\"display:none;\">\n",
              "\n",
              "<svg xmlns=\"http://www.w3.org/2000/svg\" height=\"24px\"viewBox=\"0 0 24 24\"\n",
              "     width=\"24px\">\n",
              "    <g>\n",
              "        <path d=\"M19 3H5c-1.1 0-2 .9-2 2v14c0 1.1.9 2 2 2h14c1.1 0 2-.9 2-2V5c0-1.1-.9-2-2-2zM9 17H7v-7h2v7zm4 0h-2V7h2v10zm4 0h-2v-4h2v4z\"/>\n",
              "    </g>\n",
              "</svg>\n",
              "      </button>\n",
              "\n",
              "<style>\n",
              "  .colab-df-quickchart {\n",
              "      --bg-color: #E8F0FE;\n",
              "      --fill-color: #1967D2;\n",
              "      --hover-bg-color: #E2EBFA;\n",
              "      --hover-fill-color: #174EA6;\n",
              "      --disabled-fill-color: #AAA;\n",
              "      --disabled-bg-color: #DDD;\n",
              "  }\n",
              "\n",
              "  [theme=dark] .colab-df-quickchart {\n",
              "      --bg-color: #3B4455;\n",
              "      --fill-color: #D2E3FC;\n",
              "      --hover-bg-color: #434B5C;\n",
              "      --hover-fill-color: #FFFFFF;\n",
              "      --disabled-bg-color: #3B4455;\n",
              "      --disabled-fill-color: #666;\n",
              "  }\n",
              "\n",
              "  .colab-df-quickchart {\n",
              "    background-color: var(--bg-color);\n",
              "    border: none;\n",
              "    border-radius: 50%;\n",
              "    cursor: pointer;\n",
              "    display: none;\n",
              "    fill: var(--fill-color);\n",
              "    height: 32px;\n",
              "    padding: 0;\n",
              "    width: 32px;\n",
              "  }\n",
              "\n",
              "  .colab-df-quickchart:hover {\n",
              "    background-color: var(--hover-bg-color);\n",
              "    box-shadow: 0 1px 2px rgba(60, 64, 67, 0.3), 0 1px 3px 1px rgba(60, 64, 67, 0.15);\n",
              "    fill: var(--button-hover-fill-color);\n",
              "  }\n",
              "\n",
              "  .colab-df-quickchart-complete:disabled,\n",
              "  .colab-df-quickchart-complete:disabled:hover {\n",
              "    background-color: var(--disabled-bg-color);\n",
              "    fill: var(--disabled-fill-color);\n",
              "    box-shadow: none;\n",
              "  }\n",
              "\n",
              "  .colab-df-spinner {\n",
              "    border: 2px solid var(--fill-color);\n",
              "    border-color: transparent;\n",
              "    border-bottom-color: var(--fill-color);\n",
              "    animation:\n",
              "      spin 1s steps(1) infinite;\n",
              "  }\n",
              "\n",
              "  @keyframes spin {\n",
              "    0% {\n",
              "      border-color: transparent;\n",
              "      border-bottom-color: var(--fill-color);\n",
              "      border-left-color: var(--fill-color);\n",
              "    }\n",
              "    20% {\n",
              "      border-color: transparent;\n",
              "      border-left-color: var(--fill-color);\n",
              "      border-top-color: var(--fill-color);\n",
              "    }\n",
              "    30% {\n",
              "      border-color: transparent;\n",
              "      border-left-color: var(--fill-color);\n",
              "      border-top-color: var(--fill-color);\n",
              "      border-right-color: var(--fill-color);\n",
              "    }\n",
              "    40% {\n",
              "      border-color: transparent;\n",
              "      border-right-color: var(--fill-color);\n",
              "      border-top-color: var(--fill-color);\n",
              "    }\n",
              "    60% {\n",
              "      border-color: transparent;\n",
              "      border-right-color: var(--fill-color);\n",
              "    }\n",
              "    80% {\n",
              "      border-color: transparent;\n",
              "      border-right-color: var(--fill-color);\n",
              "      border-bottom-color: var(--fill-color);\n",
              "    }\n",
              "    90% {\n",
              "      border-color: transparent;\n",
              "      border-bottom-color: var(--fill-color);\n",
              "    }\n",
              "  }\n",
              "</style>\n",
              "\n",
              "      <script>\n",
              "        async function quickchart(key) {\n",
              "          const quickchartButtonEl =\n",
              "            document.querySelector('#' + key + ' button');\n",
              "          quickchartButtonEl.disabled = true;  // To prevent multiple clicks.\n",
              "          quickchartButtonEl.classList.add('colab-df-spinner');\n",
              "          try {\n",
              "            const charts = await google.colab.kernel.invokeFunction(\n",
              "                'suggestCharts', [key], {});\n",
              "          } catch (error) {\n",
              "            console.error('Error during call to suggestCharts:', error);\n",
              "          }\n",
              "          quickchartButtonEl.classList.remove('colab-df-spinner');\n",
              "          quickchartButtonEl.classList.add('colab-df-quickchart-complete');\n",
              "        }\n",
              "        (() => {\n",
              "          let quickchartButtonEl =\n",
              "            document.querySelector('#df-f00af87a-2b24-46a9-9106-45d6470f1e56 button');\n",
              "          quickchartButtonEl.style.display =\n",
              "            google.colab.kernel.accessAllowed ? 'block' : 'none';\n",
              "        })();\n",
              "      </script>\n",
              "    </div>\n",
              "\n",
              "    </div>\n",
              "  </div>\n"
            ],
            "application/vnd.google.colaboratory.intrinsic+json": {
              "type": "dataframe",
              "variable_name": "df_norm",
              "summary": "{\n  \"name\": \"df_norm\",\n  \"rows\": 7267,\n  \"fields\": [\n    {\n      \"column\": \"Churn\",\n      \"properties\": {\n        \"dtype\": \"category\",\n        \"num_unique_values\": 3,\n        \"samples\": [\n          \"No\",\n          \"Yes\",\n          \"\"\n        ],\n        \"semantic_type\": \"\",\n        \"description\": \"\"\n      }\n    },\n    {\n      \"column\": \"gender\",\n      \"properties\": {\n        \"dtype\": \"category\",\n        \"num_unique_values\": 2,\n        \"samples\": [\n          \"Male\",\n          \"Female\"\n        ],\n        \"semantic_type\": \"\",\n        \"description\": \"\"\n      }\n    },\n    {\n      \"column\": \"SeniorCitizen\",\n      \"properties\": {\n        \"dtype\": \"boolean\",\n        \"num_unique_values\": 2,\n        \"samples\": [\n          true,\n          false\n        ],\n        \"semantic_type\": \"\",\n        \"description\": \"\"\n      }\n    },\n    {\n      \"column\": \"Partner\",\n      \"properties\": {\n        \"dtype\": \"category\",\n        \"num_unique_values\": 2,\n        \"samples\": [\n          \"No\",\n          \"Yes\"\n        ],\n        \"semantic_type\": \"\",\n        \"description\": \"\"\n      }\n    },\n    {\n      \"column\": \"Dependents\",\n      \"properties\": {\n        \"dtype\": \"category\",\n        \"num_unique_values\": 2,\n        \"samples\": [\n          \"No\",\n          \"Yes\"\n        ],\n        \"semantic_type\": \"\",\n        \"description\": \"\"\n      }\n    },\n    {\n      \"column\": \"tenure\",\n      \"properties\": {\n        \"dtype\": \"number\",\n        \"std\": 24,\n        \"min\": 0,\n        \"max\": 72,\n        \"num_unique_values\": 73,\n        \"samples\": [\n          71,\n          53\n        ],\n        \"semantic_type\": \"\",\n        \"description\": \"\"\n      }\n    },\n    {\n      \"column\": \"PhoneService\",\n      \"properties\": {\n        \"dtype\": \"category\",\n        \"num_unique_values\": 2,\n        \"samples\": [\n          \"No\",\n          \"Yes\"\n        ],\n        \"semantic_type\": \"\",\n        \"description\": \"\"\n      }\n    },\n    {\n      \"column\": \"MultipleLines\",\n      \"properties\": {\n        \"dtype\": \"category\",\n        \"num_unique_values\": 3,\n        \"samples\": [\n          \"No\",\n          \"Yes\"\n        ],\n        \"semantic_type\": \"\",\n        \"description\": \"\"\n      }\n    },\n    {\n      \"column\": \"InternetService\",\n      \"properties\": {\n        \"dtype\": \"category\",\n        \"num_unique_values\": 3,\n        \"samples\": [\n          \"DSL\",\n          \"Fiber optic\"\n        ],\n        \"semantic_type\": \"\",\n        \"description\": \"\"\n      }\n    },\n    {\n      \"column\": \"OnlineSecurity\",\n      \"properties\": {\n        \"dtype\": \"category\",\n        \"num_unique_values\": 3,\n        \"samples\": [\n          \"No\",\n          \"Yes\"\n        ],\n        \"semantic_type\": \"\",\n        \"description\": \"\"\n      }\n    },\n    {\n      \"column\": \"OnlineBackup\",\n      \"properties\": {\n        \"dtype\": \"category\",\n        \"num_unique_values\": 3,\n        \"samples\": [\n          \"Yes\",\n          \"No\"\n        ],\n        \"semantic_type\": \"\",\n        \"description\": \"\"\n      }\n    },\n    {\n      \"column\": \"DeviceProtection\",\n      \"properties\": {\n        \"dtype\": \"category\",\n        \"num_unique_values\": 3,\n        \"samples\": [\n          \"No\",\n          \"Yes\"\n        ],\n        \"semantic_type\": \"\",\n        \"description\": \"\"\n      }\n    },\n    {\n      \"column\": \"TechSupport\",\n      \"properties\": {\n        \"dtype\": \"category\",\n        \"num_unique_values\": 3,\n        \"samples\": [\n          \"Yes\",\n          \"No\"\n        ],\n        \"semantic_type\": \"\",\n        \"description\": \"\"\n      }\n    },\n    {\n      \"column\": \"StreamingTV\",\n      \"properties\": {\n        \"dtype\": \"category\",\n        \"num_unique_values\": 3,\n        \"samples\": [\n          \"Yes\",\n          \"No\"\n        ],\n        \"semantic_type\": \"\",\n        \"description\": \"\"\n      }\n    },\n    {\n      \"column\": \"StreamingMovies\",\n      \"properties\": {\n        \"dtype\": \"category\",\n        \"num_unique_values\": 3,\n        \"samples\": [\n          \"No\",\n          \"Yes\"\n        ],\n        \"semantic_type\": \"\",\n        \"description\": \"\"\n      }\n    },\n    {\n      \"column\": \"Contract\",\n      \"properties\": {\n        \"dtype\": \"category\",\n        \"num_unique_values\": 3,\n        \"samples\": [\n          \"One year\",\n          \"Month-to-month\"\n        ],\n        \"semantic_type\": \"\",\n        \"description\": \"\"\n      }\n    },\n    {\n      \"column\": \"PaperlessBilling\",\n      \"properties\": {\n        \"dtype\": \"category\",\n        \"num_unique_values\": 2,\n        \"samples\": [\n          \"No\",\n          \"Yes\"\n        ],\n        \"semantic_type\": \"\",\n        \"description\": \"\"\n      }\n    },\n    {\n      \"column\": \"PaymentMethod\",\n      \"properties\": {\n        \"dtype\": \"category\",\n        \"num_unique_values\": 4,\n        \"samples\": [\n          \"Electronic check\",\n          \"Bank transfer (automatic)\"\n        ],\n        \"semantic_type\": \"\",\n        \"description\": \"\"\n      }\n    },\n    {\n      \"column\": \"Charges.Monthly\",\n      \"properties\": {\n        \"dtype\": \"number\",\n        \"std\": 30.12957188566699,\n        \"min\": 18.25,\n        \"max\": 118.75,\n        \"num_unique_values\": 1585,\n        \"samples\": [\n          100.85,\n          91.8\n        ],\n        \"semantic_type\": \"\",\n        \"description\": \"\"\n      }\n    },\n    {\n      \"column\": \"Charges.Total\",\n      \"properties\": {\n        \"dtype\": \"number\",\n        \"std\": 2268.648586624864,\n        \"min\": 0.0,\n        \"max\": 8684.8,\n        \"num_unique_values\": 6531,\n        \"samples\": [\n          1994.3,\n          600.0\n        ],\n        \"semantic_type\": \"\",\n        \"description\": \"\"\n      }\n    }\n  ]\n}"
            }
          },
          "metadata": {},
          "execution_count": 189
        }
      ]
    },
    {
      "cell_type": "markdown",
      "source": [
        "## **Columna de cuentas diarias**"
      ],
      "metadata": {
        "id": "s0qmi--DWeq7"
      }
    },
    {
      "cell_type": "markdown",
      "source": [
        "Ahora que los datos están limpios, es momento de crear la columna **\"Cuentas_Diarias\"**. Utiliza la facturación mensual para calcular el valor diario, proporcionando una visión más detallada del comportamiento de los clientes a lo largo del tiempo."
      ],
      "metadata": {
        "id": "XOhCnpSuW3e6"
      }
    },
    {
      "cell_type": "markdown",
      "source": [
        "Para crear la columna DailyCharges (Cuentas Diarias), solo necesitamos dividir el valor mensual (Charges.Monthly) entre aproximadamente 30 días. Esto nos da una estimación diaria del gasto del cliente."
      ],
      "metadata": {
        "id": "d0eG0DOV9LoY"
      }
    },
    {
      "cell_type": "code",
      "source": [
        "# Crear la columna DailyCharges dividiendo el monto mensual por 30\n",
        "df_norm['DailyCharges'] = df_norm['Charges.Monthly'] / 30"
      ],
      "metadata": {
        "id": "dU-u-4_-W7zc"
      },
      "execution_count": 190,
      "outputs": []
    },
    {
      "cell_type": "code",
      "source": [
        "df_norm['DailyCharges'].head(3)"
      ],
      "metadata": {
        "colab": {
          "base_uri": "https://localhost:8080/",
          "height": 178
        },
        "id": "D_0yWyLL9uL9",
        "outputId": "6856c121-5162-478d-bb3e-d7cfd8b7e38a"
      },
      "execution_count": 191,
      "outputs": [
        {
          "output_type": "execute_result",
          "data": {
            "text/plain": [
              "0    2.186667\n",
              "1    1.996667\n",
              "2    2.463333\n",
              "Name: DailyCharges, dtype: float64"
            ],
            "text/html": [
              "<div>\n",
              "<style scoped>\n",
              "    .dataframe tbody tr th:only-of-type {\n",
              "        vertical-align: middle;\n",
              "    }\n",
              "\n",
              "    .dataframe tbody tr th {\n",
              "        vertical-align: top;\n",
              "    }\n",
              "\n",
              "    .dataframe thead th {\n",
              "        text-align: right;\n",
              "    }\n",
              "</style>\n",
              "<table border=\"1\" class=\"dataframe\">\n",
              "  <thead>\n",
              "    <tr style=\"text-align: right;\">\n",
              "      <th></th>\n",
              "      <th>DailyCharges</th>\n",
              "    </tr>\n",
              "  </thead>\n",
              "  <tbody>\n",
              "    <tr>\n",
              "      <th>0</th>\n",
              "      <td>2.186667</td>\n",
              "    </tr>\n",
              "    <tr>\n",
              "      <th>1</th>\n",
              "      <td>1.996667</td>\n",
              "    </tr>\n",
              "    <tr>\n",
              "      <th>2</th>\n",
              "      <td>2.463333</td>\n",
              "    </tr>\n",
              "  </tbody>\n",
              "</table>\n",
              "</div><br><label><b>dtype:</b> float64</label>"
            ]
          },
          "metadata": {},
          "execution_count": 191
        }
      ]
    },
    {
      "cell_type": "markdown",
      "source": [
        "## **Estandarización y transformación de datos**"
      ],
      "metadata": {
        "id": "GOdDWWgmW_LY"
      }
    },
    {
      "cell_type": "markdown",
      "source": [
        "Vamos a convertir las columnas que contienen \"Yes\" / \"No\" a valores booleanos tipo entero (1 / 0)"
      ],
      "metadata": {
        "id": "ZQxNupoVXBjY"
      }
    },
    {
      "cell_type": "code",
      "source": [
        "# Lista de columnas a convertir\n",
        "yes_no_cols = [\n",
        "    'Churn', 'Partner', 'Dependents', 'PhoneService', 'MultipleLines',\n",
        "    'OnlineSecurity', 'OnlineBackup', 'DeviceProtection',\n",
        "    'TechSupport', 'StreamingTV', 'StreamingMovies', 'PaperlessBilling'\n",
        "]"
      ],
      "metadata": {
        "id": "7Oo8Unlq_2QS"
      },
      "execution_count": 192,
      "outputs": []
    },
    {
      "cell_type": "code",
      "source": [
        "# Convertir 'Yes' a 1 y 'No' a 0\n",
        "for col in yes_no_cols:\n",
        "    df_norm[col] = df_norm[col].apply(lambda x: 1 if x == 'Yes' else 0).astype('bool')"
      ],
      "metadata": {
        "id": "4NqTy5EhAKVA"
      },
      "execution_count": 193,
      "outputs": []
    },
    {
      "cell_type": "code",
      "source": [
        "df_norm.sample(5)"
      ],
      "metadata": {
        "colab": {
          "base_uri": "https://localhost:8080/",
          "height": 325
        },
        "id": "8MvScf78BDYS",
        "outputId": "895b8dcd-174c-445e-ace7-0a32900d9900"
      },
      "execution_count": 194,
      "outputs": [
        {
          "output_type": "execute_result",
          "data": {
            "text/plain": [
              "      Churn  gender  SeniorCitizen  Partner  Dependents  tenure  PhoneService  \\\n",
              "622   False    Male          False    False       False      62          True   \n",
              "3558   True    Male          False    False       False      11         False   \n",
              "3681  False  Female          False     True        True      50          True   \n",
              "6510  False    Male          False     True        True      63          True   \n",
              "4656  False    Male           True     True        True      72          True   \n",
              "\n",
              "      MultipleLines InternetService  OnlineSecurity  ...  DeviceProtection  \\\n",
              "622            True             DSL            True  ...              True   \n",
              "3558          False             DSL           False  ...              True   \n",
              "3681           True             DSL            True  ...              True   \n",
              "6510           True              No           False  ...             False   \n",
              "4656          False     Fiber optic            True  ...              True   \n",
              "\n",
              "      TechSupport  StreamingTV  StreamingMovies  Contract PaperlessBilling  \\\n",
              "622          True        False            False  Two year            False   \n",
              "3558        False         True            False  One year             True   \n",
              "3681         True        False             True  One year             True   \n",
              "6510        False        False            False  Two year            False   \n",
              "4656         True         True             True  Two year             True   \n",
              "\n",
              "                  PaymentMethod Charges.Monthly  Charges.Total  DailyCharges  \n",
              "622   Bank transfer (automatic)           69.40        4237.50      2.313333  \n",
              "3558           Electronic check           41.60         470.60      1.386667  \n",
              "3681  Bank transfer (automatic)           80.05        4042.20      2.668333  \n",
              "6510               Mailed check           25.25        1573.05      0.841667  \n",
              "4656    Credit card (automatic)          104.10        7447.70      3.470000  \n",
              "\n",
              "[5 rows x 21 columns]"
            ],
            "text/html": [
              "\n",
              "  <div id=\"df-4fe39095-21ad-4fa2-bc21-67d3b2c091e3\" class=\"colab-df-container\">\n",
              "    <div>\n",
              "<style scoped>\n",
              "    .dataframe tbody tr th:only-of-type {\n",
              "        vertical-align: middle;\n",
              "    }\n",
              "\n",
              "    .dataframe tbody tr th {\n",
              "        vertical-align: top;\n",
              "    }\n",
              "\n",
              "    .dataframe thead th {\n",
              "        text-align: right;\n",
              "    }\n",
              "</style>\n",
              "<table border=\"1\" class=\"dataframe\">\n",
              "  <thead>\n",
              "    <tr style=\"text-align: right;\">\n",
              "      <th></th>\n",
              "      <th>Churn</th>\n",
              "      <th>gender</th>\n",
              "      <th>SeniorCitizen</th>\n",
              "      <th>Partner</th>\n",
              "      <th>Dependents</th>\n",
              "      <th>tenure</th>\n",
              "      <th>PhoneService</th>\n",
              "      <th>MultipleLines</th>\n",
              "      <th>InternetService</th>\n",
              "      <th>OnlineSecurity</th>\n",
              "      <th>...</th>\n",
              "      <th>DeviceProtection</th>\n",
              "      <th>TechSupport</th>\n",
              "      <th>StreamingTV</th>\n",
              "      <th>StreamingMovies</th>\n",
              "      <th>Contract</th>\n",
              "      <th>PaperlessBilling</th>\n",
              "      <th>PaymentMethod</th>\n",
              "      <th>Charges.Monthly</th>\n",
              "      <th>Charges.Total</th>\n",
              "      <th>DailyCharges</th>\n",
              "    </tr>\n",
              "  </thead>\n",
              "  <tbody>\n",
              "    <tr>\n",
              "      <th>622</th>\n",
              "      <td>False</td>\n",
              "      <td>Male</td>\n",
              "      <td>False</td>\n",
              "      <td>False</td>\n",
              "      <td>False</td>\n",
              "      <td>62</td>\n",
              "      <td>True</td>\n",
              "      <td>True</td>\n",
              "      <td>DSL</td>\n",
              "      <td>True</td>\n",
              "      <td>...</td>\n",
              "      <td>True</td>\n",
              "      <td>True</td>\n",
              "      <td>False</td>\n",
              "      <td>False</td>\n",
              "      <td>Two year</td>\n",
              "      <td>False</td>\n",
              "      <td>Bank transfer (automatic)</td>\n",
              "      <td>69.40</td>\n",
              "      <td>4237.50</td>\n",
              "      <td>2.313333</td>\n",
              "    </tr>\n",
              "    <tr>\n",
              "      <th>3558</th>\n",
              "      <td>True</td>\n",
              "      <td>Male</td>\n",
              "      <td>False</td>\n",
              "      <td>False</td>\n",
              "      <td>False</td>\n",
              "      <td>11</td>\n",
              "      <td>False</td>\n",
              "      <td>False</td>\n",
              "      <td>DSL</td>\n",
              "      <td>False</td>\n",
              "      <td>...</td>\n",
              "      <td>True</td>\n",
              "      <td>False</td>\n",
              "      <td>True</td>\n",
              "      <td>False</td>\n",
              "      <td>One year</td>\n",
              "      <td>True</td>\n",
              "      <td>Electronic check</td>\n",
              "      <td>41.60</td>\n",
              "      <td>470.60</td>\n",
              "      <td>1.386667</td>\n",
              "    </tr>\n",
              "    <tr>\n",
              "      <th>3681</th>\n",
              "      <td>False</td>\n",
              "      <td>Female</td>\n",
              "      <td>False</td>\n",
              "      <td>True</td>\n",
              "      <td>True</td>\n",
              "      <td>50</td>\n",
              "      <td>True</td>\n",
              "      <td>True</td>\n",
              "      <td>DSL</td>\n",
              "      <td>True</td>\n",
              "      <td>...</td>\n",
              "      <td>True</td>\n",
              "      <td>True</td>\n",
              "      <td>False</td>\n",
              "      <td>True</td>\n",
              "      <td>One year</td>\n",
              "      <td>True</td>\n",
              "      <td>Bank transfer (automatic)</td>\n",
              "      <td>80.05</td>\n",
              "      <td>4042.20</td>\n",
              "      <td>2.668333</td>\n",
              "    </tr>\n",
              "    <tr>\n",
              "      <th>6510</th>\n",
              "      <td>False</td>\n",
              "      <td>Male</td>\n",
              "      <td>False</td>\n",
              "      <td>True</td>\n",
              "      <td>True</td>\n",
              "      <td>63</td>\n",
              "      <td>True</td>\n",
              "      <td>True</td>\n",
              "      <td>No</td>\n",
              "      <td>False</td>\n",
              "      <td>...</td>\n",
              "      <td>False</td>\n",
              "      <td>False</td>\n",
              "      <td>False</td>\n",
              "      <td>False</td>\n",
              "      <td>Two year</td>\n",
              "      <td>False</td>\n",
              "      <td>Mailed check</td>\n",
              "      <td>25.25</td>\n",
              "      <td>1573.05</td>\n",
              "      <td>0.841667</td>\n",
              "    </tr>\n",
              "    <tr>\n",
              "      <th>4656</th>\n",
              "      <td>False</td>\n",
              "      <td>Male</td>\n",
              "      <td>True</td>\n",
              "      <td>True</td>\n",
              "      <td>True</td>\n",
              "      <td>72</td>\n",
              "      <td>True</td>\n",
              "      <td>False</td>\n",
              "      <td>Fiber optic</td>\n",
              "      <td>True</td>\n",
              "      <td>...</td>\n",
              "      <td>True</td>\n",
              "      <td>True</td>\n",
              "      <td>True</td>\n",
              "      <td>True</td>\n",
              "      <td>Two year</td>\n",
              "      <td>True</td>\n",
              "      <td>Credit card (automatic)</td>\n",
              "      <td>104.10</td>\n",
              "      <td>7447.70</td>\n",
              "      <td>3.470000</td>\n",
              "    </tr>\n",
              "  </tbody>\n",
              "</table>\n",
              "<p>5 rows × 21 columns</p>\n",
              "</div>\n",
              "    <div class=\"colab-df-buttons\">\n",
              "\n",
              "  <div class=\"colab-df-container\">\n",
              "    <button class=\"colab-df-convert\" onclick=\"convertToInteractive('df-4fe39095-21ad-4fa2-bc21-67d3b2c091e3')\"\n",
              "            title=\"Convert this dataframe to an interactive table.\"\n",
              "            style=\"display:none;\">\n",
              "\n",
              "  <svg xmlns=\"http://www.w3.org/2000/svg\" height=\"24px\" viewBox=\"0 -960 960 960\">\n",
              "    <path d=\"M120-120v-720h720v720H120Zm60-500h600v-160H180v160Zm220 220h160v-160H400v160Zm0 220h160v-160H400v160ZM180-400h160v-160H180v160Zm440 0h160v-160H620v160ZM180-180h160v-160H180v160Zm440 0h160v-160H620v160Z\"/>\n",
              "  </svg>\n",
              "    </button>\n",
              "\n",
              "  <style>\n",
              "    .colab-df-container {\n",
              "      display:flex;\n",
              "      gap: 12px;\n",
              "    }\n",
              "\n",
              "    .colab-df-convert {\n",
              "      background-color: #E8F0FE;\n",
              "      border: none;\n",
              "      border-radius: 50%;\n",
              "      cursor: pointer;\n",
              "      display: none;\n",
              "      fill: #1967D2;\n",
              "      height: 32px;\n",
              "      padding: 0 0 0 0;\n",
              "      width: 32px;\n",
              "    }\n",
              "\n",
              "    .colab-df-convert:hover {\n",
              "      background-color: #E2EBFA;\n",
              "      box-shadow: 0px 1px 2px rgba(60, 64, 67, 0.3), 0px 1px 3px 1px rgba(60, 64, 67, 0.15);\n",
              "      fill: #174EA6;\n",
              "    }\n",
              "\n",
              "    .colab-df-buttons div {\n",
              "      margin-bottom: 4px;\n",
              "    }\n",
              "\n",
              "    [theme=dark] .colab-df-convert {\n",
              "      background-color: #3B4455;\n",
              "      fill: #D2E3FC;\n",
              "    }\n",
              "\n",
              "    [theme=dark] .colab-df-convert:hover {\n",
              "      background-color: #434B5C;\n",
              "      box-shadow: 0px 1px 3px 1px rgba(0, 0, 0, 0.15);\n",
              "      filter: drop-shadow(0px 1px 2px rgba(0, 0, 0, 0.3));\n",
              "      fill: #FFFFFF;\n",
              "    }\n",
              "  </style>\n",
              "\n",
              "    <script>\n",
              "      const buttonEl =\n",
              "        document.querySelector('#df-4fe39095-21ad-4fa2-bc21-67d3b2c091e3 button.colab-df-convert');\n",
              "      buttonEl.style.display =\n",
              "        google.colab.kernel.accessAllowed ? 'block' : 'none';\n",
              "\n",
              "      async function convertToInteractive(key) {\n",
              "        const element = document.querySelector('#df-4fe39095-21ad-4fa2-bc21-67d3b2c091e3');\n",
              "        const dataTable =\n",
              "          await google.colab.kernel.invokeFunction('convertToInteractive',\n",
              "                                                    [key], {});\n",
              "        if (!dataTable) return;\n",
              "\n",
              "        const docLinkHtml = 'Like what you see? Visit the ' +\n",
              "          '<a target=\"_blank\" href=https://colab.research.google.com/notebooks/data_table.ipynb>data table notebook</a>'\n",
              "          + ' to learn more about interactive tables.';\n",
              "        element.innerHTML = '';\n",
              "        dataTable['output_type'] = 'display_data';\n",
              "        await google.colab.output.renderOutput(dataTable, element);\n",
              "        const docLink = document.createElement('div');\n",
              "        docLink.innerHTML = docLinkHtml;\n",
              "        element.appendChild(docLink);\n",
              "      }\n",
              "    </script>\n",
              "  </div>\n",
              "\n",
              "\n",
              "    <div id=\"df-f3d4afc6-f4ce-417a-a3e9-191d3f37c7b7\">\n",
              "      <button class=\"colab-df-quickchart\" onclick=\"quickchart('df-f3d4afc6-f4ce-417a-a3e9-191d3f37c7b7')\"\n",
              "                title=\"Suggest charts\"\n",
              "                style=\"display:none;\">\n",
              "\n",
              "<svg xmlns=\"http://www.w3.org/2000/svg\" height=\"24px\"viewBox=\"0 0 24 24\"\n",
              "     width=\"24px\">\n",
              "    <g>\n",
              "        <path d=\"M19 3H5c-1.1 0-2 .9-2 2v14c0 1.1.9 2 2 2h14c1.1 0 2-.9 2-2V5c0-1.1-.9-2-2-2zM9 17H7v-7h2v7zm4 0h-2V7h2v10zm4 0h-2v-4h2v4z\"/>\n",
              "    </g>\n",
              "</svg>\n",
              "      </button>\n",
              "\n",
              "<style>\n",
              "  .colab-df-quickchart {\n",
              "      --bg-color: #E8F0FE;\n",
              "      --fill-color: #1967D2;\n",
              "      --hover-bg-color: #E2EBFA;\n",
              "      --hover-fill-color: #174EA6;\n",
              "      --disabled-fill-color: #AAA;\n",
              "      --disabled-bg-color: #DDD;\n",
              "  }\n",
              "\n",
              "  [theme=dark] .colab-df-quickchart {\n",
              "      --bg-color: #3B4455;\n",
              "      --fill-color: #D2E3FC;\n",
              "      --hover-bg-color: #434B5C;\n",
              "      --hover-fill-color: #FFFFFF;\n",
              "      --disabled-bg-color: #3B4455;\n",
              "      --disabled-fill-color: #666;\n",
              "  }\n",
              "\n",
              "  .colab-df-quickchart {\n",
              "    background-color: var(--bg-color);\n",
              "    border: none;\n",
              "    border-radius: 50%;\n",
              "    cursor: pointer;\n",
              "    display: none;\n",
              "    fill: var(--fill-color);\n",
              "    height: 32px;\n",
              "    padding: 0;\n",
              "    width: 32px;\n",
              "  }\n",
              "\n",
              "  .colab-df-quickchart:hover {\n",
              "    background-color: var(--hover-bg-color);\n",
              "    box-shadow: 0 1px 2px rgba(60, 64, 67, 0.3), 0 1px 3px 1px rgba(60, 64, 67, 0.15);\n",
              "    fill: var(--button-hover-fill-color);\n",
              "  }\n",
              "\n",
              "  .colab-df-quickchart-complete:disabled,\n",
              "  .colab-df-quickchart-complete:disabled:hover {\n",
              "    background-color: var(--disabled-bg-color);\n",
              "    fill: var(--disabled-fill-color);\n",
              "    box-shadow: none;\n",
              "  }\n",
              "\n",
              "  .colab-df-spinner {\n",
              "    border: 2px solid var(--fill-color);\n",
              "    border-color: transparent;\n",
              "    border-bottom-color: var(--fill-color);\n",
              "    animation:\n",
              "      spin 1s steps(1) infinite;\n",
              "  }\n",
              "\n",
              "  @keyframes spin {\n",
              "    0% {\n",
              "      border-color: transparent;\n",
              "      border-bottom-color: var(--fill-color);\n",
              "      border-left-color: var(--fill-color);\n",
              "    }\n",
              "    20% {\n",
              "      border-color: transparent;\n",
              "      border-left-color: var(--fill-color);\n",
              "      border-top-color: var(--fill-color);\n",
              "    }\n",
              "    30% {\n",
              "      border-color: transparent;\n",
              "      border-left-color: var(--fill-color);\n",
              "      border-top-color: var(--fill-color);\n",
              "      border-right-color: var(--fill-color);\n",
              "    }\n",
              "    40% {\n",
              "      border-color: transparent;\n",
              "      border-right-color: var(--fill-color);\n",
              "      border-top-color: var(--fill-color);\n",
              "    }\n",
              "    60% {\n",
              "      border-color: transparent;\n",
              "      border-right-color: var(--fill-color);\n",
              "    }\n",
              "    80% {\n",
              "      border-color: transparent;\n",
              "      border-right-color: var(--fill-color);\n",
              "      border-bottom-color: var(--fill-color);\n",
              "    }\n",
              "    90% {\n",
              "      border-color: transparent;\n",
              "      border-bottom-color: var(--fill-color);\n",
              "    }\n",
              "  }\n",
              "</style>\n",
              "\n",
              "      <script>\n",
              "        async function quickchart(key) {\n",
              "          const quickchartButtonEl =\n",
              "            document.querySelector('#' + key + ' button');\n",
              "          quickchartButtonEl.disabled = true;  // To prevent multiple clicks.\n",
              "          quickchartButtonEl.classList.add('colab-df-spinner');\n",
              "          try {\n",
              "            const charts = await google.colab.kernel.invokeFunction(\n",
              "                'suggestCharts', [key], {});\n",
              "          } catch (error) {\n",
              "            console.error('Error during call to suggestCharts:', error);\n",
              "          }\n",
              "          quickchartButtonEl.classList.remove('colab-df-spinner');\n",
              "          quickchartButtonEl.classList.add('colab-df-quickchart-complete');\n",
              "        }\n",
              "        (() => {\n",
              "          let quickchartButtonEl =\n",
              "            document.querySelector('#df-f3d4afc6-f4ce-417a-a3e9-191d3f37c7b7 button');\n",
              "          quickchartButtonEl.style.display =\n",
              "            google.colab.kernel.accessAllowed ? 'block' : 'none';\n",
              "        })();\n",
              "      </script>\n",
              "    </div>\n",
              "\n",
              "    </div>\n",
              "  </div>\n"
            ],
            "application/vnd.google.colaboratory.intrinsic+json": {
              "type": "dataframe"
            }
          },
          "metadata": {},
          "execution_count": 194
        }
      ]
    },
    {
      "cell_type": "markdown",
      "source": [
        "## **Traducir datos del dataframe**"
      ],
      "metadata": {
        "id": "eGTS_Qw20Add"
      }
    },
    {
      "cell_type": "code",
      "source": [
        "cols = df_norm.columns\n",
        "cols"
      ],
      "metadata": {
        "colab": {
          "base_uri": "https://localhost:8080/"
        },
        "id": "jcJLsGka0Fej",
        "outputId": "7a2195e7-9357-4e24-db09-fe92eee25fb2"
      },
      "execution_count": 195,
      "outputs": [
        {
          "output_type": "execute_result",
          "data": {
            "text/plain": [
              "Index(['Churn', 'gender', 'SeniorCitizen', 'Partner', 'Dependents', 'tenure',\n",
              "       'PhoneService', 'MultipleLines', 'InternetService', 'OnlineSecurity',\n",
              "       'OnlineBackup', 'DeviceProtection', 'TechSupport', 'StreamingTV',\n",
              "       'StreamingMovies', 'Contract', 'PaperlessBilling', 'PaymentMethod',\n",
              "       'Charges.Monthly', 'Charges.Total', 'DailyCharges'],\n",
              "      dtype='object')"
            ]
          },
          "metadata": {},
          "execution_count": 195
        }
      ]
    },
    {
      "cell_type": "code",
      "source": [
        "# Traducir a espanol los encabezados de las columnas\n",
        "df_norm.rename(columns={\n",
        "    'Churn': 'Evasión',\n",
        "    'gender': 'Género',\n",
        "    'SeniorCitizen': 'Adulto Mayor',\n",
        "    'Partner': 'Tiene Pareja',\n",
        "    'Dependents': 'Dependiente',\n",
        "    'tenure': 'Permanencia',\n",
        "    'PhoneService': 'Servicio Telefónico',\n",
        "    'MultipleLines': 'Líneas Múltiples',\n",
        "    'InternetService': 'Servicio Internet',\n",
        "    'OnlineSecurity': 'Seguridad en Línea',\n",
        "    'OnlineBackup': 'Respaldo en Linea',\n",
        "    'DeviceProtection': 'Protección Dispositivo',\n",
        "    'TechSupport': 'Soporte Técnico',\n",
        "    'StreamingTV': 'Streaming de TV',\n",
        "    'StreamingMovies': 'Streaming de Películas',\n",
        "    'Contract': 'Tipo Contrato',\n",
        "    'PaperlessBilling': 'Facturación Electronica',\n",
        "    'PaymentMethod': 'Método de Pago',\n",
        "    'Charges.Monthly': 'Cargo Mensual',\n",
        "    'Charges.Total': 'Cargo Total',\n",
        "    'DailyCharges': 'Cargo Diario'\n",
        "}, inplace=True)\n"
      ],
      "metadata": {
        "id": "4w2mcU5q0M21"
      },
      "execution_count": 196,
      "outputs": []
    },
    {
      "cell_type": "code",
      "source": [
        "df_norm.columns"
      ],
      "metadata": {
        "colab": {
          "base_uri": "https://localhost:8080/"
        },
        "id": "xsYU_MJe18uh",
        "outputId": "b82183c4-e9f5-4e84-efee-9ff3d19d24bd"
      },
      "execution_count": 197,
      "outputs": [
        {
          "output_type": "execute_result",
          "data": {
            "text/plain": [
              "Index(['Evasión', 'Género', 'Adulto Mayor', 'Tiene Pareja', 'Dependiente',\n",
              "       'Permanencia', 'Servicio Telefónico', 'Líneas Múltiples',\n",
              "       'Servicio Internet', 'Seguridad en Línea', 'Respaldo en Linea',\n",
              "       'Protección Dispositivo', 'Soporte Técnico', 'Streaming de TV',\n",
              "       'Streaming de Películas', 'Tipo Contrato', 'Facturación Electronica',\n",
              "       'Método de Pago', 'Cargo Mensual', 'Cargo Total', 'Cargo Diario'],\n",
              "      dtype='object')"
            ]
          },
          "metadata": {},
          "execution_count": 197
        }
      ]
    },
    {
      "cell_type": "code",
      "source": [
        "# Extraer los valores unicos de la columna `Genero`\n",
        "df_norm['Género'].unique()"
      ],
      "metadata": {
        "colab": {
          "base_uri": "https://localhost:8080/"
        },
        "id": "Aztz1GT82Lko",
        "outputId": "b93ec507-35b9-4448-a0e4-f9f1aa9aa97b"
      },
      "execution_count": 198,
      "outputs": [
        {
          "output_type": "execute_result",
          "data": {
            "text/plain": [
              "array(['Female', 'Male'], dtype=object)"
            ]
          },
          "metadata": {},
          "execution_count": 198
        }
      ]
    },
    {
      "cell_type": "code",
      "source": [
        "# Cambiar 'Female' por 'Femenino' y 'Male' por 'Masculino'\n",
        "df_norm['Género'] = df_norm['Género'].replace({'Female': 'Femenino', 'Male': 'Masculino'})"
      ],
      "metadata": {
        "id": "PjBCEig_2TQ4"
      },
      "execution_count": 199,
      "outputs": []
    },
    {
      "cell_type": "code",
      "source": [
        "df_norm['Género'].unique()"
      ],
      "metadata": {
        "colab": {
          "base_uri": "https://localhost:8080/"
        },
        "id": "hsw1VIif2jnN",
        "outputId": "1c0e0679-d17a-4f46-c62c-f0569c08d7fd"
      },
      "execution_count": 200,
      "outputs": [
        {
          "output_type": "execute_result",
          "data": {
            "text/plain": [
              "array(['Femenino', 'Masculino'], dtype=object)"
            ]
          },
          "metadata": {},
          "execution_count": 200
        }
      ]
    },
    {
      "cell_type": "code",
      "source": [
        "# Extraer los valores unicos de la columna 'TipoContrato'\n",
        "df_norm['Tipo Contrato'].unique()"
      ],
      "metadata": {
        "colab": {
          "base_uri": "https://localhost:8080/"
        },
        "id": "psr_lhWX2qnV",
        "outputId": "c7e87689-b896-4729-e30b-7052d4f48aca"
      },
      "execution_count": 201,
      "outputs": [
        {
          "output_type": "execute_result",
          "data": {
            "text/plain": [
              "array(['One year', 'Month-to-month', 'Two year'], dtype=object)"
            ]
          },
          "metadata": {},
          "execution_count": 201
        }
      ]
    },
    {
      "cell_type": "code",
      "source": [
        "# Traducir los campos de 'TipoContrato'\n",
        "df_norm['Tipo Contrato'] = df_norm['Tipo Contrato'].replace({'Month-to-month': 'Mes-a-Mes', 'One year': 'Un año', 'Two year': 'Dos años'})"
      ],
      "metadata": {
        "id": "pPq064b-23NR"
      },
      "execution_count": 202,
      "outputs": []
    },
    {
      "cell_type": "code",
      "source": [
        "# Extraer los valores unicos de la columna 'MetodoPago'\n",
        "df_norm['Método de Pago'].unique()"
      ],
      "metadata": {
        "colab": {
          "base_uri": "https://localhost:8080/"
        },
        "id": "-fuyIYWX3Q_j",
        "outputId": "5485f2cb-e045-4c82-9768-1c2728db1e04"
      },
      "execution_count": 203,
      "outputs": [
        {
          "output_type": "execute_result",
          "data": {
            "text/plain": [
              "array(['Mailed check', 'Electronic check', 'Credit card (automatic)',\n",
              "       'Bank transfer (automatic)'], dtype=object)"
            ]
          },
          "metadata": {},
          "execution_count": 203
        }
      ]
    },
    {
      "cell_type": "code",
      "source": [
        "# Traducir los campos de 'MetodoPago'\n",
        "df_norm['Método de Pago'] = df_norm['Método de Pago'].replace({\n",
        "    'Electronic check': 'Cheque electrónico',\n",
        "    'Mailed check': 'Cheque por correo',\n",
        "    'Bank transfer (automatic)': 'Transferencia',\n",
        "    'Credit card (automatic)': 'Tarjeta de crédito'\n",
        "})"
      ],
      "metadata": {
        "id": "ouDlVHBf3usZ"
      },
      "execution_count": 204,
      "outputs": []
    },
    {
      "cell_type": "code",
      "source": [
        "# Extraer los valores unicos de la columna 'ServicioInternet'\n",
        "df_norm['Servicio Internet'].unique()"
      ],
      "metadata": {
        "colab": {
          "base_uri": "https://localhost:8080/"
        },
        "id": "HPdpMc0e4Dgl",
        "outputId": "06ea038e-3fa9-4452-e37b-0a3926ab87a8"
      },
      "execution_count": 205,
      "outputs": [
        {
          "output_type": "execute_result",
          "data": {
            "text/plain": [
              "array(['DSL', 'Fiber optic', 'No'], dtype=object)"
            ]
          },
          "metadata": {},
          "execution_count": 205
        }
      ]
    },
    {
      "cell_type": "code",
      "source": [
        "# Traducir los campos de 'ServicioInternet'\n",
        "df_norm['Servicio Internet'] = df_norm['Servicio Internet'].replace({'Fiber optic': 'Fibra óptica'})"
      ],
      "metadata": {
        "id": "GRHpG7gK4Qvo"
      },
      "execution_count": 206,
      "outputs": []
    },
    {
      "cell_type": "code",
      "source": [
        "# Generar nuevo archivo CSV del dataframe 'df_norm'\n",
        "df_norm.to_csv('Datos_TelecomX.csv', index=False)"
      ],
      "metadata": {
        "id": "ztYyoPOx4c68"
      },
      "execution_count": 207,
      "outputs": []
    },
    {
      "cell_type": "markdown",
      "source": [
        "# **📊 Carga y análisis(L - Load & Analysis)**"
      ],
      "metadata": {
        "id": "LP5kjUGrFKcG"
      }
    },
    {
      "cell_type": "markdown",
      "source": [
        "## **Análisis Descriptivo**"
      ],
      "metadata": {
        "id": "_FKRu8SMFO8E"
      }
    },
    {
      "cell_type": "code",
      "source": [
        "df_telecom = pd.read_csv('Datos_TelecomX.csv')"
      ],
      "metadata": {
        "id": "gcO-wM8k5V8Q"
      },
      "execution_count": 208,
      "outputs": []
    },
    {
      "cell_type": "code",
      "source": [
        "df_telecom.head(5)"
      ],
      "metadata": {
        "colab": {
          "base_uri": "https://localhost:8080/",
          "height": 357
        },
        "id": "czvxIDqCUD0D",
        "outputId": "7c9f82ee-c95f-4d31-c6a5-2833995e3726"
      },
      "execution_count": 209,
      "outputs": [
        {
          "output_type": "execute_result",
          "data": {
            "text/plain": [
              "   Evasión     Género  Adulto Mayor  Tiene Pareja  Dependiente  Permanencia  \\\n",
              "0    False   Femenino         False          True         True            9   \n",
              "1    False  Masculino         False         False        False            9   \n",
              "2     True  Masculino         False         False        False            4   \n",
              "3     True  Masculino          True          True        False           13   \n",
              "4     True   Femenino          True          True        False            3   \n",
              "\n",
              "   Servicio Telefónico  Líneas Múltiples Servicio Internet  \\\n",
              "0                 True             False               DSL   \n",
              "1                 True              True               DSL   \n",
              "2                 True             False      Fibra óptica   \n",
              "3                 True             False      Fibra óptica   \n",
              "4                 True             False      Fibra óptica   \n",
              "\n",
              "   Seguridad en Línea  ...  Protección Dispositivo  Soporte Técnico  \\\n",
              "0               False  ...                   False             True   \n",
              "1               False  ...                   False            False   \n",
              "2               False  ...                    True            False   \n",
              "3               False  ...                    True            False   \n",
              "4               False  ...                   False             True   \n",
              "\n",
              "   Streaming de TV  Streaming de Películas  Tipo Contrato  \\\n",
              "0             True                   False         Un año   \n",
              "1            False                    True      Mes-a-Mes   \n",
              "2            False                   False      Mes-a-Mes   \n",
              "3             True                    True      Mes-a-Mes   \n",
              "4             True                   False      Mes-a-Mes   \n",
              "\n",
              "  Facturación Electronica      Método de Pago Cargo Mensual  Cargo Total  \\\n",
              "0                    True   Cheque por correo          65.6       593.30   \n",
              "1                   False   Cheque por correo          59.9       542.40   \n",
              "2                    True  Cheque electrónico          73.9       280.85   \n",
              "3                    True  Cheque electrónico          98.0      1237.85   \n",
              "4                    True   Cheque por correo          83.9       267.40   \n",
              "\n",
              "   Cargo Diario  \n",
              "0      2.186667  \n",
              "1      1.996667  \n",
              "2      2.463333  \n",
              "3      3.266667  \n",
              "4      2.796667  \n",
              "\n",
              "[5 rows x 21 columns]"
            ],
            "text/html": [
              "\n",
              "  <div id=\"df-e909ff66-b233-4c08-b09f-7c688c22c32e\" class=\"colab-df-container\">\n",
              "    <div>\n",
              "<style scoped>\n",
              "    .dataframe tbody tr th:only-of-type {\n",
              "        vertical-align: middle;\n",
              "    }\n",
              "\n",
              "    .dataframe tbody tr th {\n",
              "        vertical-align: top;\n",
              "    }\n",
              "\n",
              "    .dataframe thead th {\n",
              "        text-align: right;\n",
              "    }\n",
              "</style>\n",
              "<table border=\"1\" class=\"dataframe\">\n",
              "  <thead>\n",
              "    <tr style=\"text-align: right;\">\n",
              "      <th></th>\n",
              "      <th>Evasión</th>\n",
              "      <th>Género</th>\n",
              "      <th>Adulto Mayor</th>\n",
              "      <th>Tiene Pareja</th>\n",
              "      <th>Dependiente</th>\n",
              "      <th>Permanencia</th>\n",
              "      <th>Servicio Telefónico</th>\n",
              "      <th>Líneas Múltiples</th>\n",
              "      <th>Servicio Internet</th>\n",
              "      <th>Seguridad en Línea</th>\n",
              "      <th>...</th>\n",
              "      <th>Protección Dispositivo</th>\n",
              "      <th>Soporte Técnico</th>\n",
              "      <th>Streaming de TV</th>\n",
              "      <th>Streaming de Películas</th>\n",
              "      <th>Tipo Contrato</th>\n",
              "      <th>Facturación Electronica</th>\n",
              "      <th>Método de Pago</th>\n",
              "      <th>Cargo Mensual</th>\n",
              "      <th>Cargo Total</th>\n",
              "      <th>Cargo Diario</th>\n",
              "    </tr>\n",
              "  </thead>\n",
              "  <tbody>\n",
              "    <tr>\n",
              "      <th>0</th>\n",
              "      <td>False</td>\n",
              "      <td>Femenino</td>\n",
              "      <td>False</td>\n",
              "      <td>True</td>\n",
              "      <td>True</td>\n",
              "      <td>9</td>\n",
              "      <td>True</td>\n",
              "      <td>False</td>\n",
              "      <td>DSL</td>\n",
              "      <td>False</td>\n",
              "      <td>...</td>\n",
              "      <td>False</td>\n",
              "      <td>True</td>\n",
              "      <td>True</td>\n",
              "      <td>False</td>\n",
              "      <td>Un año</td>\n",
              "      <td>True</td>\n",
              "      <td>Cheque por correo</td>\n",
              "      <td>65.6</td>\n",
              "      <td>593.30</td>\n",
              "      <td>2.186667</td>\n",
              "    </tr>\n",
              "    <tr>\n",
              "      <th>1</th>\n",
              "      <td>False</td>\n",
              "      <td>Masculino</td>\n",
              "      <td>False</td>\n",
              "      <td>False</td>\n",
              "      <td>False</td>\n",
              "      <td>9</td>\n",
              "      <td>True</td>\n",
              "      <td>True</td>\n",
              "      <td>DSL</td>\n",
              "      <td>False</td>\n",
              "      <td>...</td>\n",
              "      <td>False</td>\n",
              "      <td>False</td>\n",
              "      <td>False</td>\n",
              "      <td>True</td>\n",
              "      <td>Mes-a-Mes</td>\n",
              "      <td>False</td>\n",
              "      <td>Cheque por correo</td>\n",
              "      <td>59.9</td>\n",
              "      <td>542.40</td>\n",
              "      <td>1.996667</td>\n",
              "    </tr>\n",
              "    <tr>\n",
              "      <th>2</th>\n",
              "      <td>True</td>\n",
              "      <td>Masculino</td>\n",
              "      <td>False</td>\n",
              "      <td>False</td>\n",
              "      <td>False</td>\n",
              "      <td>4</td>\n",
              "      <td>True</td>\n",
              "      <td>False</td>\n",
              "      <td>Fibra óptica</td>\n",
              "      <td>False</td>\n",
              "      <td>...</td>\n",
              "      <td>True</td>\n",
              "      <td>False</td>\n",
              "      <td>False</td>\n",
              "      <td>False</td>\n",
              "      <td>Mes-a-Mes</td>\n",
              "      <td>True</td>\n",
              "      <td>Cheque electrónico</td>\n",
              "      <td>73.9</td>\n",
              "      <td>280.85</td>\n",
              "      <td>2.463333</td>\n",
              "    </tr>\n",
              "    <tr>\n",
              "      <th>3</th>\n",
              "      <td>True</td>\n",
              "      <td>Masculino</td>\n",
              "      <td>True</td>\n",
              "      <td>True</td>\n",
              "      <td>False</td>\n",
              "      <td>13</td>\n",
              "      <td>True</td>\n",
              "      <td>False</td>\n",
              "      <td>Fibra óptica</td>\n",
              "      <td>False</td>\n",
              "      <td>...</td>\n",
              "      <td>True</td>\n",
              "      <td>False</td>\n",
              "      <td>True</td>\n",
              "      <td>True</td>\n",
              "      <td>Mes-a-Mes</td>\n",
              "      <td>True</td>\n",
              "      <td>Cheque electrónico</td>\n",
              "      <td>98.0</td>\n",
              "      <td>1237.85</td>\n",
              "      <td>3.266667</td>\n",
              "    </tr>\n",
              "    <tr>\n",
              "      <th>4</th>\n",
              "      <td>True</td>\n",
              "      <td>Femenino</td>\n",
              "      <td>True</td>\n",
              "      <td>True</td>\n",
              "      <td>False</td>\n",
              "      <td>3</td>\n",
              "      <td>True</td>\n",
              "      <td>False</td>\n",
              "      <td>Fibra óptica</td>\n",
              "      <td>False</td>\n",
              "      <td>...</td>\n",
              "      <td>False</td>\n",
              "      <td>True</td>\n",
              "      <td>True</td>\n",
              "      <td>False</td>\n",
              "      <td>Mes-a-Mes</td>\n",
              "      <td>True</td>\n",
              "      <td>Cheque por correo</td>\n",
              "      <td>83.9</td>\n",
              "      <td>267.40</td>\n",
              "      <td>2.796667</td>\n",
              "    </tr>\n",
              "  </tbody>\n",
              "</table>\n",
              "<p>5 rows × 21 columns</p>\n",
              "</div>\n",
              "    <div class=\"colab-df-buttons\">\n",
              "\n",
              "  <div class=\"colab-df-container\">\n",
              "    <button class=\"colab-df-convert\" onclick=\"convertToInteractive('df-e909ff66-b233-4c08-b09f-7c688c22c32e')\"\n",
              "            title=\"Convert this dataframe to an interactive table.\"\n",
              "            style=\"display:none;\">\n",
              "\n",
              "  <svg xmlns=\"http://www.w3.org/2000/svg\" height=\"24px\" viewBox=\"0 -960 960 960\">\n",
              "    <path d=\"M120-120v-720h720v720H120Zm60-500h600v-160H180v160Zm220 220h160v-160H400v160Zm0 220h160v-160H400v160ZM180-400h160v-160H180v160Zm440 0h160v-160H620v160ZM180-180h160v-160H180v160Zm440 0h160v-160H620v160Z\"/>\n",
              "  </svg>\n",
              "    </button>\n",
              "\n",
              "  <style>\n",
              "    .colab-df-container {\n",
              "      display:flex;\n",
              "      gap: 12px;\n",
              "    }\n",
              "\n",
              "    .colab-df-convert {\n",
              "      background-color: #E8F0FE;\n",
              "      border: none;\n",
              "      border-radius: 50%;\n",
              "      cursor: pointer;\n",
              "      display: none;\n",
              "      fill: #1967D2;\n",
              "      height: 32px;\n",
              "      padding: 0 0 0 0;\n",
              "      width: 32px;\n",
              "    }\n",
              "\n",
              "    .colab-df-convert:hover {\n",
              "      background-color: #E2EBFA;\n",
              "      box-shadow: 0px 1px 2px rgba(60, 64, 67, 0.3), 0px 1px 3px 1px rgba(60, 64, 67, 0.15);\n",
              "      fill: #174EA6;\n",
              "    }\n",
              "\n",
              "    .colab-df-buttons div {\n",
              "      margin-bottom: 4px;\n",
              "    }\n",
              "\n",
              "    [theme=dark] .colab-df-convert {\n",
              "      background-color: #3B4455;\n",
              "      fill: #D2E3FC;\n",
              "    }\n",
              "\n",
              "    [theme=dark] .colab-df-convert:hover {\n",
              "      background-color: #434B5C;\n",
              "      box-shadow: 0px 1px 3px 1px rgba(0, 0, 0, 0.15);\n",
              "      filter: drop-shadow(0px 1px 2px rgba(0, 0, 0, 0.3));\n",
              "      fill: #FFFFFF;\n",
              "    }\n",
              "  </style>\n",
              "\n",
              "    <script>\n",
              "      const buttonEl =\n",
              "        document.querySelector('#df-e909ff66-b233-4c08-b09f-7c688c22c32e button.colab-df-convert');\n",
              "      buttonEl.style.display =\n",
              "        google.colab.kernel.accessAllowed ? 'block' : 'none';\n",
              "\n",
              "      async function convertToInteractive(key) {\n",
              "        const element = document.querySelector('#df-e909ff66-b233-4c08-b09f-7c688c22c32e');\n",
              "        const dataTable =\n",
              "          await google.colab.kernel.invokeFunction('convertToInteractive',\n",
              "                                                    [key], {});\n",
              "        if (!dataTable) return;\n",
              "\n",
              "        const docLinkHtml = 'Like what you see? Visit the ' +\n",
              "          '<a target=\"_blank\" href=https://colab.research.google.com/notebooks/data_table.ipynb>data table notebook</a>'\n",
              "          + ' to learn more about interactive tables.';\n",
              "        element.innerHTML = '';\n",
              "        dataTable['output_type'] = 'display_data';\n",
              "        await google.colab.output.renderOutput(dataTable, element);\n",
              "        const docLink = document.createElement('div');\n",
              "        docLink.innerHTML = docLinkHtml;\n",
              "        element.appendChild(docLink);\n",
              "      }\n",
              "    </script>\n",
              "  </div>\n",
              "\n",
              "\n",
              "    <div id=\"df-6ee75b46-ead6-4bc0-a71d-dcbbb4b4beb9\">\n",
              "      <button class=\"colab-df-quickchart\" onclick=\"quickchart('df-6ee75b46-ead6-4bc0-a71d-dcbbb4b4beb9')\"\n",
              "                title=\"Suggest charts\"\n",
              "                style=\"display:none;\">\n",
              "\n",
              "<svg xmlns=\"http://www.w3.org/2000/svg\" height=\"24px\"viewBox=\"0 0 24 24\"\n",
              "     width=\"24px\">\n",
              "    <g>\n",
              "        <path d=\"M19 3H5c-1.1 0-2 .9-2 2v14c0 1.1.9 2 2 2h14c1.1 0 2-.9 2-2V5c0-1.1-.9-2-2-2zM9 17H7v-7h2v7zm4 0h-2V7h2v10zm4 0h-2v-4h2v4z\"/>\n",
              "    </g>\n",
              "</svg>\n",
              "      </button>\n",
              "\n",
              "<style>\n",
              "  .colab-df-quickchart {\n",
              "      --bg-color: #E8F0FE;\n",
              "      --fill-color: #1967D2;\n",
              "      --hover-bg-color: #E2EBFA;\n",
              "      --hover-fill-color: #174EA6;\n",
              "      --disabled-fill-color: #AAA;\n",
              "      --disabled-bg-color: #DDD;\n",
              "  }\n",
              "\n",
              "  [theme=dark] .colab-df-quickchart {\n",
              "      --bg-color: #3B4455;\n",
              "      --fill-color: #D2E3FC;\n",
              "      --hover-bg-color: #434B5C;\n",
              "      --hover-fill-color: #FFFFFF;\n",
              "      --disabled-bg-color: #3B4455;\n",
              "      --disabled-fill-color: #666;\n",
              "  }\n",
              "\n",
              "  .colab-df-quickchart {\n",
              "    background-color: var(--bg-color);\n",
              "    border: none;\n",
              "    border-radius: 50%;\n",
              "    cursor: pointer;\n",
              "    display: none;\n",
              "    fill: var(--fill-color);\n",
              "    height: 32px;\n",
              "    padding: 0;\n",
              "    width: 32px;\n",
              "  }\n",
              "\n",
              "  .colab-df-quickchart:hover {\n",
              "    background-color: var(--hover-bg-color);\n",
              "    box-shadow: 0 1px 2px rgba(60, 64, 67, 0.3), 0 1px 3px 1px rgba(60, 64, 67, 0.15);\n",
              "    fill: var(--button-hover-fill-color);\n",
              "  }\n",
              "\n",
              "  .colab-df-quickchart-complete:disabled,\n",
              "  .colab-df-quickchart-complete:disabled:hover {\n",
              "    background-color: var(--disabled-bg-color);\n",
              "    fill: var(--disabled-fill-color);\n",
              "    box-shadow: none;\n",
              "  }\n",
              "\n",
              "  .colab-df-spinner {\n",
              "    border: 2px solid var(--fill-color);\n",
              "    border-color: transparent;\n",
              "    border-bottom-color: var(--fill-color);\n",
              "    animation:\n",
              "      spin 1s steps(1) infinite;\n",
              "  }\n",
              "\n",
              "  @keyframes spin {\n",
              "    0% {\n",
              "      border-color: transparent;\n",
              "      border-bottom-color: var(--fill-color);\n",
              "      border-left-color: var(--fill-color);\n",
              "    }\n",
              "    20% {\n",
              "      border-color: transparent;\n",
              "      border-left-color: var(--fill-color);\n",
              "      border-top-color: var(--fill-color);\n",
              "    }\n",
              "    30% {\n",
              "      border-color: transparent;\n",
              "      border-left-color: var(--fill-color);\n",
              "      border-top-color: var(--fill-color);\n",
              "      border-right-color: var(--fill-color);\n",
              "    }\n",
              "    40% {\n",
              "      border-color: transparent;\n",
              "      border-right-color: var(--fill-color);\n",
              "      border-top-color: var(--fill-color);\n",
              "    }\n",
              "    60% {\n",
              "      border-color: transparent;\n",
              "      border-right-color: var(--fill-color);\n",
              "    }\n",
              "    80% {\n",
              "      border-color: transparent;\n",
              "      border-right-color: var(--fill-color);\n",
              "      border-bottom-color: var(--fill-color);\n",
              "    }\n",
              "    90% {\n",
              "      border-color: transparent;\n",
              "      border-bottom-color: var(--fill-color);\n",
              "    }\n",
              "  }\n",
              "</style>\n",
              "\n",
              "      <script>\n",
              "        async function quickchart(key) {\n",
              "          const quickchartButtonEl =\n",
              "            document.querySelector('#' + key + ' button');\n",
              "          quickchartButtonEl.disabled = true;  // To prevent multiple clicks.\n",
              "          quickchartButtonEl.classList.add('colab-df-spinner');\n",
              "          try {\n",
              "            const charts = await google.colab.kernel.invokeFunction(\n",
              "                'suggestCharts', [key], {});\n",
              "          } catch (error) {\n",
              "            console.error('Error during call to suggestCharts:', error);\n",
              "          }\n",
              "          quickchartButtonEl.classList.remove('colab-df-spinner');\n",
              "          quickchartButtonEl.classList.add('colab-df-quickchart-complete');\n",
              "        }\n",
              "        (() => {\n",
              "          let quickchartButtonEl =\n",
              "            document.querySelector('#df-6ee75b46-ead6-4bc0-a71d-dcbbb4b4beb9 button');\n",
              "          quickchartButtonEl.style.display =\n",
              "            google.colab.kernel.accessAllowed ? 'block' : 'none';\n",
              "        })();\n",
              "      </script>\n",
              "    </div>\n",
              "\n",
              "    </div>\n",
              "  </div>\n"
            ],
            "application/vnd.google.colaboratory.intrinsic+json": {
              "type": "dataframe",
              "variable_name": "df_telecom"
            }
          },
          "metadata": {},
          "execution_count": 209
        }
      ]
    },
    {
      "cell_type": "code",
      "source": [
        "df_telecom.describe()"
      ],
      "metadata": {
        "id": "tAxxqBCNF11O",
        "colab": {
          "base_uri": "https://localhost:8080/",
          "height": 300
        },
        "outputId": "e322d12d-7c60-487f-a8f9-333c9b8cbc00"
      },
      "execution_count": 210,
      "outputs": [
        {
          "output_type": "execute_result",
          "data": {
            "text/plain": [
              "       Permanencia  Cargo Mensual  Cargo Total  Cargo Diario\n",
              "count  7267.000000    7267.000000  7267.000000   7267.000000\n",
              "mean     32.346498      64.720098  2277.182035      2.157337\n",
              "std      24.571773      30.129572  2268.648587      1.004319\n",
              "min       0.000000      18.250000     0.000000      0.608333\n",
              "25%       9.000000      35.425000   396.200000      1.180833\n",
              "50%      29.000000      70.300000  1389.200000      2.343333\n",
              "75%      55.000000      89.875000  3778.525000      2.995833\n",
              "max      72.000000     118.750000  8684.800000      3.958333"
            ],
            "text/html": [
              "\n",
              "  <div id=\"df-01b62928-959c-4d5e-a1fc-c934b203dd7d\" class=\"colab-df-container\">\n",
              "    <div>\n",
              "<style scoped>\n",
              "    .dataframe tbody tr th:only-of-type {\n",
              "        vertical-align: middle;\n",
              "    }\n",
              "\n",
              "    .dataframe tbody tr th {\n",
              "        vertical-align: top;\n",
              "    }\n",
              "\n",
              "    .dataframe thead th {\n",
              "        text-align: right;\n",
              "    }\n",
              "</style>\n",
              "<table border=\"1\" class=\"dataframe\">\n",
              "  <thead>\n",
              "    <tr style=\"text-align: right;\">\n",
              "      <th></th>\n",
              "      <th>Permanencia</th>\n",
              "      <th>Cargo Mensual</th>\n",
              "      <th>Cargo Total</th>\n",
              "      <th>Cargo Diario</th>\n",
              "    </tr>\n",
              "  </thead>\n",
              "  <tbody>\n",
              "    <tr>\n",
              "      <th>count</th>\n",
              "      <td>7267.000000</td>\n",
              "      <td>7267.000000</td>\n",
              "      <td>7267.000000</td>\n",
              "      <td>7267.000000</td>\n",
              "    </tr>\n",
              "    <tr>\n",
              "      <th>mean</th>\n",
              "      <td>32.346498</td>\n",
              "      <td>64.720098</td>\n",
              "      <td>2277.182035</td>\n",
              "      <td>2.157337</td>\n",
              "    </tr>\n",
              "    <tr>\n",
              "      <th>std</th>\n",
              "      <td>24.571773</td>\n",
              "      <td>30.129572</td>\n",
              "      <td>2268.648587</td>\n",
              "      <td>1.004319</td>\n",
              "    </tr>\n",
              "    <tr>\n",
              "      <th>min</th>\n",
              "      <td>0.000000</td>\n",
              "      <td>18.250000</td>\n",
              "      <td>0.000000</td>\n",
              "      <td>0.608333</td>\n",
              "    </tr>\n",
              "    <tr>\n",
              "      <th>25%</th>\n",
              "      <td>9.000000</td>\n",
              "      <td>35.425000</td>\n",
              "      <td>396.200000</td>\n",
              "      <td>1.180833</td>\n",
              "    </tr>\n",
              "    <tr>\n",
              "      <th>50%</th>\n",
              "      <td>29.000000</td>\n",
              "      <td>70.300000</td>\n",
              "      <td>1389.200000</td>\n",
              "      <td>2.343333</td>\n",
              "    </tr>\n",
              "    <tr>\n",
              "      <th>75%</th>\n",
              "      <td>55.000000</td>\n",
              "      <td>89.875000</td>\n",
              "      <td>3778.525000</td>\n",
              "      <td>2.995833</td>\n",
              "    </tr>\n",
              "    <tr>\n",
              "      <th>max</th>\n",
              "      <td>72.000000</td>\n",
              "      <td>118.750000</td>\n",
              "      <td>8684.800000</td>\n",
              "      <td>3.958333</td>\n",
              "    </tr>\n",
              "  </tbody>\n",
              "</table>\n",
              "</div>\n",
              "    <div class=\"colab-df-buttons\">\n",
              "\n",
              "  <div class=\"colab-df-container\">\n",
              "    <button class=\"colab-df-convert\" onclick=\"convertToInteractive('df-01b62928-959c-4d5e-a1fc-c934b203dd7d')\"\n",
              "            title=\"Convert this dataframe to an interactive table.\"\n",
              "            style=\"display:none;\">\n",
              "\n",
              "  <svg xmlns=\"http://www.w3.org/2000/svg\" height=\"24px\" viewBox=\"0 -960 960 960\">\n",
              "    <path d=\"M120-120v-720h720v720H120Zm60-500h600v-160H180v160Zm220 220h160v-160H400v160Zm0 220h160v-160H400v160ZM180-400h160v-160H180v160Zm440 0h160v-160H620v160ZM180-180h160v-160H180v160Zm440 0h160v-160H620v160Z\"/>\n",
              "  </svg>\n",
              "    </button>\n",
              "\n",
              "  <style>\n",
              "    .colab-df-container {\n",
              "      display:flex;\n",
              "      gap: 12px;\n",
              "    }\n",
              "\n",
              "    .colab-df-convert {\n",
              "      background-color: #E8F0FE;\n",
              "      border: none;\n",
              "      border-radius: 50%;\n",
              "      cursor: pointer;\n",
              "      display: none;\n",
              "      fill: #1967D2;\n",
              "      height: 32px;\n",
              "      padding: 0 0 0 0;\n",
              "      width: 32px;\n",
              "    }\n",
              "\n",
              "    .colab-df-convert:hover {\n",
              "      background-color: #E2EBFA;\n",
              "      box-shadow: 0px 1px 2px rgba(60, 64, 67, 0.3), 0px 1px 3px 1px rgba(60, 64, 67, 0.15);\n",
              "      fill: #174EA6;\n",
              "    }\n",
              "\n",
              "    .colab-df-buttons div {\n",
              "      margin-bottom: 4px;\n",
              "    }\n",
              "\n",
              "    [theme=dark] .colab-df-convert {\n",
              "      background-color: #3B4455;\n",
              "      fill: #D2E3FC;\n",
              "    }\n",
              "\n",
              "    [theme=dark] .colab-df-convert:hover {\n",
              "      background-color: #434B5C;\n",
              "      box-shadow: 0px 1px 3px 1px rgba(0, 0, 0, 0.15);\n",
              "      filter: drop-shadow(0px 1px 2px rgba(0, 0, 0, 0.3));\n",
              "      fill: #FFFFFF;\n",
              "    }\n",
              "  </style>\n",
              "\n",
              "    <script>\n",
              "      const buttonEl =\n",
              "        document.querySelector('#df-01b62928-959c-4d5e-a1fc-c934b203dd7d button.colab-df-convert');\n",
              "      buttonEl.style.display =\n",
              "        google.colab.kernel.accessAllowed ? 'block' : 'none';\n",
              "\n",
              "      async function convertToInteractive(key) {\n",
              "        const element = document.querySelector('#df-01b62928-959c-4d5e-a1fc-c934b203dd7d');\n",
              "        const dataTable =\n",
              "          await google.colab.kernel.invokeFunction('convertToInteractive',\n",
              "                                                    [key], {});\n",
              "        if (!dataTable) return;\n",
              "\n",
              "        const docLinkHtml = 'Like what you see? Visit the ' +\n",
              "          '<a target=\"_blank\" href=https://colab.research.google.com/notebooks/data_table.ipynb>data table notebook</a>'\n",
              "          + ' to learn more about interactive tables.';\n",
              "        element.innerHTML = '';\n",
              "        dataTable['output_type'] = 'display_data';\n",
              "        await google.colab.output.renderOutput(dataTable, element);\n",
              "        const docLink = document.createElement('div');\n",
              "        docLink.innerHTML = docLinkHtml;\n",
              "        element.appendChild(docLink);\n",
              "      }\n",
              "    </script>\n",
              "  </div>\n",
              "\n",
              "\n",
              "    <div id=\"df-0e285dee-4a68-4b59-8c6a-7edee203b748\">\n",
              "      <button class=\"colab-df-quickchart\" onclick=\"quickchart('df-0e285dee-4a68-4b59-8c6a-7edee203b748')\"\n",
              "                title=\"Suggest charts\"\n",
              "                style=\"display:none;\">\n",
              "\n",
              "<svg xmlns=\"http://www.w3.org/2000/svg\" height=\"24px\"viewBox=\"0 0 24 24\"\n",
              "     width=\"24px\">\n",
              "    <g>\n",
              "        <path d=\"M19 3H5c-1.1 0-2 .9-2 2v14c0 1.1.9 2 2 2h14c1.1 0 2-.9 2-2V5c0-1.1-.9-2-2-2zM9 17H7v-7h2v7zm4 0h-2V7h2v10zm4 0h-2v-4h2v4z\"/>\n",
              "    </g>\n",
              "</svg>\n",
              "      </button>\n",
              "\n",
              "<style>\n",
              "  .colab-df-quickchart {\n",
              "      --bg-color: #E8F0FE;\n",
              "      --fill-color: #1967D2;\n",
              "      --hover-bg-color: #E2EBFA;\n",
              "      --hover-fill-color: #174EA6;\n",
              "      --disabled-fill-color: #AAA;\n",
              "      --disabled-bg-color: #DDD;\n",
              "  }\n",
              "\n",
              "  [theme=dark] .colab-df-quickchart {\n",
              "      --bg-color: #3B4455;\n",
              "      --fill-color: #D2E3FC;\n",
              "      --hover-bg-color: #434B5C;\n",
              "      --hover-fill-color: #FFFFFF;\n",
              "      --disabled-bg-color: #3B4455;\n",
              "      --disabled-fill-color: #666;\n",
              "  }\n",
              "\n",
              "  .colab-df-quickchart {\n",
              "    background-color: var(--bg-color);\n",
              "    border: none;\n",
              "    border-radius: 50%;\n",
              "    cursor: pointer;\n",
              "    display: none;\n",
              "    fill: var(--fill-color);\n",
              "    height: 32px;\n",
              "    padding: 0;\n",
              "    width: 32px;\n",
              "  }\n",
              "\n",
              "  .colab-df-quickchart:hover {\n",
              "    background-color: var(--hover-bg-color);\n",
              "    box-shadow: 0 1px 2px rgba(60, 64, 67, 0.3), 0 1px 3px 1px rgba(60, 64, 67, 0.15);\n",
              "    fill: var(--button-hover-fill-color);\n",
              "  }\n",
              "\n",
              "  .colab-df-quickchart-complete:disabled,\n",
              "  .colab-df-quickchart-complete:disabled:hover {\n",
              "    background-color: var(--disabled-bg-color);\n",
              "    fill: var(--disabled-fill-color);\n",
              "    box-shadow: none;\n",
              "  }\n",
              "\n",
              "  .colab-df-spinner {\n",
              "    border: 2px solid var(--fill-color);\n",
              "    border-color: transparent;\n",
              "    border-bottom-color: var(--fill-color);\n",
              "    animation:\n",
              "      spin 1s steps(1) infinite;\n",
              "  }\n",
              "\n",
              "  @keyframes spin {\n",
              "    0% {\n",
              "      border-color: transparent;\n",
              "      border-bottom-color: var(--fill-color);\n",
              "      border-left-color: var(--fill-color);\n",
              "    }\n",
              "    20% {\n",
              "      border-color: transparent;\n",
              "      border-left-color: var(--fill-color);\n",
              "      border-top-color: var(--fill-color);\n",
              "    }\n",
              "    30% {\n",
              "      border-color: transparent;\n",
              "      border-left-color: var(--fill-color);\n",
              "      border-top-color: var(--fill-color);\n",
              "      border-right-color: var(--fill-color);\n",
              "    }\n",
              "    40% {\n",
              "      border-color: transparent;\n",
              "      border-right-color: var(--fill-color);\n",
              "      border-top-color: var(--fill-color);\n",
              "    }\n",
              "    60% {\n",
              "      border-color: transparent;\n",
              "      border-right-color: var(--fill-color);\n",
              "    }\n",
              "    80% {\n",
              "      border-color: transparent;\n",
              "      border-right-color: var(--fill-color);\n",
              "      border-bottom-color: var(--fill-color);\n",
              "    }\n",
              "    90% {\n",
              "      border-color: transparent;\n",
              "      border-bottom-color: var(--fill-color);\n",
              "    }\n",
              "  }\n",
              "</style>\n",
              "\n",
              "      <script>\n",
              "        async function quickchart(key) {\n",
              "          const quickchartButtonEl =\n",
              "            document.querySelector('#' + key + ' button');\n",
              "          quickchartButtonEl.disabled = true;  // To prevent multiple clicks.\n",
              "          quickchartButtonEl.classList.add('colab-df-spinner');\n",
              "          try {\n",
              "            const charts = await google.colab.kernel.invokeFunction(\n",
              "                'suggestCharts', [key], {});\n",
              "          } catch (error) {\n",
              "            console.error('Error during call to suggestCharts:', error);\n",
              "          }\n",
              "          quickchartButtonEl.classList.remove('colab-df-spinner');\n",
              "          quickchartButtonEl.classList.add('colab-df-quickchart-complete');\n",
              "        }\n",
              "        (() => {\n",
              "          let quickchartButtonEl =\n",
              "            document.querySelector('#df-0e285dee-4a68-4b59-8c6a-7edee203b748 button');\n",
              "          quickchartButtonEl.style.display =\n",
              "            google.colab.kernel.accessAllowed ? 'block' : 'none';\n",
              "        })();\n",
              "      </script>\n",
              "    </div>\n",
              "\n",
              "    </div>\n",
              "  </div>\n"
            ],
            "application/vnd.google.colaboratory.intrinsic+json": {
              "type": "dataframe",
              "summary": "{\n  \"name\": \"df_telecom\",\n  \"rows\": 8,\n  \"fields\": [\n    {\n      \"column\": \"Permanencia\",\n      \"properties\": {\n        \"dtype\": \"number\",\n        \"std\": 2558.1685122560853,\n        \"min\": 0.0,\n        \"max\": 7267.0,\n        \"num_unique_values\": 8,\n        \"samples\": [\n          32.34649786707032,\n          29.0,\n          7267.0\n        ],\n        \"semantic_type\": \"\",\n        \"description\": \"\"\n      }\n    },\n    {\n      \"column\": \"Cargo Mensual\",\n      \"properties\": {\n        \"dtype\": \"number\",\n        \"std\": 2547.8989994186936,\n        \"min\": 18.25,\n        \"max\": 7267.0,\n        \"num_unique_values\": 8,\n        \"samples\": [\n          64.72009770194028,\n          70.3,\n          7267.0\n        ],\n        \"semantic_type\": \"\",\n        \"description\": \"\"\n      }\n    },\n    {\n      \"column\": \"Cargo Total\",\n      \"properties\": {\n        \"dtype\": \"number\",\n        \"std\": 3162.9751263174294,\n        \"min\": 0.0,\n        \"max\": 8684.8,\n        \"num_unique_values\": 8,\n        \"samples\": [\n          2277.182035227742,\n          1389.2,\n          7267.0\n        ],\n        \"semantic_type\": \"\",\n        \"description\": \"\"\n      }\n    },\n    {\n      \"column\": \"Cargo Diario\",\n      \"properties\": {\n        \"dtype\": \"number\",\n        \"std\": 2568.553078525389,\n        \"min\": 0.6083333333333333,\n        \"max\": 7267.0,\n        \"num_unique_values\": 8,\n        \"samples\": [\n          2.1573365900646757,\n          2.3433333333333333,\n          7267.0\n        ],\n        \"semantic_type\": \"\",\n        \"description\": \"\"\n      }\n    }\n  ]\n}"
            }
          },
          "metadata": {},
          "execution_count": 210
        }
      ]
    },
    {
      "cell_type": "markdown",
      "source": [
        "## **Análisis por variable**"
      ],
      "metadata": {
        "id": "0KX-12atq0QG"
      }
    },
    {
      "cell_type": "markdown",
      "source": [
        "### **🔹 Antigüedad en meses:**"
      ],
      "metadata": {
        "id": "bFfjQy7SqUYM"
      }
    },
    {
      "cell_type": "markdown",
      "source": [
        "- Hay clientes con antigüedad = 0, es decir que podrían estar recién registrados, lo que explicaría valores bajos en facturación.\n",
        "- La antigüedad promedio (`~32` meses) sugiere que muchos clientes tienen una relación prolongada.\n",
        "- Distribución posiblemente sesgada hacia los extremos (clientes nuevos y antiguos)."
      ],
      "metadata": {
        "id": "WBLii1NTqYhD"
      }
    },
    {
      "cell_type": "markdown",
      "source": [
        "**Sugerencia:** crear grupos de antigüedad (ej. nuevos: `0–12`, leales: `>48`) para analizar la `Evasion`."
      ],
      "metadata": {
        "id": "X6NEC3j2rn9y"
      }
    },
    {
      "cell_type": "markdown",
      "source": [
        "### **🔹 Cargo mensual**"
      ],
      "metadata": {
        "id": "fERjqh4KrFEO"
      }
    },
    {
      "cell_type": "markdown",
      "source": [
        "- Varía bastante (de `~$18` a `~$118`), probablemente según servicios contratados.\n",
        "- La mediana es mayor que la media, lo que indica una ligera asimetría hacia la izquierda (clientes con cargos bajos)."
      ],
      "metadata": {
        "id": "n1-S62EKrJpF"
      }
    },
    {
      "cell_type": "markdown",
      "source": [
        "💡 Clientes con cargos más altos podrían ser más exigentes → mayor `Evasion`."
      ],
      "metadata": {
        "id": "upzawjQfr_Jy"
      }
    },
    {
      "cell_type": "markdown",
      "source": [
        "### **🔹 Gasto diario estimado**"
      ],
      "metadata": {
        "id": "XnDfpoLjrP_e"
      }
    },
    {
      "cell_type": "markdown",
      "source": [
        "- Directamente proporcional a `Cargo Mensual`.\n",
        "- Menos dispersión (`std ≈ 1.0`), pero aún muestra variabilidad en consumo diario."
      ],
      "metadata": {
        "id": "3s8n39lxruSD"
      }
    },
    {
      "cell_type": "markdown",
      "source": [
        "💡 Útil para normalizar ingresos y comparar clientes independientemente de su antigüedad."
      ],
      "metadata": {
        "id": "ZxCfUCwar4Mi"
      }
    },
    {
      "cell_type": "markdown",
      "source": [
        "## **Distribución de evasión**"
      ],
      "metadata": {
        "id": "uazm6rtwF2Mh"
      }
    },
    {
      "cell_type": "markdown",
      "source": [
        "### **📊 Visualización de la distribución de `Evasión`**"
      ],
      "metadata": {
        "id": "MwCIyukGF5x_"
      }
    },
    {
      "cell_type": "code",
      "source": [
        "import matplotlib.pyplot as plt\n",
        "import seaborn as sns"
      ],
      "metadata": {
        "id": "z7CQRe1qtV5n"
      },
      "execution_count": 211,
      "outputs": []
    },
    {
      "cell_type": "code",
      "source": [
        "# Estilo general\n",
        "sns.set(style='whitegrid')"
      ],
      "metadata": {
        "id": "ErWSrsN3F6c_"
      },
      "execution_count": 212,
      "outputs": []
    },
    {
      "cell_type": "code",
      "source": [
        "# Gráfico de barras\n",
        "plt.figure(figsize=(4, 6))\n",
        "sns.countplot(data=df_telecom, x='Evasión', hue='Evasión', palette='pastel', legend=False)\n",
        "plt.title('Cantidad de clientes por estado de evasión', fontsize=14)\n",
        "plt.ylabel('Cantidad')\n",
        "plt.xlabel('')\n",
        "plt.xticks([0, 1], ['Permanece', 'Abandona'])\n",
        "# Eliminar borde superior y el de la derecha\n",
        "sns.despine(top=True, right=True)\n",
        "plt.grid(False)\n",
        "for i, j in enumerate(df_telecom['Evasión'].value_counts()):\n",
        "    plt.text(i, j, str(j), ha='center', va='bottom')\n",
        "plt.savefig('dist_evasion.png', dpi=300, bbox_inches='tight')\n",
        "plt.show()"
      ],
      "metadata": {
        "colab": {
          "base_uri": "https://localhost:8080/",
          "height": 551
        },
        "id": "HUQent9JthWg",
        "outputId": "dfbd8b18-1df2-41be-add5-96fa8044f36d"
      },
      "execution_count": 213,
      "outputs": [
        {
          "output_type": "display_data",
          "data": {
            "text/plain": [
              "<Figure size 400x600 with 1 Axes>"
            ],
            "image/png": "[encoded data removed]"
          },
          "metadata": {}
        }
      ]
    },
    {
      "cell_type": "code",
      "source": [
        "# Conteo total de Evasión\n",
        "conteo_evasion = df_telecom['Evasión'].value_counts()"
      ],
      "metadata": {
        "id": "GYHSpyP262kH"
      },
      "execution_count": 214,
      "outputs": []
    },
    {
      "cell_type": "code",
      "source": [
        "# Gráfico de torta\n",
        "plt.figure(figsize=(10, 10))\n",
        "plt.subplot(1, 2, 2)\n",
        "\n",
        "plt.pie(conteo_evasion, labels=['Permanencia', 'Abandono'], autopct='%1.1f%%', colors=['skyblue', 'salmon'], startangle=90)\n",
        "plt.title('Proporción de baja de clientes', fontsize=14)\n",
        "plt.savefig('proporcion_evasion.png', dpi=300, bbox_inches='tight')\n",
        "plt.show()"
      ],
      "metadata": {
        "colab": {
          "base_uri": "https://localhost:8080/",
          "height": 413
        },
        "id": "Baqkd9o6uetQ",
        "outputId": "7088425f-4235-4dbc-96c3-741062ccc173"
      },
      "execution_count": 215,
      "outputs": [
        {
          "output_type": "display_data",
          "data": {
            "text/plain": [
              "<Figure size 1000x1000 with 1 Axes>"
            ],
            "image/png": "[encoded data removed]"
          },
          "metadata": {}
        }
      ]
    },
    {
      "cell_type": "markdown",
      "source": [
        "### **📈 1. Gráfico: Evasión según Permanencia**"
      ],
      "metadata": {
        "id": "1-szSlqfmKOn"
      }
    },
    {
      "cell_type": "code",
      "source": [
        "plt.figure(figsize=(6, 5))\n",
        "sns.boxplot(data=df_telecom, x='Evasión', hue='Evasión', y='Permanencia', palette='Set3', legend=False)\n",
        "plt.title('Distribución de permanencia según evasión', fontsize=14)\n",
        "plt.xlabel('')\n",
        "plt.ylabel('Meses de Permanencia')\n",
        "plt.xticks([0, 1], ['Permanencia', 'Abandono'])\n",
        "plt.yticks(range(0, 73, 6))\n",
        "plt.tight_layout()\n",
        "sns.despine(top=True, right=True)\n",
        "plt.savefig('dist_permanencia.png', dpi=300, bbox_inches='tight')\n",
        "plt.show()"
      ],
      "metadata": {
        "colab": {
          "base_uri": "https://localhost:8080/",
          "height": 501
        },
        "id": "o4BSvRC7mNFG",
        "outputId": "632dcba5-9070-43de-a3fd-d44e2ac797be"
      },
      "execution_count": 216,
      "outputs": [
        {
          "output_type": "display_data",
          "data": {
            "text/plain": [
              "<Figure size 600x500 with 1 Axes>"
            ],
            "image/png": "[encoded data removed]"
          },
          "metadata": {}
        }
      ]
    },
    {
      "cell_type": "markdown",
      "source": [
        "## **Recuento de evasión por variables categóricas**"
      ],
      "metadata": {
        "id": "JVy8EUKmF60f"
      }
    },
    {
      "cell_type": "markdown",
      "source": [
        "Ahora, exploraremos cómo se distribuye la evasión según variables categóricas, como 'Género', 'Tipo Contrato', 'Método de Pago', 'Adulto Mayor', 'Dependiente' entre otras.\n",
        "\n",
        "Este análisis puede revelar patrones interesantes, por ejemplo, si los clientes de ciertos perfiles tienen una mayor tendencia a cancelar el servicio, lo que ayudará a orientar acciones estratégicas."
      ],
      "metadata": {
        "id": "qZs2yODZGAF7"
      }
    },
    {
      "cell_type": "markdown",
      "source": [
        "### 🛠️ **Código generalizado para cualquier variable categórica**"
      ],
      "metadata": {
        "id": "IswliREVPo-N"
      }
    },
    {
      "cell_type": "code",
      "source": [
        "def resumen_evasion_por_categoria(df, columna):\n",
        "    resumen = df.groupby([columna, 'Evasión']).size().unstack(fill_value=0)\n",
        "    resumen.columns = ['Permanencia', 'Abandono']\n",
        "    plt.figure(figsize=(8, 4))\n",
        "    sns.countplot(data=df, x=columna, hue='Evasión', palette='pastel')\n",
        "    plt.title(f'Evasión según {columna.lower()}', fontsize=14)\n",
        "    plt.xlabel(columna, fontsize=12)\n",
        "    plt.ylabel('Cantidad de clientes')\n",
        "    plt.xlabel('')\n",
        "    plt.xticks(rotation=0)\n",
        "    sns.despine(top=True, right=True)\n",
        "    plt.grid(axis='x', linestyle='')\n",
        "    plt.legend(title='Estado', labels=['Permanencia', 'Abandono'], loc='upper right', bbox_to_anchor=(1.2, 1))\n",
        "    plt.tight_layout()\n",
        "    plt.savefig(f'evasion_{columna.lower()}.png', dpi=300, bbox_inches='tight')\n",
        "    plt.show()\n"
      ],
      "metadata": {
        "id": "6dGlKo_WPtes"
      },
      "execution_count": 217,
      "outputs": []
    },
    {
      "cell_type": "code",
      "source": [
        "resumen_evasion_por_categoria(df_telecom, 'Género')"
      ],
      "metadata": {
        "colab": {
          "base_uri": "https://localhost:8080/",
          "height": 401
        },
        "id": "-1Iic9rcPn5W",
        "outputId": "709d1716-3280-462d-f61a-26d2f7ae60f0"
      },
      "execution_count": 218,
      "outputs": [
        {
          "output_type": "display_data",
          "data": {
            "text/plain": [
              "<Figure size 800x400 with 1 Axes>"
            ],
            "image/png": "[encoded data removed]"
          },
          "metadata": {}
        }
      ]
    },
    {
      "cell_type": "code",
      "source": [
        "resumen_evasion_por_categoria(df_telecom, 'Tipo Contrato')"
      ],
      "metadata": {
        "colab": {
          "base_uri": "https://localhost:8080/",
          "height": 401
        },
        "id": "RxJmOzOINEL8",
        "outputId": "9ada6c51-65d7-4dbf-ec58-d8ad311c83c5"
      },
      "execution_count": 219,
      "outputs": [
        {
          "output_type": "display_data",
          "data": {
            "text/plain": [
              "<Figure size 800x400 with 1 Axes>"
            ],
            "image/png": "[encoded data removed]"
          },
          "metadata": {}
        }
      ]
    },
    {
      "cell_type": "code",
      "source": [
        "plt.figure(figsize=(8, 6))\n",
        "sns.countplot(data=df_telecom, x='Dependiente', hue='Evasión', palette='pastel')\n",
        "plt.title('Evasión según si es trabajador dependiente')\n",
        "plt.ylabel('Cantidad de clientes')\n",
        "plt.xlabel('')\n",
        "plt.legend(labels=['Permanencia', 'Abandono'])\n",
        "sns.despine(top=True, right=True)\n",
        "plt.grid(axis='x', linestyle='')\n",
        "plt.xticks([0, 1], ['Independientes', 'Dependientes'])\n",
        "plt.legend(title='Estado', labels=['Permanencia', 'Abandono'], loc='upper right', bbox_to_anchor=(1.18, 1.02))\n",
        "plt.tight_layout()\n",
        "plt.savefig('evasion_trabajador_dependiente.png', dpi=300, bbox_inches='tight')\n",
        "\n",
        "plt.show()"
      ],
      "metadata": {
        "colab": {
          "base_uri": "https://localhost:8080/",
          "height": 601
        },
        "id": "Ht_XBQzhS1hu",
        "outputId": "4e40f823-a01c-42c2-f8f4-286b76cdc694"
      },
      "execution_count": 220,
      "outputs": [
        {
          "output_type": "display_data",
          "data": {
            "text/plain": [
              "<Figure size 800x600 with 1 Axes>"
            ],
            "image/png": "[encoded data removed]"
          },
          "metadata": {}
        }
      ]
    },
    {
      "cell_type": "code",
      "source": [
        "# Crear resumen de evasión por 'Método de Pago'\n",
        "resumen_pago = df_telecom.groupby(['Método de Pago', 'Evasión']).size().unstack(fill_value=0)\n",
        "resumen_pago.columns = ['Permanecen', 'Se evaden']\n",
        "resumen_pago['Total'] = resumen_pago.sum(axis=1)\n",
        "resumen_pago['% Evasión'] = resumen_pago['Se evaden'] / resumen_pago['Total'] * 100"
      ],
      "metadata": {
        "id": "dEoWUZBafC38"
      },
      "execution_count": 221,
      "outputs": []
    },
    {
      "cell_type": "code",
      "source": [
        "# Ordenar por porcentaje de evasión\n",
        "resumen_ordenado = resumen_pago.sort_values('% Evasión', ascending=False).reset_index()"
      ],
      "metadata": {
        "id": "nvLa8QkbTtTk"
      },
      "execution_count": 222,
      "outputs": []
    },
    {
      "cell_type": "code",
      "source": [
        "plt.figure(figsize=(8, 4))\n",
        "sns.barplot(data=resumen_ordenado, y='Método de Pago', x='% Evasión', hue='Método de Pago', palette='Reds_r')\n",
        "plt.title('Porcentaje de evasión según método de pago', fontsize=14)\n",
        "plt.xlabel('% de clientes que se evaden')\n",
        "plt.ylabel('')\n",
        "plt.xlim(0, 50)\n",
        "sns.despine(top=True, right=True)\n",
        "plt.grid(axis='x', linestyle='')\n",
        "for i, j in enumerate(resumen_ordenado['% Evasión']):\n",
        "    plt.text(j, i, f'{j:.1f}%', ha='left', va='center')\n",
        "plt.tight_layout()\n",
        "plt.savefig('porcentaje_evasion_metodo_pago.png', dpi=300, bbox_inches='tight')\n",
        "plt.show()"
      ],
      "metadata": {
        "id": "Fu9upTqzVIBp",
        "colab": {
          "base_uri": "https://localhost:8080/",
          "height": 401
        },
        "outputId": "34382c0e-9f0b-421a-b37b-cd59af569973"
      },
      "execution_count": 223,
      "outputs": [
        {
          "output_type": "display_data",
          "data": {
            "text/plain": [
              "<Figure size 800x400 with 1 Axes>"
            ],
            "image/png": "[encoded data removed]"
          },
          "metadata": {}
        }
      ]
    },
    {
      "cell_type": "markdown",
      "source": [
        "## **Conteo de evasión por variables numéricas**"
      ],
      "metadata": {
        "id": "8yied7p9GCKS"
      }
    },
    {
      "cell_type": "markdown",
      "source": [
        "Analizar variables numéricas como 'Cargo Total' en función de la evasión (Evasión) permite identificar:\n",
        "\n",
        "- Si los clientes con cargos totales bajos tienden a cancelar.\n",
        "- Qué perfiles económicos son más propensos a darse de baja."
      ],
      "metadata": {
        "id": "Lt-TH2i-rZ88"
      }
    },
    {
      "cell_type": "markdown",
      "source": [
        "### 📦 **Distribución de Permanencia según evasión**"
      ],
      "metadata": {
        "id": "Led-BRLQrjcs"
      }
    },
    {
      "cell_type": "code",
      "source": [
        "plt.figure(figsize=(6, 6))\n",
        "sns.boxplot(data=df_telecom, x='Evasión', y='Cargo Total', hue='Evasión', palette='coolwarm', legend=False)\n",
        "plt.title('Distribución del cargo total según evasión', fontsize=14)\n",
        "plt.xlabel('')\n",
        "plt.ylabel('Cargo total acumulado')\n",
        "plt.xticks([0, 1], ['Permanencia', 'Abandono'])\n",
        "sns.despine(top=True, right=True)\n",
        "plt.tight_layout()\n",
        "plt.savefig('dist_cargo_total.png', dpi=300, bbox_inches='tight')\n",
        "plt.show()"
      ],
      "metadata": {
        "id": "Ac8dD927rZTR",
        "colab": {
          "base_uri": "https://localhost:8080/",
          "height": 601
        },
        "outputId": "76f3e2b3-72d3-4319-fef4-2ad8bf59b6ed"
      },
      "execution_count": 224,
      "outputs": [
        {
          "output_type": "display_data",
          "data": {
            "text/plain": [
              "<Figure size 600x600 with 1 Axes>"
            ],
            "image/png": "[encoded data removed]"
          },
          "metadata": {}
        }
      ]
    },
    {
      "cell_type": "markdown",
      "source": [
        "# **📄 Informe final**"
      ],
      "metadata": {
        "id": "0RzebSHMGKW0"
      }
    },
    {
      "cell_type": "markdown",
      "source": [
        "## 📘 **Introducción**"
      ],
      "metadata": {
        "id": "eG5cr7DNyCxQ"
      }
    },
    {
      "cell_type": "markdown",
      "source": [
        "Telecom X, una empresa del sector de telecomunicaciones, enfrenta un desafío crítico: una **alta tasa de cancelación de servicios por parte de sus clientes**, también conocida como evasión o churn. Este fenómeno tiene un impacto directo en los ingresos recurrentes de la compañía, eleva los costos de adquisición de nuevos usuarios y reduce la estabilidad financiera a largo plazo.\n",
        "\n",
        "Con el objetivo de **entender las causas del abandono de clientes**, se desarrolló un análisis exploratorio de datos utilizando Python y sus principales bibliotecas para ciencia de datos (pandas, numpy, matplotlib, seaborn). Este estudio busca responder preguntas como:\n",
        "\n",
        "- ¿Qué características comparten los clientes que se evaden?\n",
        "- ¿Existen patrones o comportamientos comunes en términos de facturación, permanencia o perfil del cliente?\n",
        "- ¿Qué segmentos presentan mayor riesgo de cancelación?\n",
        "\n",
        "Al identificar los factores asociados con la evasión, Telecom X podrá **diseñar estrategias proactivas de retención**, mejorar sus servicios y personalizar sus campañas de fidelización."
      ],
      "metadata": {
        "id": "eChWiGubyHfZ"
      }
    },
    {
      "cell_type": "markdown",
      "source": [
        "## 🧹 **Limpieza y Tratamiento de Datos**"
      ],
      "metadata": {
        "id": "0xtIPBeey4N_"
      }
    },
    {
      "cell_type": "markdown",
      "source": [
        "Con el objetivo de preparar los datos para su análisis, se siguió un proceso de ETL (Extracción, Transformación y Carga) que incluyó la importación, exploración, normalización, limpieza y estandarización de los datos entregados por Telecom X.\n",
        "\n",
        "### 🔽 **Extracción de datos**\n",
        "\n",
        "Se importó el conjunto de datos en formato JSON desde una fuente en línea y se cargó en un DataFrame de pandas. Los datos contenían información estructurada en campos anidados tipo diccionario (JSON string) para atributos como datos del cliente, teléfono, servicios contratados y detalles de facturación."
      ],
      "metadata": {
        "id": "i_SExpury-js"
      }
    },
    {
      "cell_type": "markdown",
      "source": [
        "**Primeros 5 registros del DataFrame**:\n",
        "\n",
        "|index|customerID|Churn|customer|phone|internet|account|\n",
        "|---|---|---|---|---|---|---|\n",
        "|0|0002-ORFBO|No|\\{'gender': 'Female', 'SeniorCitizen': 0, 'Partner': 'Yes', 'Dependents': 'Yes', 'tenure': 9\\}|\\{'PhoneService': 'Yes', 'MultipleLines': 'No'\\}|\\{'InternetService': 'DSL', 'OnlineSecurity': 'No', 'OnlineBackup': 'Yes', 'DeviceProtection': 'No', 'TechSupport': 'Yes', 'StreamingTV': 'Yes', 'StreamingMovies': 'No'\\}|\\{'Contract': 'One year', 'PaperlessBilling': 'Yes', 'PaymentMethod': 'Mailed check', 'Charges': \\{'Monthly': 65\\.6, 'Total': '593\\.3'\\}\\}|\n",
        "|1|0003-MKNFE|No|\\{'gender': 'Male', 'SeniorCitizen': 0, 'Partner': 'No', 'Dependents': 'No', 'tenure': 9\\}|\\{'PhoneService': 'Yes', 'MultipleLines': 'Yes'\\}|\\{'InternetService': 'DSL', 'OnlineSecurity': 'No', 'OnlineBackup': 'No', 'DeviceProtection': 'No', 'TechSupport': 'No', 'StreamingTV': 'No', 'StreamingMovies': 'Yes'\\}|\\{'Contract': 'Month-to-month', 'PaperlessBilling': 'No', 'PaymentMethod': 'Mailed check', 'Charges': \\{'Monthly': 59\\.9, 'Total': '542\\.4'\\}\\}|\n",
        "|2|0004-TLHLJ|Yes|\\{'gender': 'Male', 'SeniorCitizen': 0, 'Partner': 'No', 'Dependents': 'No', 'tenure': 4\\}|\\{'PhoneService': 'Yes', 'MultipleLines': 'No'\\}|\\{'InternetService': 'Fiber optic', 'OnlineSecurity': 'No', 'OnlineBackup': 'No', 'DeviceProtection': 'Yes', 'TechSupport': 'No', 'StreamingTV': 'No', 'StreamingMovies': 'No'\\}|\\{'Contract': 'Month-to-month', 'PaperlessBilling': 'Yes', 'PaymentMethod': 'Electronic check', 'Charges': \\{'Monthly': 73\\.9, 'Total': '280\\.85'\\}\\}|\n",
        "|3|0011-IGKFF|Yes|\\{'gender': 'Male', 'SeniorCitizen': 1, 'Partner': 'Yes', 'Dependents': 'No', 'tenure': 13\\}|\\{'PhoneService': 'Yes', 'MultipleLines': 'No'\\}|\\{'InternetService': 'Fiber optic', 'OnlineSecurity': 'No', 'OnlineBackup': 'Yes', 'DeviceProtection': 'Yes', 'TechSupport': 'No', 'StreamingTV': 'Yes', 'StreamingMovies': 'Yes'\\}|\\{'Contract': 'Month-to-month', 'PaperlessBilling': 'Yes', 'PaymentMethod': 'Electronic check', 'Charges': \\{'Monthly': 98\\.0, 'Total': '1237\\.85'\\}\\}|\n",
        "|4|0013-EXCHZ|Yes|\\{'gender': 'Female', 'SeniorCitizen': 1, 'Partner': 'Yes', 'Dependents': 'No', 'tenure': 3\\}|\\{'PhoneService': 'Yes', 'MultipleLines': 'No'\\}|\\{'InternetService': 'Fiber optic', 'OnlineSecurity': 'No', 'OnlineBackup': 'No', 'DeviceProtection': 'No', 'TechSupport': 'Yes', 'StreamingTV': 'Yes', 'StreamingMovies': 'No'\\}|\\{'Contract': 'Month-to-month', 'PaperlessBilling': 'Yes', 'PaymentMethod': 'Mailed check', 'Charges': \\{'Monthly': 83\\.9, 'Total': '267\\.4'\\}\\}|"
      ],
      "metadata": {
        "id": "5ZdA_BmyTsMv"
      }
    },
    {
      "cell_type": "markdown",
      "source": [
        "### 🔄 **Transformación inicial**\n",
        "\n",
        "Se identificó que varias columnas (`'customer', 'phone', 'internet', 'account'`) almacenaban información anidada. Estas columnas fueron normalizadas utilizando `pd.json_normalize()` dentro de un bucle, lo que permitió descomponerlas en múltiples columnas con datos atómicos.\n",
        "\n",
        "Luego, se eliminaron las columnas originales anidadas y se conservaron únicamente las columnas desglosadas."
      ],
      "metadata": {
        "id": "EFWG977rzURb"
      }
    },
    {
      "cell_type": "markdown",
      "source": [
        "### ✅ **Verificación y corrección de inconsistencias**\n",
        "\n",
        "Se realizó una auditoría de calidad de datos que reveló:\n",
        "\n",
        "- La columna `'Charges.Total'` tenía valores vacíos y estaba en formato object, por lo que se convirtió a `float64` reemplazando valores nulos por 0.\n",
        "- La columna `'SeniorCitizen'` se transformó correctamente a tipo booleano (True / False).\n",
        "- Se descartaron columnas irrelevantes como `'customerID'`.\n",
        "\n",
        "Además, se agregó una nueva variable `'Cargo Diario'`, estimada dividiendo la facturación mensual entre 30 días, para proporcionar un indicador más granular del comportamiento de pago."
      ],
      "metadata": {
        "id": "O5OUgRb3zXho"
      }
    },
    {
      "cell_type": "markdown",
      "source": [
        "### 🧪 **Estandarización de valores**\n",
        "\n",
        "Varias columnas contenían respuestas tipo \"Yes\" / \"No\", las cuales se transformaron a valores booleanos (True / False). Esto facilitó el análisis numérico y la construcción de visualizaciones más precisas.\n",
        "\n",
        "También se tradujeron al español los nombres de las columnas y los valores categóricos para mejorar la comprensión del análisis y facilitar su interpretación por parte del equipo de negocio."
      ],
      "metadata": {
        "id": "C18F9IMVzKp8"
      }
    },
    {
      "cell_type": "markdown",
      "source": [
        "### 🧾 **Resultado final**\n",
        "\n",
        "El *DataFrame* final contiene **7267 registros** con columnas relevantes y limpias, listas para ser utilizadas en el análisis exploratorio. Las variables clave como `'Evasión'`, `'Permanencia'`, `'Cargo Total'`, `'Tipo Contrato'` y `'Método de Pago'` fueron validadas, transformadas y estandarizadas correctamente.\n",
        "\n",
        "Además, el conjunto de datos fue exportado como archivo `.csv` bajo el nombre `Datos_TelecomX.csv`, listo para su uso en procesos posteriores.\n",
        "\n"
      ],
      "metadata": {
        "id": "W2rCyE3DznmC"
      }
    },
    {
      "cell_type": "markdown",
      "source": [
        "**Primeros 5 registros del DataFrame Final**:\n",
        "\n",
        "|index|Evasión|Género|Adulto Mayor|Tiene Pareja|Dependiente|Permanencia|Servicio Telefónico|Líneas Múltiples|Servicio Internet|Seguridad en Línea|Respaldo en Linea|Protección Dispositivo|Soporte Técnico|Streaming de TV|Streaming de Películas|Tipo Contrato|Facturación Electronica|Método de Pago|Cargo Mensual|Cargo Total|\n",
        "|---|---|---|---|---|---|---|---|---|---|---|---|---|---|---|---|---|---|---|---|---|\n",
        "|0|false|Femenino|false|true|true|9|true|false|DSL|false|true|false|true|true|false|Un año|true|Cheque por correo|65\\.6|593\\.3|\n",
        "|1|false|Masculino|false|false|false|9|true|true|DSL|false|false|false|false|false|true|Mes-a-Mes|false|Cheque por correo|59\\.9|542\\.4|\n",
        "|2|true|Masculino|false|false|false|4|true|false|Fibra óptica|false|false|true|false|false|false|Mes-a-Mes|true|Cheque electrónico|73\\.9|280\\.85|\n",
        "|3|true|Masculino|true|true|false|13|true|false|Fibra óptica|false|true|true|false|true|true|Mes-a-Mes|true|Cheque electrónico|98\\.0|1237\\.85|\n",
        "|4|true|Femenino|true|true|false|3|true|false|Fibra óptica|false|false|false|true|true|false|Mes-a-Mes|true|Cheque por correo|83\\.9|267\\.4|"
      ],
      "metadata": {
        "id": "oWHydFMnT9oI"
      }
    },
    {
      "cell_type": "markdown",
      "source": [
        "## 📊 **Análisis Exploratorio de Datos (EDA)**"
      ],
      "metadata": {
        "id": "VHmyPG4C16QQ"
      }
    },
    {
      "cell_type": "markdown",
      "source": [
        "Con el conjunto de datos limpio y estandarizado, se procedió a realizar un análisis exploratorio para comprender mejor los patrones de comportamiento de los clientes, especialmente en relación con la evasión del servicio. Se utilizaron visualizaciones para detectar tendencias, relaciones y características clave asociadas con los clientes que abandonan Telecom X."
      ],
      "metadata": {
        "id": "582Sgu-I19tf"
      }
    },
    {
      "cell_type": "markdown",
      "source": [
        "### 📉 **Distribución general de evasión**\n",
        "\n",
        "Se analizaron las proporciones generales de clientes que permanecen y los que se evaden."
      ],
      "metadata": {
        "id": "rdcGQ6iX2AwH"
      }
    },
    {
      "cell_type": "markdown",
      "source": [
        "- **Gráfico de barras**: muestra el número absoluto de clientes en cada categoría (Permanece vs Abandona).\n",
        "\n",
        "<img src=\"https://drive.google.com/uc?id=1KzJ45XEXdqrTqbMjsDbDaSIsen38l8TP&\" alt=\"Descripción de la imagen\" width=\"400\">"
      ],
      "metadata": {
        "id": "cKuJZXUGMlT8"
      }
    },
    {
      "cell_type": "markdown",
      "source": [
        "- **Gráfico de torta**: permite observar la proporción relativa de evasión.\n",
        "\n",
        "<img src=\"https://drive.google.com/uc?id=1tkup42KP9QrwmLVvuWxtx_eGBRZYsiCZ\" alt=\"Descripción de la imagen\" width=\"400\">"
      ],
      "metadata": {
        "id": "d60bPLd5Mpeu"
      }
    },
    {
      "cell_type": "markdown",
      "source": [
        "**Resultado**: Aproximadamente 25.7% de los clientes han abandonado el servicio, mientras que 74.3% se mantienen activos."
      ],
      "metadata": {
        "id": "53o1ZmARMraq"
      }
    },
    {
      "cell_type": "markdown",
      "source": [
        "### 📦 **Evasión según permanencia**\n",
        "\n",
        "Se utilizó un boxplot para evaluar la relación entre el tiempo de permanencia (en meses) y la evasión.\n",
        "\n",
        "<img src=\"https://drive.google.com/uc?id=1ccmj5KHrV9QMoBvEH2w14vQKVyeE2A7W\" alt=\"Descripción de la imagen\" width=\"500\">"
      ],
      "metadata": {
        "id": "gikvCTsoMv6X"
      }
    },
    {
      "cell_type": "markdown",
      "source": [
        "**Se observó que**:\n",
        "\n",
        "- Los clientes que abandonan tienden a tener menor tiempo de permanencia.\n",
        "- Los clientes con contratos más prolongados tienden a mantenerse, lo que sugiere una correlación entre fidelidad y permanencia."
      ],
      "metadata": {
        "id": "AI1XVJlsNFRs"
      }
    },
    {
      "cell_type": "markdown",
      "source": [
        "### 🧑‍🤝‍🧑 **Evasión según variables categóricas**\n",
        "\n",
        "Se analizaron diversas variables categóricas para identificar patrones en la evasión. Se utilizaron gráficos de barras agrupadas para comparar las tasas de evasión en distintas categorías:\n",
        "\n",
        "**Género**: No se evidencian diferencias significativas entre hombres y mujeres.\n",
        "\n",
        "<img src=\"https://drive.google.com/uc?id=12sE2RH6eYO9n_twPPrdCIPy71rsOzbPB\" alt=\"Descripción de la imagen\" width=\"700\">\n",
        "\n",
        "**Tipo de contrato**: Los clientes con contrato mensual (Mes-a-Mes) presentan una tasa mucho mayor de evasión, mientras que los contratos de uno o dos años se asocian con una mayor retención.\n",
        "\n",
        "<img src=\"https://drive.google.com/uc?id=1Hr8UcbAmzj94gjrmFV-b5325iHeMKcO0\" alt=\"Descripción de la imagen\" width=\"700\">\n",
        "\n",
        "**Dependencia laboral**: Los clientes independientes (sin dependientes) tienen una mayor probabilidad de evasión.\n",
        "\n",
        "<img src=\"https://drive.google.com/uc?id=1JfSbEoz-fyHGeA-8n1IglAIIRa6NtiKq\" alt=\"Descripción de la imagen\" width=\"700\">"
      ],
      "metadata": {
        "id": "vBNn7gHeOf04"
      }
    },
    {
      "cell_type": "markdown",
      "source": [
        "### 💳 **Evasión según método de pago**\n",
        "\n",
        "Dado que hay varias categorías de métodos de pago, se utilizó un gráfico de barras horizontales para observar mejor la variación:\n",
        "\n",
        "<img src=\"https://drive.google.com/uc?id=10Hrv6h9ogFwVl6p2KILJWqzYVXz51HcW\" alt=\"Descripción de la imagen\" width=\"800\">\n",
        "\n",
        "- Los clientes que utilizan cheque electrónico tienen la mayor tasa de evasión.\n",
        "- En contraste, quienes usan tarjeta de crédito automática presentan una menor probabilidad de abandonar el servicio.\n",
        "\n"
      ],
      "metadata": {
        "id": "fynWoYZjQQEx"
      }
    },
    {
      "cell_type": "markdown",
      "source": [
        "Esta diferencia sugiere que los métodos de pago automáticos podrían estar relacionados con una mayor fidelidad."
      ],
      "metadata": {
        "id": "5-6kmkx1Qd1m"
      }
    },
    {
      "cell_type": "markdown",
      "source": [
        "### 💵 **Evasión según variables numéricas**\n",
        "\n",
        "Finalmente, se exploró la variable Cargo Total mediante un boxplot:\n",
        "\n",
        "<img src=\"https://drive.google.com/uc?id=1IMJqPAldJt6A4ilHtNdKnxMaSVVsGx-3\" alt=\"Descripción de la imagen\" width=\"600\">"
      ],
      "metadata": {
        "id": "MQTsuXH8Q-tq"
      }
    },
    {
      "cell_type": "markdown",
      "source": [
        "Los clientes que abandonan el servicio tienen, en general, menores cargos acumulados, lo que concuerda con la observación previa de menor tiempo de permanencia."
      ],
      "metadata": {
        "id": "NnwMLnSbRCTA"
      }
    },
    {
      "cell_type": "markdown",
      "source": [
        "## ✅ Conclusiones e Insights"
      ],
      "metadata": {
        "id": "J6UkX3GpRop6"
      }
    },
    {
      "cell_type": "markdown",
      "source": [
        "El análisis realizado sobre el comportamiento de los clientes de Telecom X reveló hallazgos clave que explican parte del problema de evasión. A continuación, se destacan los principales:\n",
        "\n",
        "1. **Alta tasa de evasión**: Aproximadamente **1 de cada 4 clientes** abandona el servicio, lo que representa un desafío significativo para la empresa.\n",
        "1. **Menor permanencia, mayor evasión**: Los clientes que cancelan tienden a haber estado suscritos por menos tiempo. Existe una clara correlación entre **baja permanencia y alta probabilidad de evasión**.\n",
        "1. **Contratos mensuales están más expuestos**: Los clientes con contratos de tipo \"**Mes-a-Mes**\" presentan una **tasa de evasión sustancialmente mayor**, comparado con aquellos con contratos anuales o bianuales.\n",
        "1. **Métodos de pago asociados a abandono**: Se identificó que clientes que utilizan **cheque electrónico o por correo** tienen una tasa más alta de evasión. En contraste, los métodos automáticos (tarjeta o transferencia) están asociados con mayor retención.\n",
        "1. **Perfil demográfico y servicios**: No se encontraron diferencias notables en evasión por género, pero sí por **situación familiar**: quienes no **tienen pareja o dependientes** tienden a cancelar con mayor frecuencia. También se observó que ciertos servicios opcionales como **soporte técnico** o **respaldo en línea** pueden influir positivamente en la retención."
      ],
      "metadata": {
        "id": "ERb1E1b5RtGb"
      }
    },
    {
      "cell_type": "markdown",
      "source": [
        "## 🎯 **Recomendaciones Estratégicas**"
      ],
      "metadata": {
        "id": "N2dh4QbISkmb"
      }
    },
    {
      "cell_type": "markdown",
      "source": [
        "Basado en los patrones detectados en los datos, se proponen las siguientes acciones para reducir la evasión de clientes:"
      ],
      "metadata": {
        "id": "5yrWWve7SoRt"
      }
    },
    {
      "cell_type": "markdown",
      "source": [
        "1. **Fomentar contratos de largo plazo**\n",
        "    - Implementar incentivos o beneficios especiales para quienes opten por contratos anuales o bianuales, ya que estos están claramente asociados con menor evasión.\n",
        "1. **Promover métodos de pago automáticos**\n",
        "    - Otorgar descuentos o recompensas a clientes que se cambien a **tarjeta de crédito** o **transferencia automática**.\n",
        "    - Simplificar el proceso de migración de método de pago.\n",
        "1. **Detectar clientes en riesgo temprano**\n",
        "    - Crear alertas para clientes con menos de 6 meses de permanencia o con cargos bajos acumulados, ya que estos perfiles son más propensos a abandonar.\n",
        "1. **Optimizar servicios complementarios**\n",
        "    - Aumentar la visibilidad y valor percibido de servicios como **respaldo en línea**, **soporte técnico** y **protección de dispositivos**, que se relacionan con mayor retención.\n",
        "1. **Segmentar y personalizar la comunicación**\n",
        "    - Usar los hallazgos del perfil de evasión para diseñar campañas dirigidas según tipo de cliente, contrato y método de pago.\n",
        "1. **Explorar encuestas de salida**\n",
        "    - Implementar encuestas automatizadas a clientes que cancelan para identificar razones específicas y validar los patrones observados en los datos."
      ],
      "metadata": {
        "id": "Na-dPeZlSo2u"
      }
    },
    {
      "cell_type": "markdown",
      "source": [
        "# 📌 **¡Extra! Análisis de correlación entre variables**"
      ],
      "metadata": {
        "id": "fyZL8bl4GY64"
      }
    },
    {
      "cell_type": "markdown",
      "source": [
        "## 📊 **1. Matriz de correlación**"
      ],
      "metadata": {
        "id": "sBMywSYTGeCg"
      }
    },
    {
      "cell_type": "markdown",
      "source": [
        "Calculamos la matriz de correlación de las variables numéricas y booleanas convertidas a `int`, ya que `pandas.DataFrame.corr()` funciona únicamente con valores numéricos."
      ],
      "metadata": {
        "id": "z6qmJCxxV6yg"
      }
    },
    {
      "cell_type": "code",
      "source": [
        "# Convertir columnas booleanas a int para calcular la correlación\n",
        "df_corr = df_telecom.copy()\n",
        "df_corr = df_corr.astype({col: int for col in df_corr.select_dtypes('bool').columns})"
      ],
      "metadata": {
        "id": "49jKPNkEGgg_"
      },
      "execution_count": 225,
      "outputs": []
    },
    {
      "cell_type": "code",
      "source": [
        "# Calcular la matriz de correlación\n",
        "correlaciones = df_corr.corr(numeric_only=True)"
      ],
      "metadata": {
        "id": "e6Q3ScQDWGRb"
      },
      "execution_count": 226,
      "outputs": []
    },
    {
      "cell_type": "code",
      "source": [
        "# Visualizar correlación con 'Evasión'\n",
        "import matplotlib.pyplot as plt\n",
        "import seaborn as sns\n",
        "\n",
        "plt.figure(figsize=(10, 8))\n",
        "sns.heatmap(correlaciones[['Evasión']].sort_values(by='Evasión', ascending=False),\n",
        "            annot=True, cmap='coolwarm', center=0, linewidths=0.5)\n",
        "plt.title('Correlación de variables con la Evasión', fontsize=14)\n",
        "plt.tight_layout()\n",
        "plt.show()"
      ],
      "metadata": {
        "colab": {
          "base_uri": "https://localhost:8080/",
          "height": 801
        },
        "id": "AuT1j3ZVWJZa",
        "outputId": "f3ca8dcf-8bc0-408c-b35d-2dfa0f1b0851"
      },
      "execution_count": 227,
      "outputs": [
        {
          "output_type": "display_data",
          "data": {
            "text/plain": [
              "<Figure size 1000x800 with 2 Axes>"
            ],
            "image/png": "[encoded data removed]"
          },
          "metadata": {}
        }
      ]
    },
    {
      "cell_type": "markdown",
      "source": [
        "## 🔍 **Insights observados**\n",
        "\n",
        "- `Tipo Contrato (Mes-a-Mes)` y `Método de Pago (Cheque electrónico)` tienen fuerte correlación positiva con la evasión.\n",
        "- `Permanencia`, `Cargo Total` y `Cargo Diario` muestran correlación negativa, indicando que clientes con más tiempo o mayor inversión suelen permanecer más.\n",
        "- Servicios como `Soporte Técnico`, `Protección Dispositivo` y `Seguridad en Línea` tienen ligera correlación negativa, sugiriendo una leve relación entre acceso a estos servicios y menor evasión."
      ],
      "metadata": {
        "id": "HzhiXvAiWPmO"
      }
    },
    {
      "cell_type": "markdown",
      "source": [
        "## 🔢 **2. Relación entre número de servicios contratados y evasión**"
      ],
      "metadata": {
        "id": "Bc3gEMGTWmsK"
      }
    },
    {
      "cell_type": "markdown",
      "source": [
        "Calculamos una nueva variable: el número de servicios digitales contratados por cliente."
      ],
      "metadata": {
        "id": "bkcgyzEsWpeL"
      }
    },
    {
      "cell_type": "code",
      "source": [
        "# Lista de servicios booleanos\n",
        "servicios = [\n",
        "    'Servicio Telefónico', 'Líneas Múltiples', 'Seguridad en Línea',\n",
        "    'Respaldo en Linea', 'Protección Dispositivo', 'Soporte Técnico',\n",
        "    'Streaming de TV', 'Streaming de Películas'\n",
        "]"
      ],
      "metadata": {
        "id": "XW51sD7WWrcC"
      },
      "execution_count": 228,
      "outputs": []
    },
    {
      "cell_type": "code",
      "source": [
        "# Crear columna con el conteo de servicios contratados\n",
        "df_telecom['Servicios Contratados'] = df_telecom[servicios].sum(axis=1)"
      ],
      "metadata": {
        "id": "WLS_LxV8WuGx"
      },
      "execution_count": 229,
      "outputs": []
    },
    {
      "cell_type": "code",
      "source": [
        "# Boxplot de servicios vs evasión\n",
        "plt.figure(figsize=(6, 4))\n",
        "sns.boxplot(data=df_telecom, x='Evasión', y='Servicios Contratados', hue='Evasión', palette='Set2', legend=False)\n",
        "plt.title('Servicios contratados según estado de evasión', fontsize=14)\n",
        "plt.xlabel('')\n",
        "plt.ylabel('Cantidad de servicios contratados')\n",
        "plt.xticks([0, 1], ['Permanencia', 'Abandono'])\n",
        "sns.despine()\n",
        "plt.tight_layout()\n",
        "plt.show()"
      ],
      "metadata": {
        "colab": {
          "base_uri": "https://localhost:8080/",
          "height": 401
        },
        "id": "yR5UkjOwWwGy",
        "outputId": "71bb1b98-85bb-41fd-eee9-434cc6ab71d5"
      },
      "execution_count": 230,
      "outputs": [
        {
          "output_type": "display_data",
          "data": {
            "text/plain": [
              "<Figure size 600x400 with 1 Axes>"
            ],
            "image/png": "[encoded data removed]"
          },
          "metadata": {}
        }
      ]
    },
    {
      "cell_type": "markdown",
      "source": [
        "## ✅ **Conclusión del análisis de correlación**"
      ],
      "metadata": {
        "id": "5TTezR_WW6tB"
      }
    },
    {
      "cell_type": "markdown",
      "source": [
        "- Cuantos menos servicios tiene un cliente, **es más probable que abandone la compañía**.\n",
        "- Las **cuentas diarias más bajas** también muestran mayor relación con evasión.\n",
        "- Este tipo de análisis es especialmente útil como **base para modelos de machine learning**, ya que permite seleccionar las variables más influyentes en la predicción de abandono."
      ],
      "metadata": {
        "id": "GewEdXK8W-Gd"
      }
    },
    {
      "cell_type": "markdown",
      "source": [],
      "metadata": {
        "id": "K1cJ5umtGg0r"
      }
    }
  ]
}